{
 "cells": [
  {
   "cell_type": "code",
   "execution_count": 1,
   "metadata": {},
   "outputs": [],
   "source": [
    "x=2"
   ]
  },
  {
   "cell_type": "code",
   "execution_count": 2,
   "metadata": {},
   "outputs": [
    {
     "name": "stdout",
     "output_type": "stream",
     "text": [
      "2\n"
     ]
    }
   ],
   "source": [
    "print(x)"
   ]
  },
  {
   "cell_type": "code",
   "execution_count": 4,
   "metadata": {},
   "outputs": [],
   "source": [
    "x=x+2"
   ]
  },
  {
   "cell_type": "code",
   "execution_count": 5,
   "metadata": {},
   "outputs": [
    {
     "name": "stdout",
     "output_type": "stream",
     "text": [
      "6\n"
     ]
    }
   ],
   "source": [
    "print(x)"
   ]
  },
  {
   "cell_type": "code",
   "execution_count": 6,
   "metadata": {
    "scrolled": true
   },
   "outputs": [
    {
     "data": {
      "text/plain": [
       "21"
      ]
     },
     "execution_count": 6,
     "metadata": {},
     "output_type": "execute_result"
    }
   ],
   "source": [
    "x+15"
   ]
  },
  {
   "cell_type": "code",
   "execution_count": 8,
   "metadata": {},
   "outputs": [],
   "source": [
    "x=\"srikanth\""
   ]
  },
  {
   "cell_type": "code",
   "execution_count": 9,
   "metadata": {},
   "outputs": [
    {
     "ename": "TypeError",
     "evalue": "must be str, not int",
     "output_type": "error",
     "traceback": [
      "\u001b[1;31m---------------------------------------------------------------------------\u001b[0m",
      "\u001b[1;31mTypeError\u001b[0m                                 Traceback (most recent call last)",
      "\u001b[1;32m<ipython-input-9-aa082c475a52>\u001b[0m in \u001b[0;36m<module>\u001b[1;34m()\u001b[0m\n\u001b[1;32m----> 1\u001b[1;33m \u001b[0mx\u001b[0m\u001b[1;33m+\u001b[0m\u001b[1;36m2\u001b[0m \u001b[1;31m#\u001b[0m\u001b[1;33m\u001b[0m\u001b[0m\n\u001b[0m",
      "\u001b[1;31mTypeError\u001b[0m: must be str, not int"
     ]
    }
   ],
   "source": [
    "x+2 #Will throw a Type Error"
   ]
  },
  {
   "cell_type": "code",
   "execution_count": 10,
   "metadata": {},
   "outputs": [
    {
     "data": {
      "text/plain": [
       "'srikanth2'"
      ]
     },
     "execution_count": 10,
     "metadata": {},
     "output_type": "execute_result"
    }
   ],
   "source": [
    "x+str(2)"
   ]
  },
  {
   "cell_type": "code",
   "execution_count": 11,
   "metadata": {},
   "outputs": [
    {
     "ename": "NameError",
     "evalue": "name 'y' is not defined",
     "output_type": "error",
     "traceback": [
      "\u001b[1;31m---------------------------------------------------------------------------\u001b[0m",
      "\u001b[1;31mNameError\u001b[0m                                 Traceback (most recent call last)",
      "\u001b[1;32m<ipython-input-11-9a8c1eba2e9c>\u001b[0m in \u001b[0;36m<module>\u001b[1;34m()\u001b[0m\n\u001b[1;32m----> 1\u001b[1;33m \u001b[0mx\u001b[0m\u001b[1;33m=\u001b[0m\u001b[0my\u001b[0m\u001b[1;33m+\u001b[0m\u001b[1;36m3\u001b[0m \u001b[1;31m# Error because y is not defined\u001b[0m\u001b[1;33m\u001b[0m\u001b[0m\n\u001b[0m",
      "\u001b[1;31mNameError\u001b[0m: name 'y' is not defined"
     ]
    }
   ],
   "source": [
    "x=y+3 # Error because y is not defined"
   ]
  },
  {
   "cell_type": "code",
   "execution_count": 13,
   "metadata": {},
   "outputs": [
    {
     "name": "stdout",
     "output_type": "stream",
     "text": [
      "3\n",
      "Smaller\n",
      "Finish\n"
     ]
    }
   ],
   "source": [
    "x=int(input())\n",
    "if x<10:\n",
    "    print('Smaller')\n",
    "if x>20:\n",
    "    print(\"Bigger\")\n",
    "print(\"Finish\")"
   ]
  },
  {
   "cell_type": "markdown",
   "metadata": {},
   "source": [
    "## Intendation is set same across all the files in project."
   ]
  },
  {
   "cell_type": "code",
   "execution_count": 14,
   "metadata": {},
   "outputs": [
    {
     "name": "stdout",
     "output_type": "stream",
     "text": [
      "12\n"
     ]
    }
   ],
   "source": [
    "%run simpleexp.py"
   ]
  },
  {
   "cell_type": "markdown",
   "metadata": {},
   "source": [
    "## Calling Files from JupyterNotebooks"
   ]
  },
  {
   "cell_type": "code",
   "execution_count": 23,
   "metadata": {},
   "outputs": [
    {
     "name": "stdout",
     "output_type": "stream",
     "text": [
      "2\n",
      "0.3333333333333333\n",
      "0.05555555555555555\n",
      "0.009259259259259259\n",
      "0.0015432098765432098\n",
      "0.00025720164609053495\n",
      "4.286694101508916e-05\n",
      "7.144490169181527e-06\n",
      "1.1907483615302546e-06\n",
      "1.9845806025504244e-07\n",
      "3.307634337584041e-08\n",
      "5.512723895973401e-09\n",
      "9.187873159955669e-10\n",
      "1.531312193325945e-10\n",
      "2.552186988876575e-11\n",
      "4.253644981460958e-12\n",
      "7.08940830243493e-13\n",
      "1.1815680504058217e-13\n",
      "1.969280084009703e-14\n",
      "3.282133473349505e-15\n",
      "5.470222455582509e-16\n",
      "9.117037425970848e-17\n",
      "1.5195062376618078e-17\n",
      "2.532510396103013e-18\n",
      "4.220850660171688e-19\n",
      "7.034751100286147e-20\n",
      "1.1724585167143577e-20\n",
      "1.954097527857263e-21\n",
      "3.2568292130954385e-22\n",
      "5.428048688492397e-23\n",
      "9.046747814153996e-24\n",
      "1.5077913023589994e-24\n",
      "2.5129855039316657e-25\n",
      "4.188309173219443e-26\n",
      "6.980515288699071e-27\n",
      "1.1634192147831785e-27\n",
      "1.9390320246386309e-28\n",
      "3.2317200410643846e-29\n",
      "5.386200068440641e-30\n",
      "8.977000114067734e-31\n",
      "1.4961666856779557e-31\n",
      "2.4936111427965926e-32\n",
      "4.1560185713276545e-33\n",
      "6.926697618879424e-34\n",
      "1.1544496031465706e-34\n",
      "1.924082671910951e-35\n",
      "3.2068044531849184e-36\n",
      "5.344674088641531e-37\n",
      "8.907790147735885e-38\n",
      "1.4846316912893141e-38\n",
      "2.474386152148857e-39\n",
      "4.1239769202480945e-40\n",
      "6.873294867080158e-41\n",
      "1.1455491445133596e-41\n",
      "1.9092485741889325e-42\n",
      "3.182080956981554e-43\n",
      "5.303468261635923e-44\n",
      "8.839113769393206e-45\n",
      "1.473185628232201e-45\n",
      "2.4553093803870018e-46\n",
      "4.092182300645003e-47\n",
      "6.820303834408339e-48\n",
      "1.1367173057347232e-48\n",
      "1.8945288428912052e-49\n",
      "3.157548071485342e-50\n",
      "5.262580119142237e-51\n",
      "8.770966865237061e-52\n",
      "1.4618278108728436e-52\n",
      "2.4363796847880726e-53\n",
      "4.060632807980121e-54\n",
      "6.767721346633534e-55\n",
      "1.1279535577722557e-55\n",
      "1.8799225962870929e-56\n",
      "3.1332043271451546e-57\n",
      "5.222007211908591e-58\n",
      "8.703345353180986e-59\n",
      "1.4505575588634976e-59\n",
      "2.4175959314391627e-60\n",
      "4.029326552398604e-61\n",
      "6.715544253997674e-62\n",
      "1.119257375666279e-62\n",
      "1.8654289594437986e-63\n",
      "3.1090482657396645e-64\n",
      "5.1817471095661075e-65\n",
      "8.63624518261018e-66\n",
      "1.4393741971016966e-66\n",
      "2.3989569951694944e-67\n",
      "3.998261658615824e-68\n",
      "6.663769431026374e-69\n",
      "1.1106282385043956e-69\n",
      "1.8510470641739925e-70\n",
      "3.0850784402899877e-71\n",
      "5.141797400483313e-72\n",
      "8.569662334138855e-73\n",
      "1.4282770556898093e-73\n",
      "2.3804617594830154e-74\n",
      "3.9674362658050256e-75\n",
      "6.612393776341709e-76\n",
      "1.1020656293902848e-76\n",
      "1.836776048983808e-77\n",
      "3.0612934149730136e-78\n",
      "5.1021556916216895e-79\n",
      "8.503592819369483e-80\n",
      "1.4172654698949138e-80\n",
      "2.362109116491523e-81\n",
      "3.9368485274858715e-82\n",
      "6.561414212476453e-83\n",
      "1.0935690354127422e-83\n",
      "1.822615059021237e-84\n",
      "3.0376917650353947e-85\n",
      "5.0628196083923244e-86\n",
      "8.438032680653873e-87\n",
      "1.4063387801089788e-87\n",
      "2.343897966848298e-88\n",
      "3.90649661141383e-89\n",
      "6.510827685689717e-90\n",
      "1.0851379476149528e-90\n",
      "1.8085632460249213e-91\n",
      "3.0142720767082022e-92\n",
      "5.02378679451367e-93\n",
      "8.372977990856118e-94\n",
      "1.395496331809353e-94\n",
      "2.325827219682255e-95\n",
      "3.876378699470425e-96\n",
      "6.460631165784041e-97\n",
      "1.0767718609640068e-97\n",
      "1.7946197682733446e-98\n",
      "2.991032947122241e-99\n",
      "4.985054911870401e-100\n",
      "8.308424853117336e-101\n",
      "1.384737475519556e-101\n",
      "2.307895792532593e-102\n",
      "3.846492987554322e-103\n",
      "6.41082164592387e-104\n",
      "1.068470274320645e-104\n",
      "1.7807837905344084e-105\n",
      "2.967972984224014e-106\n",
      "4.9466216403733567e-107\n",
      "8.244369400622261e-108\n",
      "1.374061566770377e-108\n",
      "2.2901026112839614e-109\n",
      "3.816837685473269e-110\n",
      "6.361396142455449e-111\n",
      "1.0602326904092415e-111\n",
      "1.7670544840154025e-112\n",
      "2.9450908066923375e-113\n",
      "4.908484677820563e-114\n",
      "8.180807796367605e-115\n",
      "1.3634679660612676e-115\n",
      "2.2724466101021126e-116\n",
      "3.7874110168368545e-117\n",
      "6.312351694728091e-118\n",
      "1.0520586157880153e-118\n",
      "1.7534310263133588e-119\n",
      "2.922385043855598e-120\n",
      "4.87064173975933e-121\n",
      "8.117736232932217e-122\n",
      "1.352956038822036e-122\n",
      "2.25492673137006e-123\n",
      "3.7582112189501e-124\n",
      "6.263685364916834e-125\n",
      "1.0439475608194723e-125\n",
      "1.7399126013657872e-126\n",
      "2.8998543356096453e-127\n",
      "4.833090559349409e-128\n",
      "8.055150932249015e-129\n",
      "1.3425251553748358e-129\n",
      "2.2375419256247265e-130\n",
      "3.7292365427078774e-131\n",
      "6.215394237846463e-132\n",
      "1.0358990396410772e-132\n",
      "1.7264983994017952e-133\n",
      "2.8774973323363255e-134\n",
      "4.795828887227209e-135\n",
      "7.993048145378683e-136\n",
      "1.332174690896447e-136\n",
      "2.2202911514940785e-137\n",
      "3.7004852524901307e-138\n",
      "6.1674754208168845e-139\n",
      "1.0279125701361474e-139\n",
      "1.713187616893579e-140\n",
      "2.855312694822632e-141\n",
      "4.758854491371053e-142\n",
      "7.931424152285088e-143\n",
      "1.321904025380848e-143\n",
      "2.2031733756347468e-144\n",
      "3.671955626057911e-145\n",
      "6.119926043429852e-146\n",
      "1.0199876739049753e-146\n",
      "1.699979456508292e-147\n",
      "2.833299094180487e-148\n",
      "4.722165156967478e-149\n",
      "7.870275261612464e-150\n",
      "1.3117125436020773e-150\n",
      "2.186187572670129e-151\n",
      "3.643645954450215e-152\n",
      "6.072743257417025e-153\n",
      "1.0121238762361707e-153\n",
      "1.6868731270602845e-154\n",
      "2.811455211767141e-155\n",
      "4.685758686278568e-156\n",
      "7.80959781046428e-157\n",
      "1.30159963507738e-157\n",
      "2.169332725128967e-158\n",
      "3.6155545418816114e-159\n",
      "6.025924236469353e-160\n",
      "1.0043207060782255e-160\n",
      "1.6738678434637091e-161\n",
      "2.789779739106182e-162\n",
      "4.649632898510303e-163\n",
      "7.749388164183838e-164\n",
      "1.2915646940306396e-164\n",
      "2.1526078233843994e-165\n",
      "3.5876797056406656e-166\n",
      "5.979466176067776e-167\n",
      "9.965776960112961e-168\n",
      "1.6609628266854936e-168\n",
      "2.768271377809156e-169\n",
      "4.613785629681927e-170\n",
      "7.689642716136545e-171\n",
      "1.281607119356091e-171\n",
      "2.136011865593485e-172\n",
      "3.5600197759891416e-173\n",
      "5.933366293315236e-174\n",
      "9.88894382219206e-175\n",
      "1.6481573036986766e-175\n",
      "2.746928839497794e-176\n",
      "4.578214732496324e-177\n",
      "7.630357887493873e-178\n",
      "1.2717263145823122e-178\n",
      "2.119543857637187e-179\n",
      "3.5325730960619783e-180\n",
      "5.887621826769964e-181\n",
      "9.812703044616606e-182\n",
      "1.635450507436101e-182\n",
      "2.725750845726835e-183\n",
      "4.542918076211392e-184\n",
      "7.571530127018987e-185\n",
      "1.2619216878364978e-185\n",
      "2.10320281306083e-186\n",
      "3.5053380217680496e-187\n",
      "5.842230036280083e-188\n",
      "9.737050060466805e-189\n",
      "1.6228416767444674e-189\n",
      "2.7047361279074457e-190\n",
      "4.5078935465124094e-191\n",
      "7.513155910854016e-192\n",
      "1.2521926518090027e-192\n",
      "2.0869877530150044e-193\n",
      "3.478312921691674e-194\n",
      "5.797188202819456e-195\n",
      "9.661980338032427e-196\n",
      "1.6103300563387379e-196\n",
      "2.68388342723123e-197\n",
      "4.473139045385383e-198\n",
      "7.455231742308972e-199\n",
      "1.242538623718162e-199\n",
      "2.0708977061969366e-200\n",
      "3.451496176994895e-201\n",
      "5.752493628324824e-202\n",
      "9.587489380541374e-203\n",
      "1.5979148967568957e-203\n",
      "2.663191494594826e-204\n",
      "4.438652490991376e-205\n",
      "7.397754151652294e-206\n",
      "1.2329590252753824e-206\n",
      "2.054931708792304e-207\n",
      "3.424886181320507e-208\n",
      "5.708143635534178e-209\n",
      "9.513572725890298e-210\n",
      "1.5855954543150495e-210\n",
      "2.6426590905250823e-211\n",
      "4.404431817541804e-212\n",
      "7.340719695903006e-213\n",
      "1.223453282650501e-213\n",
      "2.0390888044175016e-214\n",
      "3.398481340695836e-215\n",
      "5.6641355678263934e-216\n",
      "9.440225946377322e-217\n",
      "1.573370991062887e-217\n",
      "2.6222849851048115e-218\n",
      "4.370474975174686e-219\n",
      "7.284124958624476e-220\n",
      "1.2140208264374127e-220\n",
      "2.0233680440623544e-221\n",
      "3.3722800734372574e-222\n",
      "5.6204667890620956e-223\n",
      "9.367444648436825e-224\n",
      "1.5612407747394708e-224\n",
      "2.602067957899118e-225\n",
      "4.336779929831863e-226\n",
      "7.227966549719772e-227\n",
      "1.204661091619962e-227\n",
      "2.0077684860332702e-228\n",
      "3.34628081005545e-229\n",
      "5.577134683425751e-230\n",
      "9.295224472376251e-231\n",
      "1.549204078729375e-231\n",
      "2.582006797882292e-232\n",
      "4.303344663137153e-233\n",
      "7.172241105228588e-234\n",
      "1.1953735175380981e-234\n",
      "1.9922891958968302e-235\n",
      "3.3204819931613837e-236\n",
      "5.534136655268973e-237\n",
      "9.223561092114955e-238\n",
      "1.5372601820191593e-238\n",
      "2.5621003033652655e-239\n",
      "4.2701671722754425e-240\n",
      "7.116945287125737e-241\n",
      "1.1861575478542895e-241\n",
      "1.9769292464238157e-242\n",
      "3.294882077373026e-243\n",
      "5.4914701289550434e-244\n",
      "9.152450214925073e-245\n",
      "1.5254083691541788e-245\n",
      "2.5423472819236314e-246\n",
      "4.237245469872719e-247\n",
      "7.062075783121198e-248\n",
      "1.1770126305201996e-248\n",
      "1.961687717533666e-249\n",
      "3.2694795292227764e-250\n",
      "5.449132548704627e-251\n",
      "9.081887581174379e-252\n",
      "1.5136479301957297e-252\n",
      "2.522746550326216e-253\n",
      "4.204577583877027e-254\n",
      "7.007629306461711e-255\n",
      "1.1679382177436184e-255\n",
      "1.946563696239364e-256\n",
      "3.2442728270656068e-257\n",
      "5.407121378442678e-258\n",
      "9.011868964071129e-259\n",
      "1.5019781606785215e-259\n",
      "2.5032969344642024e-260\n",
      "4.172161557440337e-261\n",
      "6.953602595733895e-262\n",
      "1.1589337659556491e-262\n",
      "1.9315562765927485e-263\n",
      "3.2192604609879143e-264\n",
      "5.365434101646524e-265\n",
      "8.942390169410874e-266\n",
      "1.490398361568479e-266\n",
      "2.4839972692807983e-267\n",
      "4.1399954488013304e-268\n",
      "6.899992414668885e-269\n",
      "1.1499987357781475e-269\n",
      "1.9166645596302457e-270\n",
      "3.194440932717076e-271\n",
      "5.3240682211951265e-272\n",
      "8.873447035325211e-273\n",
      "1.4789078392208684e-273\n",
      "2.4648463987014475e-274\n",
      "4.1080773311690794e-275\n",
      "6.8467955519484654e-276\n",
      "1.141132591991411e-276\n",
      "1.9018876533190184e-277\n",
      "3.1698127555316975e-278\n",
      "5.283021259219496e-279\n",
      "8.805035432032493e-280\n",
      "1.467505905338749e-280\n",
      "2.4458431755645816e-281\n",
      "4.076405292607636e-282\n",
      "6.7940088210127275e-283\n",
      "1.1323348035021212e-283\n",
      "1.8872246725035354e-284\n",
      "3.145374454172559e-285\n",
      "5.2422907569542645e-286\n",
      "8.73715126159044e-287\n",
      "1.4561918769317402e-287\n",
      "2.4269864615529e-288\n",
      "4.0449774359215e-289\n",
      "6.741629059869167e-290\n",
      "1.1236048433115279e-290\n",
      "1.8726747388525465e-291\n",
      "3.121124564754244e-292\n",
      "5.201874274590407e-293\n",
      "8.669790457650678e-294\n",
      "1.444965076275113e-294\n",
      "2.4082751271251886e-295\n",
      "4.013791878541981e-296\n",
      "6.689653130903302e-297\n",
      "1.1149421884838836e-297\n",
      "1.8582369808064726e-298\n",
      "3.0970616346774545e-299\n",
      "5.1617693911290906e-300\n",
      "8.602948985215151e-301\n",
      "1.4338248308691918e-301\n",
      "2.389708051448653e-302\n",
      "3.9828467524144214e-303\n",
      "6.638077920690702e-304\n",
      "1.106346320115117e-304\n",
      "1.843910533525195e-305\n",
      "3.0731842225419914e-306\n",
      "5.121973704236653e-307\n",
      "8.536622840394421e-308\n",
      "1.42277047339907e-308\n",
      "2.37128412233178e-309\n",
      "3.9521402038863e-310\n",
      "6.5869003398103e-311\n",
      "1.0978167233016e-311\n",
      "1.829694538834e-312\n",
      "3.04949089807e-313\n",
      "5.08248483e-314\n",
      "8.47080805e-315\n",
      "1.411801343e-315\n",
      "2.35300226e-316\n",
      "3.9216703e-317\n",
      "6.53612e-318\n",
      "1.089355e-318\n",
      "1.8156e-319\n",
      "3.026e-320\n",
      "5.044e-321\n",
      "8.4e-322\n",
      "1.4e-322\n",
      "2.5e-323\n",
      "5e-324\n",
      "0.0\n",
      "BlastOff\n"
     ]
    }
   ],
   "source": [
    "n=int(input())\n",
    "while n > 0:\n",
    "    n=n/6\n",
    "    print(n)\n",
    "print(\"BlastOff\")"
   ]
  },
  {
   "cell_type": "code",
   "execution_count": 30,
   "metadata": {},
   "outputs": [
    {
     "name": "stdout",
     "output_type": "stream",
     "text": [
      "-1\n",
      "0\n",
      "BlastOff\n"
     ]
    }
   ],
   "source": [
    "b=9\n",
    "for n in range(0,9):\n",
    "    n=n-1\n",
    "    print(n)\n",
    "    if n==0:\n",
    "        break\n",
    "print(\"BlastOff\")"
   ]
  },
  {
   "cell_type": "code",
   "execution_count": 34,
   "metadata": {},
   "outputs": [
    {
     "name": "stdout",
     "output_type": "stream",
     "text": [
      "1 * 1 = 1\n",
      "1 * 2 = 2\n",
      "1 * 3 = 3\n",
      "1 * 4 = 4\n",
      "1 * 5 = 5\n",
      "1 * 6 = 6\n",
      "1 * 7 = 7\n",
      "1 * 8 = 8\n",
      "1 * 9 = 9\n",
      "1 * 10 = 10\n",
      "2 * 1 = 2\n",
      "2 * 2 = 4\n",
      "2 * 3 = 6\n",
      "2 * 4 = 8\n",
      "2 * 5 = 10\n",
      "2 * 6 = 12\n",
      "2 * 7 = 14\n",
      "2 * 8 = 16\n",
      "2 * 9 = 18\n",
      "2 * 10 = 20\n",
      "3 * 1 = 3\n",
      "3 * 2 = 6\n",
      "3 * 3 = 9\n",
      "3 * 4 = 12\n",
      "3 * 5 = 15\n",
      "3 * 6 = 18\n",
      "3 * 7 = 21\n",
      "3 * 8 = 24\n",
      "3 * 9 = 27\n",
      "3 * 10 = 30\n",
      "4 * 1 = 4\n",
      "4 * 2 = 8\n",
      "4 * 3 = 12\n",
      "4 * 4 = 16\n",
      "4 * 5 = 20\n",
      "4 * 6 = 24\n",
      "4 * 7 = 28\n",
      "4 * 8 = 32\n",
      "4 * 9 = 36\n",
      "4 * 10 = 40\n",
      "5 * 1 = 5\n",
      "5 * 2 = 10\n",
      "5 * 3 = 15\n",
      "5 * 4 = 20\n",
      "5 * 5 = 25\n",
      "5 * 6 = 30\n",
      "5 * 7 = 35\n",
      "5 * 8 = 40\n",
      "5 * 9 = 45\n",
      "5 * 10 = 50\n",
      "6 * 1 = 6\n",
      "6 * 2 = 12\n",
      "6 * 3 = 18\n",
      "6 * 4 = 24\n",
      "6 * 5 = 30\n",
      "6 * 6 = 36\n",
      "6 * 7 = 42\n",
      "6 * 8 = 48\n",
      "6 * 9 = 54\n",
      "6 * 10 = 60\n",
      "7 * 1 = 7\n",
      "7 * 2 = 14\n",
      "7 * 3 = 21\n",
      "7 * 4 = 28\n",
      "7 * 5 = 35\n",
      "7 * 6 = 42\n",
      "7 * 7 = 49\n",
      "7 * 8 = 56\n",
      "7 * 9 = 63\n",
      "7 * 10 = 70\n",
      "8 * 1 = 8\n",
      "8 * 2 = 16\n",
      "8 * 3 = 24\n",
      "8 * 4 = 32\n",
      "8 * 5 = 40\n",
      "8 * 6 = 48\n",
      "8 * 7 = 56\n",
      "8 * 8 = 64\n",
      "8 * 9 = 72\n",
      "8 * 10 = 80\n",
      "9 * 1 = 9\n",
      "9 * 2 = 18\n",
      "9 * 3 = 27\n",
      "9 * 4 = 36\n",
      "9 * 5 = 45\n",
      "9 * 6 = 54\n",
      "9 * 7 = 63\n",
      "9 * 8 = 72\n",
      "9 * 9 = 81\n",
      "9 * 10 = 90\n",
      "10 * 1 = 10\n",
      "10 * 2 = 20\n",
      "10 * 3 = 30\n",
      "10 * 4 = 40\n",
      "10 * 5 = 50\n",
      "10 * 6 = 60\n",
      "10 * 7 = 70\n",
      "10 * 8 = 80\n",
      "10 * 9 = 90\n",
      "10 * 10 = 100\n"
     ]
    }
   ],
   "source": [
    "for x in range(1, 11):\n",
    "    for y in range(1, 11):\n",
    "        print('%d * %d = %d' % (x, y, x*y))"
   ]
  },
  {
   "cell_type": "markdown",
   "metadata": {},
   "source": [
    "## Recursion Example\n",
    "Python also accepts function recursion, which means a defined function can call itself.\n",
    "\n",
    "Recursion is a common mathematical and programming concept. It means that a function calls itself. This has the benefit of meaning that you can loop through data to reach a result.\n",
    "\n",
    "The developer should be very careful with recursion as it can be quite easy to slip into writing a function which never terminates, or one that uses excess amounts of memory or processor power. However, when written correctly recursion can be a very efficient and mathematically-elegant approach to programming.\n",
    "\n",
    "In this example, tri_recursion() is a function that we have defined to call itself (\"recurse\"). We use the k variable as the data, which decrements (-1) every time we recurse. The recursion ends when the condition is not greater than 0 (i.e. when it is 0).\n",
    "\n",
    "To a new developer it can take some time to work out how exactly this works, best way to find out is by testing and modifying it."
   ]
  },
  {
   "cell_type": "code",
   "execution_count": 37,
   "metadata": {},
   "outputs": [
    {
     "name": "stdout",
     "output_type": "stream",
     "text": [
      "\n",
      "\n",
      "Recursion Example Results\n",
      "1\n",
      "3\n",
      "6\n",
      "10\n",
      "15\n",
      "21\n"
     ]
    },
    {
     "data": {
      "text/plain": [
       "21"
      ]
     },
     "execution_count": 37,
     "metadata": {},
     "output_type": "execute_result"
    }
   ],
   "source": [
    "def tri_recursion(k):\n",
    "  if(k>0):\n",
    "    result = k+tri_recursion(k-1)\n",
    "    print(result)\n",
    "  else:\n",
    "    result = 0\n",
    "  return result\n",
    "\n",
    "print(\"\\n\\nRecursion Example Results\")\n",
    "tri_recursion(6)"
   ]
  },
  {
   "cell_type": "markdown",
   "metadata": {},
   "source": [
    "## Triple quotes is to define a multiline text This can be used for Commenting also\n",
    "\n",
    "# Need to be carefull while using this in print statements."
   ]
  },
  {
   "cell_type": "code",
   "execution_count": 38,
   "metadata": {},
   "outputs": [
    {
     "name": "stdout",
     "output_type": "stream",
     "text": [
      "1245\n",
      "2345.798\n",
      "-3472.0\n"
     ]
    }
   ],
   "source": [
    "print(1245)\n",
    "print(2345.798)\n",
    "print(-3472.0)"
   ]
  },
  {
   "cell_type": "code",
   "execution_count": 40,
   "metadata": {},
   "outputs": [
    {
     "name": "stdout",
     "output_type": "stream",
     "text": [
      "Hello World\n"
     ]
    }
   ],
   "source": [
    "print(\"Hello World\")"
   ]
  },
  {
   "cell_type": "markdown",
   "metadata": {},
   "source": [
    "### Escape Character"
   ]
  },
  {
   "cell_type": "code",
   "execution_count": 42,
   "metadata": {},
   "outputs": [
    {
     "name": "stdout",
     "output_type": "stream",
     "text": [
      "Hello \" World\n"
     ]
    }
   ],
   "source": [
    "print(\"Hello \\\" World\")"
   ]
  },
  {
   "cell_type": "markdown",
   "metadata": {},
   "source": [
    "|Country|Total|"
   ]
  },
  {
   "cell_type": "markdown",
   "metadata": {},
   "source": [
    "## Variable Naming Conventions "
   ]
  },
  {
   "cell_type": "code",
   "execution_count": 44,
   "metadata": {},
   "outputs": [
    {
     "ename": "SyntaxError",
     "evalue": "invalid syntax (<ipython-input-44-35f7b7d1a31d>, line 1)",
     "output_type": "error",
     "traceback": [
      "\u001b[1;36m  File \u001b[1;32m\"<ipython-input-44-35f7b7d1a31d>\"\u001b[1;36m, line \u001b[1;32m1\u001b[0m\n\u001b[1;33m    23Spam = 12\u001b[0m\n\u001b[1;37m         ^\u001b[0m\n\u001b[1;31mSyntaxError\u001b[0m\u001b[1;31m:\u001b[0m invalid syntax\n"
     ]
    }
   ],
   "source": [
    "23Spam = 12\n"
   ]
  },
  {
   "cell_type": "code",
   "execution_count": 46,
   "metadata": {},
   "outputs": [
    {
     "name": "stdout",
     "output_type": "stream",
     "text": [
      "4\n",
      "8\n"
     ]
    }
   ],
   "source": [
    "_ = 4\n",
    "_ds = 8\n",
    "\n",
    "print(_)\n",
    "print(_ds)"
   ]
  },
  {
   "cell_type": "code",
   "execution_count": 47,
   "metadata": {},
   "outputs": [
    {
     "ename": "SyntaxError",
     "evalue": "can't assign to operator (<ipython-input-47-b13faffee2eb>, line 1)",
     "output_type": "error",
     "traceback": [
      "\u001b[1;36m  File \u001b[1;32m\"<ipython-input-47-b13faffee2eb>\"\u001b[1;36m, line \u001b[1;32m1\u001b[0m\n\u001b[1;33m    Spam%23=90\u001b[0m\n\u001b[1;37m              ^\u001b[0m\n\u001b[1;31mSyntaxError\u001b[0m\u001b[1;31m:\u001b[0m can't assign to operator\n"
     ]
    }
   ],
   "source": [
    "Spam%23=90"
   ]
  },
  {
   "cell_type": "markdown",
   "metadata": {},
   "source": [
    "# Operator Precedence Rules\n",
    "### 1) Parenthesis are always respected \n",
    "### 2) Exponential ( raised to the power)\n",
    "### 3) Division, Multiplication and Remainder\n",
    "### 4) Addition and Subtraction\n",
    "### 5) Left to Right \n"
   ]
  },
  {
   "cell_type": "code",
   "execution_count": 50,
   "metadata": {},
   "outputs": [
    {
     "ename": "TypeError",
     "evalue": "type() takes 1 or 3 arguments",
     "output_type": "error",
     "traceback": [
      "\u001b[1;31m---------------------------------------------------------------------------\u001b[0m",
      "\u001b[1;31mTypeError\u001b[0m                                 Traceback (most recent call last)",
      "\u001b[1;32m<ipython-input-50-ff6dcb82abed>\u001b[0m in \u001b[0;36m<module>\u001b[1;34m()\u001b[0m\n\u001b[1;32m----> 1\u001b[1;33m \u001b[0mtype\u001b[0m\u001b[1;33m(\u001b[0m\u001b[1;33m)\u001b[0m\u001b[1;33m\u001b[0m\u001b[0m\n\u001b[0m",
      "\u001b[1;31mTypeError\u001b[0m: type() takes 1 or 3 arguments"
     ]
    }
   ],
   "source": [
    "type()"
   ]
  },
  {
   "cell_type": "code",
   "execution_count": 3,
   "metadata": {},
   "outputs": [
    {
     "ename": "SyntaxError",
     "evalue": "invalid syntax (<ipython-input-3-2c7f9b1f2fbf>, line 1)",
     "output_type": "error",
     "traceback": [
      "\u001b[1;36m  File \u001b[1;32m\"<ipython-input-3-2c7f9b1f2fbf>\"\u001b[1;36m, line \u001b[1;32m1\u001b[0m\n\u001b[1;33m    def +:\u001b[0m\n\u001b[1;37m        ^\u001b[0m\n\u001b[1;31mSyntaxError\u001b[0m\u001b[1;31m:\u001b[0m invalid syntax\n"
     ]
    }
   ],
   "source": [
    "def +:\n",
    "    return 2*a + b\n",
    "\n",
    "4 + 5"
   ]
  },
  {
   "cell_type": "code",
   "execution_count": 4,
   "metadata": {},
   "outputs": [
    {
     "data": {
      "text/plain": [
       "['__abs__',\n",
       " '__add__',\n",
       " '__and__',\n",
       " '__bool__',\n",
       " '__ceil__',\n",
       " '__class__',\n",
       " '__delattr__',\n",
       " '__dir__',\n",
       " '__divmod__',\n",
       " '__doc__',\n",
       " '__eq__',\n",
       " '__float__',\n",
       " '__floor__',\n",
       " '__floordiv__',\n",
       " '__format__',\n",
       " '__ge__',\n",
       " '__getattribute__',\n",
       " '__getnewargs__',\n",
       " '__gt__',\n",
       " '__hash__',\n",
       " '__index__',\n",
       " '__init__',\n",
       " '__init_subclass__',\n",
       " '__int__',\n",
       " '__invert__',\n",
       " '__le__',\n",
       " '__lshift__',\n",
       " '__lt__',\n",
       " '__mod__',\n",
       " '__mul__',\n",
       " '__ne__',\n",
       " '__neg__',\n",
       " '__new__',\n",
       " '__or__',\n",
       " '__pos__',\n",
       " '__pow__',\n",
       " '__radd__',\n",
       " '__rand__',\n",
       " '__rdivmod__',\n",
       " '__reduce__',\n",
       " '__reduce_ex__',\n",
       " '__repr__',\n",
       " '__rfloordiv__',\n",
       " '__rlshift__',\n",
       " '__rmod__',\n",
       " '__rmul__',\n",
       " '__ror__',\n",
       " '__round__',\n",
       " '__rpow__',\n",
       " '__rrshift__',\n",
       " '__rshift__',\n",
       " '__rsub__',\n",
       " '__rtruediv__',\n",
       " '__rxor__',\n",
       " '__setattr__',\n",
       " '__sizeof__',\n",
       " '__str__',\n",
       " '__sub__',\n",
       " '__subclasshook__',\n",
       " '__truediv__',\n",
       " '__trunc__',\n",
       " '__xor__',\n",
       " 'bit_length',\n",
       " 'conjugate',\n",
       " 'denominator',\n",
       " 'from_bytes',\n",
       " 'imag',\n",
       " 'numerator',\n",
       " 'real',\n",
       " 'to_bytes']"
      ]
     },
     "execution_count": 4,
     "metadata": {},
     "output_type": "execute_result"
    }
   ],
   "source": [
    "x=5\n",
    "dir(x)"
   ]
  },
  {
   "cell_type": "markdown",
   "metadata": {},
   "source": [
    "# Operator Overloading"
   ]
  },
  {
   "cell_type": "code",
   "execution_count": 10,
   "metadata": {},
   "outputs": [],
   "source": [
    "def __add__(self, other):\n",
    "    return 2*self + other\n",
    "a= 5\n",
    "b = 6\n",
    "y = 5 + 6\n",
    "x = a + b"
   ]
  },
  {
   "cell_type": "code",
   "execution_count": 11,
   "metadata": {},
   "outputs": [
    {
     "data": {
      "text/plain": [
       "11"
      ]
     },
     "execution_count": 11,
     "metadata": {},
     "output_type": "execute_result"
    }
   ],
   "source": [
    "x"
   ]
  },
  {
   "cell_type": "code",
   "execution_count": 12,
   "metadata": {},
   "outputs": [
    {
     "data": {
      "text/plain": [
       "100"
      ]
     },
     "execution_count": 12,
     "metadata": {},
     "output_type": "execute_result"
    }
   ],
   "source": [
    "def sq(x): return x*x\n",
    "sq(10)"
   ]
  },
  {
   "cell_type": "code",
   "execution_count": 14,
   "metadata": {},
   "outputs": [
    {
     "data": {
      "text/plain": [
       "[1, 4, 9, 16, 25]"
      ]
     },
     "execution_count": 14,
     "metadata": {},
     "output_type": "execute_result"
    }
   ],
   "source": [
    "def mymap(a,b):\n",
    "    t =[]\n",
    "    for i in a:\n",
    "        m=b(i)\n",
    "        t.append(m)\n",
    "    return t\n",
    "\n",
    "mymap([1,2,3,4,5], sq)\n",
    "        "
   ]
  },
  {
   "cell_type": "code",
   "execution_count": null,
   "metadata": {},
   "outputs": [],
   "source": []
  }
 ],
 "metadata": {
  "kernelspec": {
   "display_name": "Python 3",
   "language": "python",
   "name": "python3"
  },
  "language_info": {
   "codemirror_mode": {
    "name": "ipython",
    "version": 3
   },
   "file_extension": ".py",
   "mimetype": "text/x-python",
   "name": "python",
   "nbconvert_exporter": "python",
   "pygments_lexer": "ipython3",
   "version": "3.6.4"
  }
 },
 "nbformat": 4,
 "nbformat_minor": 2
}
