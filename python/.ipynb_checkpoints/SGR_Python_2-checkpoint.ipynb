{
 "cells": [
  {
   "cell_type": "code",
   "execution_count": 1,
   "metadata": {},
   "outputs": [
    {
     "name": "stdout",
     "output_type": "stream",
     "text": [
      "What is your Salary 23.5\n"
     ]
    }
   ],
   "source": [
    "sal=input(\"What is your Salary \")"
   ]
  },
  {
   "cell_type": "code",
   "execution_count": 2,
   "metadata": {},
   "outputs": [
    {
     "data": {
      "text/plain": [
       "'23.5'"
      ]
     },
     "execution_count": 2,
     "metadata": {},
     "output_type": "execute_result"
    }
   ],
   "source": [
    "sal"
   ]
  },
  {
   "cell_type": "code",
   "execution_count": 3,
   "metadata": {},
   "outputs": [
    {
     "ename": "TypeError",
     "evalue": "must be str, not int",
     "output_type": "error",
     "traceback": [
      "\u001b[1;31m---------------------------------------------------------------------------\u001b[0m",
      "\u001b[1;31mTypeError\u001b[0m                                 Traceback (most recent call last)",
      "\u001b[1;32m<ipython-input-3-7617d23480a2>\u001b[0m in \u001b[0;36m<module>\u001b[1;34m()\u001b[0m\n\u001b[1;32m----> 1\u001b[1;33m \u001b[0msal\u001b[0m\u001b[1;33m+\u001b[0m\u001b[1;36m1\u001b[0m\u001b[1;33m\u001b[0m\u001b[0m\n\u001b[0m",
      "\u001b[1;31mTypeError\u001b[0m: must be str, not int"
     ]
    }
   ],
   "source": [
    "sal+1  # SAL IS DEFINED AS STRING BY CALLING IT AS A PART OF STRING DURING INPUT "
   ]
  },
  {
   "cell_type": "code",
   "execution_count": 4,
   "metadata": {},
   "outputs": [
    {
     "name": "stdout",
     "output_type": "stream",
     "text": [
      "what's ur salary ?67.5\n"
     ]
    }
   ],
   "source": [
    "sal_1 = float(input(\"what's ur salary ?\"))"
   ]
  },
  {
   "cell_type": "code",
   "execution_count": 5,
   "metadata": {},
   "outputs": [
    {
     "data": {
      "text/plain": [
       "67.5"
      ]
     },
     "execution_count": 5,
     "metadata": {},
     "output_type": "execute_result"
    }
   ],
   "source": [
    "sal_1"
   ]
  },
  {
   "cell_type": "code",
   "execution_count": 7,
   "metadata": {},
   "outputs": [
    {
     "data": {
      "text/plain": [
       "97.5"
      ]
     },
     "execution_count": 7,
     "metadata": {},
     "output_type": "execute_result"
    }
   ],
   "source": [
    "sal_1 + 30"
   ]
  },
  {
   "cell_type": "code",
   "execution_count": 9,
   "metadata": {},
   "outputs": [
    {
     "name": "stdout",
     "output_type": "stream",
     "text": [
      "abc123\n"
     ]
    }
   ],
   "source": [
    "print('abc' + '123')"
   ]
  },
  {
   "cell_type": "code",
   "execution_count": 16,
   "metadata": {
    "scrolled": true
   },
   "outputs": [
    {
     "name": "stdout",
     "output_type": "stream",
     "text": [
      "hihihihihihihihihihi\n",
      "hi \" ' hi \" ' hi \" ' hi \" ' hi \" ' \n",
      "hi'\"hi'\"hi'\"hi'\"hi'\"\n"
     ]
    }
   ],
   "source": [
    "print('hi'*10)\n",
    "print(\"hi \\\" ' \"* 5)\n",
    "print('hi\\'\\\"' * 5)"
   ]
  },
  {
   "cell_type": "code",
   "execution_count": 11,
   "metadata": {},
   "outputs": [
    {
     "name": "stdout",
     "output_type": "stream",
     "text": [
      "hi \n",
      "hi \n",
      "hi \n",
      "hi \n",
      "hi \n",
      "hi \n",
      "hi \n",
      "hi \n",
      "hi \n",
      "hi \n",
      "\n",
      "hi \thi \thi \thi \thi \thi \thi \thi \thi \thi \t\n"
     ]
    }
   ],
   "source": [
    "print('hi \\n' * 10)\n",
    "print('hi \\t' * 10)"
   ]
  },
  {
   "cell_type": "code",
   "execution_count": 18,
   "metadata": {},
   "outputs": [
    {
     "name": "stdout",
     "output_type": "stream",
     "text": [
      "\" is a double quote\n"
     ]
    }
   ],
   "source": [
    "print(\"\\\" is a double quote\")"
   ]
  },
  {
   "cell_type": "code",
   "execution_count": 19,
   "metadata": {},
   "outputs": [
    {
     "name": "stdout",
     "output_type": "stream",
     "text": [
      "437.5\n"
     ]
    }
   ],
   "source": [
    "hours=35.0\n",
    "rate=12.50\n",
    "pay = hours * rate\n",
    "print(pay)\n"
   ]
  },
  {
   "cell_type": "code",
   "execution_count": 22,
   "metadata": {},
   "outputs": [
    {
     "name": "stdout",
     "output_type": "stream",
     "text": [
      "How many hours did you work ? -->   234\n",
      "What is the rate per hour ? -->   23\n",
      "5382.0\n"
     ]
    }
   ],
   "source": [
    "hours=float(input(\"How many hours did you work ? -->   \"))\n",
    "rate=float(input(\"What is the rate per hour ? -->   \"))\n",
    "pay = hours * rate\n",
    "print(pay)\n"
   ]
  },
  {
   "cell_type": "code",
   "execution_count": 27,
   "metadata": {},
   "outputs": [
    {
     "name": "stdout",
     "output_type": "stream",
     "text": [
      "CloudxLab\n"
     ]
    },
    {
     "data": {
      "text/plain": [
       "'fnl = first*second\\nprint(fnl) '"
      ]
     },
     "execution_count": 27,
     "metadata": {},
     "output_type": "execute_result"
    }
   ],
   "source": [
    "first=\"Cloudx\"\n",
    "second=\"Lab\"\n",
    "final=first+second\n",
    "print(final)\n",
    "\n",
    "'''fnl = first*second\n",
    "print(fnl) '''"
   ]
  },
  {
   "cell_type": "code",
   "execution_count": 30,
   "metadata": {},
   "outputs": [
    {
     "name": "stdout",
     "output_type": "stream",
     "text": [
      "x:  5\n",
      "equals 5\n",
      " which is = 2 + 3 \n",
      "Something\n",
      "Equals 5\n",
      "Greater than 4\n",
      "Greater than or Equals 5\n",
      "Less than 6\n",
      "Less than or Equals 5\n",
      "Not equal 6\n"
     ]
    }
   ],
   "source": [
    "x = int(input(\"x:  \"))\n",
    "if x==5:\n",
    "    print(\"equals 5\")\n",
    "    print(\" which is = 2 + 3 \")\n",
    "\n",
    "print(\"Something\")\n",
    "\n",
    "# Comparison Operators\n",
    "\n",
    "if x == 5 : \n",
    "    print ('Equals 5')\n",
    "if x > 4 : \n",
    "   print ('Greater than 4')\n",
    "if  x >= 5 :\n",
    "    print ('Greater than or Equals 5')\n",
    "if x < 6 : \n",
    "    print ('Less than 6')\n",
    "if x <= 5 :\n",
    "    print ('Less than or Equals 5')\n",
    "if x != 6 :\n",
    "    print ('Not equal 6')\n"
   ]
  },
  {
   "cell_type": "code",
   "execution_count": 32,
   "metadata": {},
   "outputs": [
    {
     "name": "stdout",
     "output_type": "stream",
     "text": [
      "Bigger than 2\n",
      "Stil Biffer\n",
      "0\n",
      "Done with i 0\n",
      "1\n",
      "Done with i 1\n",
      "2\n",
      "Done with i 2\n",
      "3\n",
      "Bigger than 2\n",
      "Done with i 3\n",
      "4\n",
      "Bigger than 2\n",
      "Done with i 4\n",
      "All Dne\n"
     ]
    }
   ],
   "source": [
    "x=5\n",
    "if x > 2:\n",
    "    print(\"Bigger than 2\")\n",
    "    print(\"Stil Biffer\")\n",
    "    \n",
    "    \n",
    "for i in range(5):\n",
    "    print(i)\n",
    "    if i>2:\n",
    "        print('Bigger than 2')\n",
    "    print('Done with i',i)\n",
    "print('All Dne')"
   ]
  },
  {
   "cell_type": "markdown",
   "metadata": {},
   "source": [
    "### 2 Way Decissions"
   ]
  },
  {
   "cell_type": "code",
   "execution_count": 34,
   "metadata": {},
   "outputs": [
    {
     "name": "stdout",
     "output_type": "stream",
     "text": [
      "Enter X:  88\n",
      "Bigger\n",
      "All Done !!\n"
     ]
    }
   ],
   "source": [
    "x = float(input('Enter X:  '))\n",
    "if x>2 :\n",
    "    print('Bigger')\n",
    "else :\n",
    "    print('Not Bigger')\n",
    "print('All Done !!')"
   ]
  },
  {
   "cell_type": "code",
   "execution_count": 35,
   "metadata": {},
   "outputs": [
    {
     "name": "stdout",
     "output_type": "stream",
     "text": [
      "Enter X:  99\n",
      "99.0\n",
      "Big\n",
      "All Done !!\n"
     ]
    }
   ],
   "source": [
    "x = float(input('Enter X:  '))\n",
    "print(x)\n",
    "if(x>400):\n",
    "    print(\"Huge\")\n",
    "elif x >10 and x<100 :\n",
    "    print('Big')\n",
    "else:\n",
    "    print('Small')\n",
    "print(\"All Done !!\")"
   ]
  },
  {
   "cell_type": "markdown",
   "metadata": {},
   "source": [
    "## Try and Except Structure\n",
    "### Surround Dangerous code by try and except \n",
    "### if code in try works - the except is skipped \n",
    "### if code in try fails - it jumps to except"
   ]
  },
  {
   "cell_type": "code",
   "execution_count": 38,
   "metadata": {},
   "outputs": [
    {
     "name": "stdout",
     "output_type": "stream",
     "text": [
      "Enter Number :  efsfsdf\n",
      "Enter the valid numerical value , This is your last change \n",
      "Enter Number :  nimma mane\n"
     ]
    },
    {
     "ename": "ValueError",
     "evalue": "could not convert string to float: 'nimma mane'",
     "output_type": "error",
     "traceback": [
      "\u001b[1;31m---------------------------------------------------------------------------\u001b[0m",
      "\u001b[1;31mValueError\u001b[0m                                Traceback (most recent call last)",
      "\u001b[1;32m<ipython-input-38-a4bf6be3689b>\u001b[0m in \u001b[0;36m<module>\u001b[1;34m()\u001b[0m\n\u001b[0;32m      1\u001b[0m \u001b[1;32mtry\u001b[0m\u001b[1;33m:\u001b[0m\u001b[1;33m\u001b[0m\u001b[0m\n\u001b[1;32m----> 2\u001b[1;33m     \u001b[0mrate\u001b[0m \u001b[1;33m=\u001b[0m \u001b[0mfloat\u001b[0m\u001b[1;33m(\u001b[0m\u001b[0minput\u001b[0m\u001b[1;33m(\u001b[0m\u001b[1;34m\"Enter Number :  \"\u001b[0m\u001b[1;33m)\u001b[0m\u001b[1;33m)\u001b[0m\u001b[1;33m\u001b[0m\u001b[0m\n\u001b[0m\u001b[0;32m      3\u001b[0m \u001b[1;32mexcept\u001b[0m\u001b[1;33m:\u001b[0m\u001b[1;33m\u001b[0m\u001b[0m\n",
      "\u001b[1;31mValueError\u001b[0m: could not convert string to float: 'efsfsdf'",
      "\nDuring handling of the above exception, another exception occurred:\n",
      "\u001b[1;31mValueError\u001b[0m                                Traceback (most recent call last)",
      "\u001b[1;32m<ipython-input-38-a4bf6be3689b>\u001b[0m in \u001b[0;36m<module>\u001b[1;34m()\u001b[0m\n\u001b[0;32m      3\u001b[0m \u001b[1;32mexcept\u001b[0m\u001b[1;33m:\u001b[0m\u001b[1;33m\u001b[0m\u001b[0m\n\u001b[0;32m      4\u001b[0m     \u001b[0mprint\u001b[0m\u001b[1;33m(\u001b[0m\u001b[1;34m'Enter the valid numerical value , This is your last change '\u001b[0m\u001b[1;33m)\u001b[0m\u001b[1;33m\u001b[0m\u001b[0m\n\u001b[1;32m----> 5\u001b[1;33m     \u001b[0mrate\u001b[0m \u001b[1;33m=\u001b[0m \u001b[0mfloat\u001b[0m\u001b[1;33m(\u001b[0m\u001b[0minput\u001b[0m\u001b[1;33m(\u001b[0m\u001b[1;34m\"Enter Number :  \"\u001b[0m\u001b[1;33m)\u001b[0m\u001b[1;33m)\u001b[0m\u001b[1;33m\u001b[0m\u001b[0m\n\u001b[0m",
      "\u001b[1;31mValueError\u001b[0m: could not convert string to float: 'nimma mane'"
     ]
    }
   ],
   "source": [
    "try:\n",
    "    rate = float(input(\"Enter Number :  \"))\n",
    "except:\n",
    "    print('Enter the valid numerical value , This is your last change ')\n",
    "    rate = float(input(\"Enter Number :  \"))"
   ]
  },
  {
   "cell_type": "code",
   "execution_count": 39,
   "metadata": {},
   "outputs": [
    {
     "name": "stdout",
     "output_type": "stream",
     "text": [
      "Enter Number :  3sdf\n",
      "Enter the valid numerical value , This is your last change \n",
      "Enter Number :  44\n"
     ]
    }
   ],
   "source": [
    "try:\n",
    "    rate = float(input(\"Enter Number :  \"))\n",
    "except:\n",
    "    print('Enter the valid numerical value , This is your last change ')\n",
    "    rate = float(input(\"Enter Number :  \"))"
   ]
  },
  {
   "cell_type": "code",
   "execution_count": 44,
   "metadata": {},
   "outputs": [
    {
     "name": "stdout",
     "output_type": "stream",
     "text": [
      "Enter Hours for week   45\n",
      "Enter the Rate  10\n",
      "You are doing Over time, Take some rest\n",
      "Total Pay is  475.0\n"
     ]
    }
   ],
   "source": [
    "hours = float(input(\"Enter Hours for week   \"))\n",
    "Rate = float(input(\"Enter the Rate  \"))\n",
    "\n",
    "if hours > 40:\n",
    "    pay = (40* Rate) + ((hours-40) * Rate * 1.5)\n",
    "    print(\"You are doing Over time, Take some rest\")\n",
    "else :\n",
    "    pay=hours * Rate\n",
    "\n",
    "print(\"Total Pay is \", pay)"
   ]
  },
  {
   "cell_type": "markdown",
   "metadata": {},
   "source": [
    "## Functions \n",
    "\n",
    "Function can take arguments\n",
    "Function Can Call other Functions \n",
    "Function can call the same function"
   ]
  },
  {
   "cell_type": "code",
   "execution_count": 45,
   "metadata": {},
   "outputs": [
    {
     "name": "stdout",
     "output_type": "stream",
     "text": [
      "w\n"
     ]
    }
   ],
   "source": [
    "print(max('Hello world'))"
   ]
  },
  {
   "cell_type": "code",
   "execution_count": 1,
   "metadata": {},
   "outputs": [
    {
     "name": "stdout",
     "output_type": "stream",
     "text": [
      "Enter a number :  9\n",
      "8.0\n",
      "7.0\n",
      "6.0\n",
      "5.0\n",
      "4.0\n",
      "3.0\n",
      "2.0\n",
      "1.0\n",
      "0.0\n",
      "Ignitions GO!!\n",
      "You have a Take Off \n"
     ]
    }
   ],
   "source": [
    "n=float(input(\"Enter a number :  \"))\n",
    "while n >0:\n",
    "    n=n-1\n",
    "    print(n)\n",
    "print(\"Ignitions GO!!\")\n",
    "print(\"You have a Take Off \")"
   ]
  },
  {
   "cell_type": "code",
   "execution_count": 3,
   "metadata": {},
   "outputs": [
    {
     "ename": "IndentationError",
     "evalue": "unexpected indent (<ipython-input-3-85ecf1879381>, line 3)",
     "output_type": "error",
     "traceback": [
      "\u001b[1;36m  File \u001b[1;32m\"<ipython-input-3-85ecf1879381>\"\u001b[1;36m, line \u001b[1;32m3\u001b[0m\n\u001b[1;33m    print(\"Lather\")\u001b[0m\n\u001b[1;37m    ^\u001b[0m\n\u001b[1;31mIndentationError\u001b[0m\u001b[1;31m:\u001b[0m unexpected indent\n"
     ]
    }
   ],
   "source": [
    "n=5\n",
    "#while n>0:\n",
    "    print(\"Lather\")\n",
    "    print(\"Rinse\")\n",
    "print(\"Dry Off\")"
   ]
  },
  {
   "cell_type": "markdown",
   "metadata": {},
   "source": [
    "# Breaking Out of Loop \n",
    "\n",
    "## break statement is used"
   ]
  },
  {
   "cell_type": "code",
   "execution_count": null,
   "metadata": {},
   "outputs": [
    {
     "name": "stdout",
     "output_type": "stream",
     "text": [
      "Enter a Numericef\n",
      "ef\n",
      "Enter a Numeric3\n",
      "3\n",
      "Enter a Numeric34\n",
      "34\n",
      "Enter a Numeric123\n",
      "123\n",
      "Enter a Numericint\n",
      "int\n"
     ]
    }
   ],
   "source": [
    "while True:\n",
    "    line = input(\"Enter a Numeric\")\n",
    "    if type(line) == 'int':\n",
    "        break\n",
    "    print(line)\n",
    "print(\"Done!\")"
   ]
  },
  {
   "cell_type": "code",
   "execution_count": null,
   "metadata": {},
   "outputs": [],
   "source": [
    "line = input(\"Enter a Numeric\")\n",
    "type(line)"
   ]
  },
  {
   "cell_type": "code",
   "execution_count": null,
   "metadata": {},
   "outputs": [],
   "source": [
    "while True:\n",
    "    line = input(\"Can you write done\")\n",
    "    if type(line) == 'done':\n",
    "        break\n",
    "        \n",
    "    while True:\n",
    "        name = input(\"... \")\n",
    "        break\n",
    "        if name == \"\":\n",
    "            break\n",
    "            \n",
    "    print(line)\n",
    "print(\"Done!\")"
   ]
  },
  {
   "cell_type": "markdown",
   "metadata": {},
   "source": [
    "### Finishing an Iteration with Continue\n",
    "# continue \n",
    "### continues skipping rest of line in the rest of iteration and jumps to top of loop and begin next iteration"
   ]
  },
  {
   "cell_type": "code",
   "execution_count": null,
   "metadata": {},
   "outputs": [],
   "source": [
    "while True:\n",
    "    line = input('> ')\n",
    "    if line[0] == '#' : \n",
    "        continue\n",
    "    if line == 'done' :\n",
    "        break\n",
    "    print (line)\n",
    "print ('Done!')\n"
   ]
  },
  {
   "cell_type": "code",
   "execution_count": 1,
   "metadata": {},
   "outputs": [],
   "source": [
    "x=[1,2,3,4]"
   ]
  },
  {
   "cell_type": "code",
   "execution_count": 2,
   "metadata": {},
   "outputs": [
    {
     "data": {
      "text/plain": [
       "list"
      ]
     },
     "execution_count": 2,
     "metadata": {},
     "output_type": "execute_result"
    }
   ],
   "source": [
    "type(x)"
   ]
  },
  {
   "cell_type": "code",
   "execution_count": 4,
   "metadata": {},
   "outputs": [
    {
     "name": "stdout",
     "output_type": "stream",
     "text": [
      ".\n",
      ".\n",
      ".\n",
      ".\n",
      ".\n",
      "5\n",
      ".\n",
      ".\n",
      ".\n",
      ".\n",
      "4\n",
      ".\n",
      ".\n",
      ".\n",
      "3\n",
      ".\n",
      ".\n",
      "2\n",
      ".\n",
      "1\n",
      "Blastoff\n"
     ]
    }
   ],
   "source": [
    "for countdown in [5, 4, 3, 2, 1]:\n",
    "    n = countdown\n",
    "    while n > 0:\n",
    "        print(\".\")\n",
    "        n = n - 1\n",
    "    print(countdown)\n",
    "print(\"Blastoff\")"
   ]
  },
  {
   "cell_type": "code",
   "execution_count": 7,
   "metadata": {},
   "outputs": [
    {
     "data": {
      "text/plain": [
       "['apple', 'banana', 'eggs']"
      ]
     },
     "execution_count": 7,
     "metadata": {},
     "output_type": "execute_result"
    }
   ],
   "source": [
    "x = [\"apple\", \"banana\", \"eggs\"]\n",
    "x\n"
   ]
  },
  {
   "cell_type": "code",
   "execution_count": 8,
   "metadata": {
    "scrolled": true
   },
   "outputs": [
    {
     "name": "stdout",
     "output_type": "stream",
     "text": [
      "None\n",
      "['eggs', 'cereal', 'apple', 'Banana']\n"
     ]
    },
    {
     "data": {
      "text/plain": [
       "['__add__',\n",
       " '__class__',\n",
       " '__contains__',\n",
       " '__delattr__',\n",
       " '__delitem__',\n",
       " '__dir__',\n",
       " '__doc__',\n",
       " '__eq__',\n",
       " '__format__',\n",
       " '__ge__',\n",
       " '__getattribute__',\n",
       " '__getitem__',\n",
       " '__gt__',\n",
       " '__hash__',\n",
       " '__iadd__',\n",
       " '__imul__',\n",
       " '__init__',\n",
       " '__init_subclass__',\n",
       " '__iter__',\n",
       " '__le__',\n",
       " '__len__',\n",
       " '__lt__',\n",
       " '__mul__',\n",
       " '__ne__',\n",
       " '__new__',\n",
       " '__reduce__',\n",
       " '__reduce_ex__',\n",
       " '__repr__',\n",
       " '__reversed__',\n",
       " '__rmul__',\n",
       " '__setattr__',\n",
       " '__setitem__',\n",
       " '__sizeof__',\n",
       " '__str__',\n",
       " '__subclasshook__',\n",
       " 'append',\n",
       " 'clear',\n",
       " 'copy',\n",
       " 'count',\n",
       " 'extend',\n",
       " 'index',\n",
       " 'insert',\n",
       " 'pop',\n",
       " 'remove',\n",
       " 'reverse',\n",
       " 'sort']"
      ]
     },
     "execution_count": 8,
     "metadata": {},
     "output_type": "execute_result"
    }
   ],
   "source": [
    "x[1] = \"Banana\"\n",
    "x.append(\"cereal\")\n",
    "x.sort()\n",
    "print(x.reverse())\n",
    "print(x)\n",
    "\n",
    "dir(x) # list of functions on objects\n"
   ]
  },
  {
   "cell_type": "code",
   "execution_count": 10,
   "metadata": {},
   "outputs": [
    {
     "data": {
      "text/plain": [
       "74"
      ]
     },
     "execution_count": 10,
     "metadata": {},
     "output_type": "execute_result"
    }
   ],
   "source": [
    "l = [3,41,12,9,74,15]\n",
    "max(l)"
   ]
  },
  {
   "cell_type": "code",
   "execution_count": 27,
   "metadata": {},
   "outputs": [
    {
     "name": "stdout",
     "output_type": "stream",
     "text": [
      "3   prev 3\n",
      "41   prev 41\n",
      "74   prev 74\n",
      "74\n"
     ]
    }
   ],
   "source": [
    "# find largest number\n",
    "\n",
    "m=-99999999999999\n",
    "for i in l:\n",
    "    if i > m:\n",
    "        m=i\n",
    "        print( m, \"  prev\" , i)\n",
    "        \n",
    "\n",
    "print(m)\n",
    "    \n",
    "    \n",
    "    "
   ]
  },
  {
   "cell_type": "code",
   "execution_count": 19,
   "metadata": {
    "scrolled": true
   },
   "outputs": [
    {
     "name": "stdout",
     "output_type": "stream",
     "text": [
      "Before\n",
      "Count, Sum, Avg\n",
      "1 3 3.0\n",
      "2 44 22.0\n",
      "3 56 18.666666666666668\n",
      "4 65 16.25\n",
      "5 139 27.8\n",
      "6 154 25.666666666666668\n",
      "After 6 154 25.666666666666668\n"
     ]
    }
   ],
   "source": [
    "cnt = 0\n",
    "csum = 0 \n",
    "cavg = 0\n",
    "print(\"Before\")\n",
    "print(\"Count, Sum, Avg\")\n",
    "for i in l :\n",
    "    cnt = cnt + 1 \n",
    "    csum = csum+i\n",
    "    cavg = csum/cnt\n",
    "    print(cnt, csum,cavg)\n",
    "\n",
    "print(\"After\" ,cnt, csum,cavg )\n",
    "         "
   ]
  },
  {
   "cell_type": "code",
   "execution_count": null,
   "metadata": {},
   "outputs": [],
   "source": [
    "for i in l:\n",
    "    if i > l:\n",
    "        "
   ]
  },
  {
   "cell_type": "markdown",
   "metadata": {},
   "source": [
    "'''\n",
    "You are given stock values in an array (365 values) of one year: \n",
    "[3, 1.5, 6, 7, 1] \n",
    "\n",
    "You can only buy once and then sell once.\n",
    "You need to find the max profit you can make.\n",
    "\n",
    "'''"
   ]
  },
  {
   "cell_type": "code",
   "execution_count": null,
   "metadata": {},
   "outputs": [],
   "source": []
  }
 ],
 "metadata": {
  "kernelspec": {
   "display_name": "Python 3",
   "language": "python",
   "name": "python3"
  },
  "language_info": {
   "codemirror_mode": {
    "name": "ipython",
    "version": 3
   },
   "file_extension": ".py",
   "mimetype": "text/x-python",
   "name": "python",
   "nbconvert_exporter": "python",
   "pygments_lexer": "ipython3",
   "version": "3.6.4"
  }
 },
 "nbformat": 4,
 "nbformat_minor": 2
}
