{
 "cells": [
  {
   "cell_type": "code",
   "execution_count": 1,
   "metadata": {},
   "outputs": [
    {
     "name": "stdout",
     "output_type": "stream",
     "text": [
      "What is your Salary 23.5\n"
     ]
    }
   ],
   "source": [
    "sal=input(\"What is your Salary \")"
   ]
  },
  {
   "cell_type": "code",
   "execution_count": 2,
   "metadata": {},
   "outputs": [
    {
     "data": {
      "text/plain": [
       "'23.5'"
      ]
     },
     "execution_count": 2,
     "metadata": {},
     "output_type": "execute_result"
    }
   ],
   "source": [
    "sal"
   ]
  },
  {
   "cell_type": "code",
   "execution_count": 3,
   "metadata": {},
   "outputs": [
    {
     "ename": "TypeError",
     "evalue": "must be str, not int",
     "output_type": "error",
     "traceback": [
      "\u001b[1;31m---------------------------------------------------------------------------\u001b[0m",
      "\u001b[1;31mTypeError\u001b[0m                                 Traceback (most recent call last)",
      "\u001b[1;32m<ipython-input-3-7617d23480a2>\u001b[0m in \u001b[0;36m<module>\u001b[1;34m()\u001b[0m\n\u001b[1;32m----> 1\u001b[1;33m \u001b[0msal\u001b[0m\u001b[1;33m+\u001b[0m\u001b[1;36m1\u001b[0m\u001b[1;33m\u001b[0m\u001b[0m\n\u001b[0m",
      "\u001b[1;31mTypeError\u001b[0m: must be str, not int"
     ]
    }
   ],
   "source": [
    "sal+1  # SAL IS DEFINED AS STRING BY CALLING IT AS A PART OF STRING DURING INPUT "
   ]
  },
  {
   "cell_type": "code",
   "execution_count": 4,
   "metadata": {},
   "outputs": [
    {
     "name": "stdout",
     "output_type": "stream",
     "text": [
      "what's ur salary ?67.5\n"
     ]
    }
   ],
   "source": [
    "sal_1 = float(input(\"what's ur salary ?\"))"
   ]
  },
  {
   "cell_type": "code",
   "execution_count": 5,
   "metadata": {},
   "outputs": [
    {
     "data": {
      "text/plain": [
       "67.5"
      ]
     },
     "execution_count": 5,
     "metadata": {},
     "output_type": "execute_result"
    }
   ],
   "source": [
    "sal_1"
   ]
  },
  {
   "cell_type": "code",
   "execution_count": 7,
   "metadata": {},
   "outputs": [
    {
     "data": {
      "text/plain": [
       "97.5"
      ]
     },
     "execution_count": 7,
     "metadata": {},
     "output_type": "execute_result"
    }
   ],
   "source": [
    "sal_1 + 30"
   ]
  },
  {
   "cell_type": "code",
   "execution_count": 9,
   "metadata": {},
   "outputs": [
    {
     "name": "stdout",
     "output_type": "stream",
     "text": [
      "abc123\n"
     ]
    }
   ],
   "source": [
    "print('abc' + '123')"
   ]
  },
  {
   "cell_type": "code",
   "execution_count": 16,
   "metadata": {
    "scrolled": true
   },
   "outputs": [
    {
     "name": "stdout",
     "output_type": "stream",
     "text": [
      "hihihihihihihihihihi\n",
      "hi \" ' hi \" ' hi \" ' hi \" ' hi \" ' \n",
      "hi'\"hi'\"hi'\"hi'\"hi'\"\n"
     ]
    }
   ],
   "source": [
    "print('hi'*10)\n",
    "print(\"hi \\\" ' \"* 5)\n",
    "print('hi\\'\\\"' * 5)"
   ]
  },
  {
   "cell_type": "code",
   "execution_count": 11,
   "metadata": {},
   "outputs": [
    {
     "name": "stdout",
     "output_type": "stream",
     "text": [
      "hi \n",
      "hi \n",
      "hi \n",
      "hi \n",
      "hi \n",
      "hi \n",
      "hi \n",
      "hi \n",
      "hi \n",
      "hi \n",
      "\n",
      "hi \thi \thi \thi \thi \thi \thi \thi \thi \thi \t\n"
     ]
    }
   ],
   "source": [
    "print('hi \\n' * 10)\n",
    "print('hi \\t' * 10)"
   ]
  },
  {
   "cell_type": "code",
   "execution_count": 18,
   "metadata": {},
   "outputs": [
    {
     "name": "stdout",
     "output_type": "stream",
     "text": [
      "\" is a double quote\n"
     ]
    }
   ],
   "source": [
    "print(\"\\\" is a double quote\")"
   ]
  },
  {
   "cell_type": "code",
   "execution_count": 19,
   "metadata": {},
   "outputs": [
    {
     "name": "stdout",
     "output_type": "stream",
     "text": [
      "437.5\n"
     ]
    }
   ],
   "source": [
    "hours=35.0\n",
    "rate=12.50\n",
    "pay = hours * rate\n",
    "print(pay)\n"
   ]
  },
  {
   "cell_type": "code",
   "execution_count": 22,
   "metadata": {},
   "outputs": [
    {
     "name": "stdout",
     "output_type": "stream",
     "text": [
      "How many hours did you work ? -->   234\n",
      "What is the rate per hour ? -->   23\n",
      "5382.0\n"
     ]
    }
   ],
   "source": [
    "hours=float(input(\"How many hours did you work ? -->   \"))\n",
    "rate=float(input(\"What is the rate per hour ? -->   \"))\n",
    "pay = hours * rate\n",
    "print(pay)\n"
   ]
  },
  {
   "cell_type": "code",
   "execution_count": 27,
   "metadata": {},
   "outputs": [
    {
     "name": "stdout",
     "output_type": "stream",
     "text": [
      "CloudxLab\n"
     ]
    },
    {
     "data": {
      "text/plain": [
       "'fnl = first*second\\nprint(fnl) '"
      ]
     },
     "execution_count": 27,
     "metadata": {},
     "output_type": "execute_result"
    }
   ],
   "source": [
    "first=\"Cloudx\"\n",
    "second=\"Lab\"\n",
    "final=first+second\n",
    "print(final)\n",
    "\n",
    "'''fnl = first*second\n",
    "print(fnl) '''"
   ]
  },
  {
   "cell_type": "code",
   "execution_count": 30,
   "metadata": {},
   "outputs": [
    {
     "name": "stdout",
     "output_type": "stream",
     "text": [
      "x:  5\n",
      "equals 5\n",
      " which is = 2 + 3 \n",
      "Something\n",
      "Equals 5\n",
      "Greater than 4\n",
      "Greater than or Equals 5\n",
      "Less than 6\n",
      "Less than or Equals 5\n",
      "Not equal 6\n"
     ]
    }
   ],
   "source": [
    "x = int(input(\"x:  \"))\n",
    "if x==5:\n",
    "    print(\"equals 5\")\n",
    "    print(\" which is = 2 + 3 \")\n",
    "\n",
    "print(\"Something\")\n",
    "\n",
    "# Comparison Operators\n",
    "\n",
    "if x == 5 : \n",
    "    print ('Equals 5')\n",
    "if x > 4 : \n",
    "   print ('Greater than 4')\n",
    "if  x >= 5 :\n",
    "    print ('Greater than or Equals 5')\n",
    "if x < 6 : \n",
    "    print ('Less than 6')\n",
    "if x <= 5 :\n",
    "    print ('Less than or Equals 5')\n",
    "if x != 6 :\n",
    "    print ('Not equal 6')\n"
   ]
  },
  {
   "cell_type": "code",
   "execution_count": 32,
   "metadata": {},
   "outputs": [
    {
     "name": "stdout",
     "output_type": "stream",
     "text": [
      "Bigger than 2\n",
      "Stil Biffer\n",
      "0\n",
      "Done with i 0\n",
      "1\n",
      "Done with i 1\n",
      "2\n",
      "Done with i 2\n",
      "3\n",
      "Bigger than 2\n",
      "Done with i 3\n",
      "4\n",
      "Bigger than 2\n",
      "Done with i 4\n",
      "All Dne\n"
     ]
    }
   ],
   "source": [
    "x=5\n",
    "if x > 2:\n",
    "    print(\"Bigger than 2\")\n",
    "    print(\"Stil Biffer\")\n",
    "    \n",
    "    \n",
    "for i in range(5):\n",
    "    print(i)\n",
    "    if i>2:\n",
    "        print('Bigger than 2')\n",
    "    print('Done with i',i)\n",
    "print('All Dne')"
   ]
  },
  {
   "cell_type": "markdown",
   "metadata": {},
   "source": [
    "### 2 Way Decissions"
   ]
  },
  {
   "cell_type": "code",
   "execution_count": 34,
   "metadata": {},
   "outputs": [
    {
     "name": "stdout",
     "output_type": "stream",
     "text": [
      "Enter X:  88\n",
      "Bigger\n",
      "All Done !!\n"
     ]
    }
   ],
   "source": [
    "x = float(input('Enter X:  '))\n",
    "if x>2 :\n",
    "    print('Bigger')\n",
    "else :\n",
    "    print('Not Bigger')\n",
    "print('All Done !!')"
   ]
  },
  {
   "cell_type": "code",
   "execution_count": 35,
   "metadata": {},
   "outputs": [
    {
     "name": "stdout",
     "output_type": "stream",
     "text": [
      "Enter X:  99\n",
      "99.0\n",
      "Big\n",
      "All Done !!\n"
     ]
    }
   ],
   "source": [
    "x = float(input('Enter X:  '))\n",
    "print(x)\n",
    "if(x>400):\n",
    "    print(\"Huge\")\n",
    "elif x >10 and x<100 :\n",
    "    print('Big')\n",
    "else:\n",
    "    print('Small')\n",
    "print(\"All Done !!\")"
   ]
  },
  {
   "cell_type": "markdown",
   "metadata": {},
   "source": [
    "## Try and Except Structure\n",
    "### Surround Dangerous code by try and except \n",
    "### if code in try works - the except is skipped \n",
    "### if code in try fails - it jumps to except"
   ]
  },
  {
   "cell_type": "code",
   "execution_count": 38,
   "metadata": {},
   "outputs": [
    {
     "name": "stdout",
     "output_type": "stream",
     "text": [
      "Enter Number :  efsfsdf\n",
      "Enter the valid numerical value , This is your last change \n",
      "Enter Number :  nimma mane\n"
     ]
    },
    {
     "ename": "ValueError",
     "evalue": "could not convert string to float: 'nimma mane'",
     "output_type": "error",
     "traceback": [
      "\u001b[1;31m---------------------------------------------------------------------------\u001b[0m",
      "\u001b[1;31mValueError\u001b[0m                                Traceback (most recent call last)",
      "\u001b[1;32m<ipython-input-38-a4bf6be3689b>\u001b[0m in \u001b[0;36m<module>\u001b[1;34m()\u001b[0m\n\u001b[0;32m      1\u001b[0m \u001b[1;32mtry\u001b[0m\u001b[1;33m:\u001b[0m\u001b[1;33m\u001b[0m\u001b[0m\n\u001b[1;32m----> 2\u001b[1;33m     \u001b[0mrate\u001b[0m \u001b[1;33m=\u001b[0m \u001b[0mfloat\u001b[0m\u001b[1;33m(\u001b[0m\u001b[0minput\u001b[0m\u001b[1;33m(\u001b[0m\u001b[1;34m\"Enter Number :  \"\u001b[0m\u001b[1;33m)\u001b[0m\u001b[1;33m)\u001b[0m\u001b[1;33m\u001b[0m\u001b[0m\n\u001b[0m\u001b[0;32m      3\u001b[0m \u001b[1;32mexcept\u001b[0m\u001b[1;33m:\u001b[0m\u001b[1;33m\u001b[0m\u001b[0m\n",
      "\u001b[1;31mValueError\u001b[0m: could not convert string to float: 'efsfsdf'",
      "\nDuring handling of the above exception, another exception occurred:\n",
      "\u001b[1;31mValueError\u001b[0m                                Traceback (most recent call last)",
      "\u001b[1;32m<ipython-input-38-a4bf6be3689b>\u001b[0m in \u001b[0;36m<module>\u001b[1;34m()\u001b[0m\n\u001b[0;32m      3\u001b[0m \u001b[1;32mexcept\u001b[0m\u001b[1;33m:\u001b[0m\u001b[1;33m\u001b[0m\u001b[0m\n\u001b[0;32m      4\u001b[0m     \u001b[0mprint\u001b[0m\u001b[1;33m(\u001b[0m\u001b[1;34m'Enter the valid numerical value , This is your last change '\u001b[0m\u001b[1;33m)\u001b[0m\u001b[1;33m\u001b[0m\u001b[0m\n\u001b[1;32m----> 5\u001b[1;33m     \u001b[0mrate\u001b[0m \u001b[1;33m=\u001b[0m \u001b[0mfloat\u001b[0m\u001b[1;33m(\u001b[0m\u001b[0minput\u001b[0m\u001b[1;33m(\u001b[0m\u001b[1;34m\"Enter Number :  \"\u001b[0m\u001b[1;33m)\u001b[0m\u001b[1;33m)\u001b[0m\u001b[1;33m\u001b[0m\u001b[0m\n\u001b[0m",
      "\u001b[1;31mValueError\u001b[0m: could not convert string to float: 'nimma mane'"
     ]
    }
   ],
   "source": [
    "try:\n",
    "    rate = float(input(\"Enter Number :  \"))\n",
    "except:\n",
    "    print('Enter the valid numerical value , This is your last change ')\n",
    "    rate = float(input(\"Enter Number :  \"))"
   ]
  },
  {
   "cell_type": "code",
   "execution_count": 39,
   "metadata": {},
   "outputs": [
    {
     "name": "stdout",
     "output_type": "stream",
     "text": [
      "Enter Number :  3sdf\n",
      "Enter the valid numerical value , This is your last change \n",
      "Enter Number :  44\n"
     ]
    }
   ],
   "source": [
    "try:\n",
    "    rate = float(input(\"Enter Number :  \"))\n",
    "except:\n",
    "    print('Enter the valid numerical value , This is your last change ')\n",
    "    rate = float(input(\"Enter Number :  \"))"
   ]
  },
  {
   "cell_type": "code",
   "execution_count": 44,
   "metadata": {},
   "outputs": [
    {
     "name": "stdout",
     "output_type": "stream",
     "text": [
      "Enter Hours for week   45\n",
      "Enter the Rate  10\n",
      "You are doing Over time, Take some rest\n",
      "Total Pay is  475.0\n"
     ]
    }
   ],
   "source": [
    "hours = float(input(\"Enter Hours for week   \"))\n",
    "Rate = float(input(\"Enter the Rate  \"))\n",
    "\n",
    "if hours > 40:\n",
    "    pay = (40* Rate) + ((hours-40) * Rate * 1.5)\n",
    "    print(\"You are doing Over time, Take some rest\")\n",
    "else :\n",
    "    pay=hours * Rate\n",
    "\n",
    "print(\"Total Pay is \", pay)"
   ]
  },
  {
   "cell_type": "markdown",
   "metadata": {},
   "source": [
    "## Functions \n",
    "\n",
    "Function can take arguments\n",
    "Function Can Call other Functions \n",
    "Function can call the same function"
   ]
  },
  {
   "cell_type": "code",
   "execution_count": 45,
   "metadata": {},
   "outputs": [
    {
     "name": "stdout",
     "output_type": "stream",
     "text": [
      "w\n"
     ]
    }
   ],
   "source": [
    "print(max('Hello world'))"
   ]
  },
  {
   "cell_type": "code",
   "execution_count": 1,
   "metadata": {},
   "outputs": [
    {
     "name": "stdout",
     "output_type": "stream",
     "text": [
      "Enter a number :  9\n",
      "8.0\n",
      "7.0\n",
      "6.0\n",
      "5.0\n",
      "4.0\n",
      "3.0\n",
      "2.0\n",
      "1.0\n",
      "0.0\n",
      "Ignitions GO!!\n",
      "You have a Take Off \n"
     ]
    }
   ],
   "source": [
    "n=float(input(\"Enter a number :  \"))\n",
    "while n >0:\n",
    "    n=n-1\n",
    "    print(n)\n",
    "print(\"Ignitions GO!!\")\n",
    "print(\"You have a Take Off \")"
   ]
  },
  {
   "cell_type": "code",
   "execution_count": 3,
   "metadata": {},
   "outputs": [
    {
     "ename": "IndentationError",
     "evalue": "unexpected indent (<ipython-input-3-85ecf1879381>, line 3)",
     "output_type": "error",
     "traceback": [
      "\u001b[1;36m  File \u001b[1;32m\"<ipython-input-3-85ecf1879381>\"\u001b[1;36m, line \u001b[1;32m3\u001b[0m\n\u001b[1;33m    print(\"Lather\")\u001b[0m\n\u001b[1;37m    ^\u001b[0m\n\u001b[1;31mIndentationError\u001b[0m\u001b[1;31m:\u001b[0m unexpected indent\n"
     ]
    }
   ],
   "source": [
    "n=5\n",
    "#while n>0:\n",
    "    print(\"Lather\")\n",
    "    print(\"Rinse\")\n",
    "print(\"Dry Off\")"
   ]
  },
  {
   "cell_type": "markdown",
   "metadata": {},
   "source": [
    "# Breaking Out of Loop \n",
    "\n",
    "## break statement is used"
   ]
  },
  {
   "cell_type": "code",
   "execution_count": null,
   "metadata": {},
   "outputs": [
    {
     "name": "stdout",
     "output_type": "stream",
     "text": [
      "Enter a Numericef\n",
      "ef\n",
      "Enter a Numeric3\n",
      "3\n",
      "Enter a Numeric34\n",
      "34\n",
      "Enter a Numeric123\n",
      "123\n",
      "Enter a Numericint\n",
      "int\n"
     ]
    }
   ],
   "source": [
    "while True:\n",
    "    line = input(\"Enter a Numeric\")\n",
    "    if type(line) == 'int':\n",
    "        break\n",
    "    print(line)\n",
    "print(\"Done!\")"
   ]
  },
  {
   "cell_type": "code",
   "execution_count": null,
   "metadata": {},
   "outputs": [],
   "source": [
    "line = input(\"Enter a Numeric\")\n",
    "type(line)"
   ]
  },
  {
   "cell_type": "code",
   "execution_count": null,
   "metadata": {},
   "outputs": [],
   "source": [
    "while True:\n",
    "    line = input(\"Can you write done\")\n",
    "    if type(line) == 'done':\n",
    "        break\n",
    "        \n",
    "    while True:\n",
    "        name = input(\"... \")\n",
    "        break\n",
    "        if name == \"\":\n",
    "            break\n",
    "            \n",
    "    print(line)\n",
    "print(\"Done!\")"
   ]
  },
  {
   "cell_type": "markdown",
   "metadata": {},
   "source": [
    "### Finishing an Iteration with Continue\n",
    "# continue \n",
    "### continues skipping rest of line in the rest of iteration and jumps to top of loop and begin next iteration"
   ]
  },
  {
   "cell_type": "code",
   "execution_count": null,
   "metadata": {},
   "outputs": [],
   "source": [
    "while True:\n",
    "    line = input('> ')\n",
    "    if line[0] == '#' : \n",
    "        continue\n",
    "    if line == 'done' :\n",
    "        break\n",
    "    print (line)\n",
    "print ('Done!')\n"
   ]
  },
  {
   "cell_type": "code",
   "execution_count": 1,
   "metadata": {},
   "outputs": [],
   "source": [
    "x=[1,2,3,4]"
   ]
  },
  {
   "cell_type": "code",
   "execution_count": 2,
   "metadata": {},
   "outputs": [
    {
     "data": {
      "text/plain": [
       "list"
      ]
     },
     "execution_count": 2,
     "metadata": {},
     "output_type": "execute_result"
    }
   ],
   "source": [
    "type(x)"
   ]
  },
  {
   "cell_type": "code",
   "execution_count": 4,
   "metadata": {},
   "outputs": [
    {
     "name": "stdout",
     "output_type": "stream",
     "text": [
      ".\n",
      ".\n",
      ".\n",
      ".\n",
      ".\n",
      "5\n",
      ".\n",
      ".\n",
      ".\n",
      ".\n",
      "4\n",
      ".\n",
      ".\n",
      ".\n",
      "3\n",
      ".\n",
      ".\n",
      "2\n",
      ".\n",
      "1\n",
      "Blastoff\n"
     ]
    }
   ],
   "source": [
    "for countdown in [5, 4, 3, 2, 1]:\n",
    "    n = countdown\n",
    "    while n > 0:\n",
    "        print(\".\")\n",
    "        n = n - 1\n",
    "    print(countdown)\n",
    "print(\"Blastoff\")"
   ]
  },
  {
   "cell_type": "code",
   "execution_count": 7,
   "metadata": {},
   "outputs": [
    {
     "data": {
      "text/plain": [
       "['apple', 'banana', 'eggs']"
      ]
     },
     "execution_count": 7,
     "metadata": {},
     "output_type": "execute_result"
    }
   ],
   "source": [
    "x = [\"apple\", \"banana\", \"eggs\"]\n",
    "x\n"
   ]
  },
  {
   "cell_type": "code",
   "execution_count": 8,
   "metadata": {
    "scrolled": true
   },
   "outputs": [
    {
     "name": "stdout",
     "output_type": "stream",
     "text": [
      "None\n",
      "['eggs', 'cereal', 'apple', 'Banana']\n"
     ]
    },
    {
     "data": {
      "text/plain": [
       "['__add__',\n",
       " '__class__',\n",
       " '__contains__',\n",
       " '__delattr__',\n",
       " '__delitem__',\n",
       " '__dir__',\n",
       " '__doc__',\n",
       " '__eq__',\n",
       " '__format__',\n",
       " '__ge__',\n",
       " '__getattribute__',\n",
       " '__getitem__',\n",
       " '__gt__',\n",
       " '__hash__',\n",
       " '__iadd__',\n",
       " '__imul__',\n",
       " '__init__',\n",
       " '__init_subclass__',\n",
       " '__iter__',\n",
       " '__le__',\n",
       " '__len__',\n",
       " '__lt__',\n",
       " '__mul__',\n",
       " '__ne__',\n",
       " '__new__',\n",
       " '__reduce__',\n",
       " '__reduce_ex__',\n",
       " '__repr__',\n",
       " '__reversed__',\n",
       " '__rmul__',\n",
       " '__setattr__',\n",
       " '__setitem__',\n",
       " '__sizeof__',\n",
       " '__str__',\n",
       " '__subclasshook__',\n",
       " 'append',\n",
       " 'clear',\n",
       " 'copy',\n",
       " 'count',\n",
       " 'extend',\n",
       " 'index',\n",
       " 'insert',\n",
       " 'pop',\n",
       " 'remove',\n",
       " 'reverse',\n",
       " 'sort']"
      ]
     },
     "execution_count": 8,
     "metadata": {},
     "output_type": "execute_result"
    }
   ],
   "source": [
    "x[1] = \"Banana\"\n",
    "x.append(\"cereal\")\n",
    "x.sort()\n",
    "print(x.reverse())\n",
    "print(x)\n",
    "\n",
    "dir(x) # list of functions on objects\n"
   ]
  },
  {
   "cell_type": "code",
   "execution_count": 10,
   "metadata": {},
   "outputs": [
    {
     "data": {
      "text/plain": [
       "74"
      ]
     },
     "execution_count": 10,
     "metadata": {},
     "output_type": "execute_result"
    }
   ],
   "source": [
    "l = [3,41,12,9,74,15]\n",
    "max(l)"
   ]
  },
  {
   "cell_type": "code",
   "execution_count": 27,
   "metadata": {},
   "outputs": [
    {
     "name": "stdout",
     "output_type": "stream",
     "text": [
      "3   prev 3\n",
      "41   prev 41\n",
      "74   prev 74\n",
      "74\n"
     ]
    }
   ],
   "source": [
    "# find largest number\n",
    "\n",
    "m=-99999999999999\n",
    "for i in l:\n",
    "    if i > m:\n",
    "        m=i\n",
    "        print( m, \"  prev\" , i)\n",
    "        \n",
    "\n",
    "print(m)\n",
    "    \n",
    "    \n",
    "    "
   ]
  },
  {
   "cell_type": "code",
   "execution_count": 19,
   "metadata": {
    "scrolled": true
   },
   "outputs": [
    {
     "name": "stdout",
     "output_type": "stream",
     "text": [
      "Before\n",
      "Count, Sum, Avg\n",
      "1 3 3.0\n",
      "2 44 22.0\n",
      "3 56 18.666666666666668\n",
      "4 65 16.25\n",
      "5 139 27.8\n",
      "6 154 25.666666666666668\n",
      "After 6 154 25.666666666666668\n"
     ]
    }
   ],
   "source": [
    "cnt = 0\n",
    "csum = 0 \n",
    "cavg = 0\n",
    "print(\"Before\")\n",
    "print(\"Count, Sum, Avg\")\n",
    "for i in l :\n",
    "    cnt = cnt + 1 \n",
    "    csum = csum+i\n",
    "    cavg = csum/cnt\n",
    "    print(cnt, csum,cavg)\n",
    "\n",
    "print(\"After\" ,cnt, csum,cavg )\n",
    "         "
   ]
  },
  {
   "cell_type": "code",
   "execution_count": null,
   "metadata": {},
   "outputs": [],
   "source": [
    "for i in l:\n",
    "    if i > l:\n",
    "        "
   ]
  },
  {
   "cell_type": "markdown",
   "metadata": {},
   "source": [
    "'''\n",
    "You are given stock values in an array (365 values) of one year: \n",
    "[3, 1.5, 6, 7, 1] \n",
    "\n",
    "You can only buy once and then sell once.\n",
    "You need to find the max profit you can make.\n",
    "\n",
    "'''"
   ]
  },
  {
   "cell_type": "code",
   "execution_count": 28,
   "metadata": {},
   "outputs": [
    {
     "name": "stdout",
     "output_type": "stream",
     "text": [
      "Before\n",
      "3 3\n",
      "3 41\n",
      "3 12\n",
      "3 9\n",
      "3 74\n",
      "3 15\n",
      "After 3\n"
     ]
    }
   ],
   "source": [
    "smlst = None\n",
    "x = [3,41,12,9,74,15]\n",
    "print(\"Before\")\n",
    "for val in x:\n",
    "    if smlst is None:\n",
    "        smlst = val\n",
    "    elif val < smlst:\n",
    "        smlst = val\n",
    "    print(smlst, val)\n",
    "print(\"After\", smlst)"
   ]
  },
  {
   "cell_type": "code",
   "execution_count": 30,
   "metadata": {},
   "outputs": [
    {
     "name": "stdout",
     "output_type": "stream",
     "text": [
      "Mont\n",
      "P\n",
      "Python\n"
     ]
    }
   ],
   "source": [
    "s = 'Monty Python'\n",
    "print (s[0:4])\n",
    "print (s[6:7])\n",
    "print (s[6:20])\n"
   ]
  },
  {
   "cell_type": "code",
   "execution_count": 31,
   "metadata": {},
   "outputs": [
    {
     "data": {
      "text/plain": [
       "'Monty Python'"
      ]
     },
     "execution_count": 31,
     "metadata": {},
     "output_type": "execute_result"
    }
   ],
   "source": [
    "s[:]"
   ]
  },
  {
   "cell_type": "code",
   "execution_count": 33,
   "metadata": {},
   "outputs": [
    {
     "data": {
      "text/plain": [
       "'Monty Python'"
      ]
     },
     "execution_count": 33,
     "metadata": {},
     "output_type": "execute_result"
    }
   ],
   "source": [
    "s[0:]"
   ]
  },
  {
   "cell_type": "code",
   "execution_count": 34,
   "metadata": {},
   "outputs": [
    {
     "data": {
      "text/plain": [
       "'nty Python'"
      ]
     },
     "execution_count": 34,
     "metadata": {},
     "output_type": "execute_result"
    }
   ],
   "source": [
    "s[2:]"
   ]
  },
  {
   "cell_type": "code",
   "execution_count": 35,
   "metadata": {},
   "outputs": [
    {
     "data": {
      "text/plain": [
       "'Monty Pyt'"
      ]
     },
     "execution_count": 35,
     "metadata": {},
     "output_type": "execute_result"
    }
   ],
   "source": [
    "s[:9]"
   ]
  },
  {
   "cell_type": "code",
   "execution_count": 39,
   "metadata": {},
   "outputs": [
    {
     "name": "stdout",
     "output_type": "stream",
     "text": [
      "123456789"
     ]
    }
   ],
   "source": [
    "import sys \n",
    "for i in range(1,10):\n",
    "    # sys.stdout.write(i) #-- Line Gives Error \n",
    "    sys.stdout.write(str(i))"
   ]
  },
  {
   "cell_type": "code",
   "execution_count": 40,
   "metadata": {},
   "outputs": [
    {
     "data": {
      "text/plain": [
       "'Monty Python'"
      ]
     },
     "execution_count": 40,
     "metadata": {},
     "output_type": "execute_result"
    }
   ],
   "source": [
    "s"
   ]
  },
  {
   "cell_type": "code",
   "execution_count": 42,
   "metadata": {},
   "outputs": [
    {
     "data": {
      "text/plain": [
       "False"
      ]
     },
     "execution_count": 42,
     "metadata": {},
     "output_type": "execute_result"
    }
   ],
   "source": [
    "'b' in 'aeiou'"
   ]
  },
  {
   "cell_type": "code",
   "execution_count": 43,
   "metadata": {},
   "outputs": [],
   "source": [
    "def is_vowel(l):\n",
    "    return l in 'aeiou' "
   ]
  },
  {
   "cell_type": "code",
   "execution_count": 44,
   "metadata": {},
   "outputs": [
    {
     "data": {
      "text/plain": [
       "True"
      ]
     },
     "execution_count": 44,
     "metadata": {},
     "output_type": "execute_result"
    }
   ],
   "source": [
    "is_vowel('a') \n"
   ]
  },
  {
   "cell_type": "markdown",
   "metadata": {},
   "source": [
    "## Lexical Comparison of Strings \n",
    "### Lexical Ordering is the way words are arranged in Dictionary "
   ]
  },
  {
   "cell_type": "code",
   "execution_count": 46,
   "metadata": {},
   "outputs": [
    {
     "data": {
      "text/plain": [
       "False"
      ]
     },
     "execution_count": 46,
     "metadata": {},
     "output_type": "execute_result"
    }
   ],
   "source": [
    "'APPLE' > 'bANADA'"
   ]
  },
  {
   "cell_type": "code",
   "execution_count": 47,
   "metadata": {},
   "outputs": [
    {
     "data": {
      "text/plain": [
       "False"
      ]
     },
     "execution_count": 47,
     "metadata": {},
     "output_type": "execute_result"
    }
   ],
   "source": [
    "'apple' < 'Appl'"
   ]
  },
  {
   "cell_type": "code",
   "execution_count": 48,
   "metadata": {},
   "outputs": [
    {
     "data": {
      "text/plain": [
       "True"
      ]
     },
     "execution_count": 48,
     "metadata": {},
     "output_type": "execute_result"
    }
   ],
   "source": [
    "'apple' > 'Apple'"
   ]
  },
  {
   "cell_type": "code",
   "execution_count": 49,
   "metadata": {},
   "outputs": [
    {
     "data": {
      "text/plain": [
       "True"
      ]
     },
     "execution_count": 49,
     "metadata": {},
     "output_type": "execute_result"
    }
   ],
   "source": [
    "'apple' > 'APPLE'"
   ]
  },
  {
   "cell_type": "code",
   "execution_count": 50,
   "metadata": {},
   "outputs": [
    {
     "data": {
      "text/plain": [
       "True"
      ]
     },
     "execution_count": 50,
     "metadata": {},
     "output_type": "execute_result"
    }
   ],
   "source": [
    "'A' < 'a'"
   ]
  },
  {
   "cell_type": "code",
   "execution_count": 51,
   "metadata": {},
   "outputs": [
    {
     "data": {
      "text/plain": [
       "65"
      ]
     },
     "execution_count": 51,
     "metadata": {},
     "output_type": "execute_result"
    }
   ],
   "source": [
    "ord('A')"
   ]
  },
  {
   "cell_type": "code",
   "execution_count": 52,
   "metadata": {},
   "outputs": [
    {
     "data": {
      "text/plain": [
       "97"
      ]
     },
     "execution_count": 52,
     "metadata": {},
     "output_type": "execute_result"
    }
   ],
   "source": [
    "ord('a')"
   ]
  },
  {
   "cell_type": "code",
   "execution_count": 53,
   "metadata": {},
   "outputs": [
    {
     "name": "stdout",
     "output_type": "stream",
     "text": [
      "Help on class str in module builtins:\n",
      "\n",
      "class str(object)\n",
      " |  str(object='') -> str\n",
      " |  str(bytes_or_buffer[, encoding[, errors]]) -> str\n",
      " |  \n",
      " |  Create a new string object from the given object. If encoding or\n",
      " |  errors is specified, then the object must expose a data buffer\n",
      " |  that will be decoded using the given encoding and error handler.\n",
      " |  Otherwise, returns the result of object.__str__() (if defined)\n",
      " |  or repr(object).\n",
      " |  encoding defaults to sys.getdefaultencoding().\n",
      " |  errors defaults to 'strict'.\n",
      " |  \n",
      " |  Methods defined here:\n",
      " |  \n",
      " |  __add__(self, value, /)\n",
      " |      Return self+value.\n",
      " |  \n",
      " |  __contains__(self, key, /)\n",
      " |      Return key in self.\n",
      " |  \n",
      " |  __eq__(self, value, /)\n",
      " |      Return self==value.\n",
      " |  \n",
      " |  __format__(...)\n",
      " |      S.__format__(format_spec) -> str\n",
      " |      \n",
      " |      Return a formatted version of S as described by format_spec.\n",
      " |  \n",
      " |  __ge__(self, value, /)\n",
      " |      Return self>=value.\n",
      " |  \n",
      " |  __getattribute__(self, name, /)\n",
      " |      Return getattr(self, name).\n",
      " |  \n",
      " |  __getitem__(self, key, /)\n",
      " |      Return self[key].\n",
      " |  \n",
      " |  __getnewargs__(...)\n",
      " |  \n",
      " |  __gt__(self, value, /)\n",
      " |      Return self>value.\n",
      " |  \n",
      " |  __hash__(self, /)\n",
      " |      Return hash(self).\n",
      " |  \n",
      " |  __iter__(self, /)\n",
      " |      Implement iter(self).\n",
      " |  \n",
      " |  __le__(self, value, /)\n",
      " |      Return self<=value.\n",
      " |  \n",
      " |  __len__(self, /)\n",
      " |      Return len(self).\n",
      " |  \n",
      " |  __lt__(self, value, /)\n",
      " |      Return self<value.\n",
      " |  \n",
      " |  __mod__(self, value, /)\n",
      " |      Return self%value.\n",
      " |  \n",
      " |  __mul__(self, value, /)\n",
      " |      Return self*value.n\n",
      " |  \n",
      " |  __ne__(self, value, /)\n",
      " |      Return self!=value.\n",
      " |  \n",
      " |  __new__(*args, **kwargs) from builtins.type\n",
      " |      Create and return a new object.  See help(type) for accurate signature.\n",
      " |  \n",
      " |  __repr__(self, /)\n",
      " |      Return repr(self).\n",
      " |  \n",
      " |  __rmod__(self, value, /)\n",
      " |      Return value%self.\n",
      " |  \n",
      " |  __rmul__(self, value, /)\n",
      " |      Return self*value.\n",
      " |  \n",
      " |  __sizeof__(...)\n",
      " |      S.__sizeof__() -> size of S in memory, in bytes\n",
      " |  \n",
      " |  __str__(self, /)\n",
      " |      Return str(self).\n",
      " |  \n",
      " |  capitalize(...)\n",
      " |      S.capitalize() -> str\n",
      " |      \n",
      " |      Return a capitalized version of S, i.e. make the first character\n",
      " |      have upper case and the rest lower case.\n",
      " |  \n",
      " |  casefold(...)\n",
      " |      S.casefold() -> str\n",
      " |      \n",
      " |      Return a version of S suitable for caseless comparisons.\n",
      " |  \n",
      " |  center(...)\n",
      " |      S.center(width[, fillchar]) -> str\n",
      " |      \n",
      " |      Return S centered in a string of length width. Padding is\n",
      " |      done using the specified fill character (default is a space)\n",
      " |  \n",
      " |  count(...)\n",
      " |      S.count(sub[, start[, end]]) -> int\n",
      " |      \n",
      " |      Return the number of non-overlapping occurrences of substring sub in\n",
      " |      string S[start:end].  Optional arguments start and end are\n",
      " |      interpreted as in slice notation.\n",
      " |  \n",
      " |  encode(...)\n",
      " |      S.encode(encoding='utf-8', errors='strict') -> bytes\n",
      " |      \n",
      " |      Encode S using the codec registered for encoding. Default encoding\n",
      " |      is 'utf-8'. errors may be given to set a different error\n",
      " |      handling scheme. Default is 'strict' meaning that encoding errors raise\n",
      " |      a UnicodeEncodeError. Other possible values are 'ignore', 'replace' and\n",
      " |      'xmlcharrefreplace' as well as any other name registered with\n",
      " |      codecs.register_error that can handle UnicodeEncodeErrors.\n",
      " |  \n",
      " |  endswith(...)\n",
      " |      S.endswith(suffix[, start[, end]]) -> bool\n",
      " |      \n",
      " |      Return True if S ends with the specified suffix, False otherwise.\n",
      " |      With optional start, test S beginning at that position.\n",
      " |      With optional end, stop comparing S at that position.\n",
      " |      suffix can also be a tuple of strings to try.\n",
      " |  \n",
      " |  expandtabs(...)\n",
      " |      S.expandtabs(tabsize=8) -> str\n",
      " |      \n",
      " |      Return a copy of S where all tab characters are expanded using spaces.\n",
      " |      If tabsize is not given, a tab size of 8 characters is assumed.\n",
      " |  \n",
      " |  find(...)\n",
      " |      S.find(sub[, start[, end]]) -> int\n",
      " |      \n",
      " |      Return the lowest index in S where substring sub is found,\n",
      " |      such that sub is contained within S[start:end].  Optional\n",
      " |      arguments start and end are interpreted as in slice notation.\n",
      " |      \n",
      " |      Return -1 on failure.\n",
      " |  \n",
      " |  format(...)\n",
      " |      S.format(*args, **kwargs) -> str\n",
      " |      \n",
      " |      Return a formatted version of S, using substitutions from args and kwargs.\n",
      " |      The substitutions are identified by braces ('{' and '}').\n",
      " |  \n",
      " |  format_map(...)\n",
      " |      S.format_map(mapping) -> str\n",
      " |      \n",
      " |      Return a formatted version of S, using substitutions from mapping.\n",
      " |      The substitutions are identified by braces ('{' and '}').\n",
      " |  \n",
      " |  index(...)\n",
      " |      S.index(sub[, start[, end]]) -> int\n",
      " |      \n",
      " |      Return the lowest index in S where substring sub is found, \n",
      " |      such that sub is contained within S[start:end].  Optional\n",
      " |      arguments start and end are interpreted as in slice notation.\n",
      " |      \n",
      " |      Raises ValueError when the substring is not found.\n",
      " |  \n",
      " |  isalnum(...)\n",
      " |      S.isalnum() -> bool\n",
      " |      \n",
      " |      Return True if all characters in S are alphanumeric\n",
      " |      and there is at least one character in S, False otherwise.\n",
      " |  \n",
      " |  isalpha(...)\n",
      " |      S.isalpha() -> bool\n",
      " |      \n",
      " |      Return True if all characters in S are alphabetic\n",
      " |      and there is at least one character in S, False otherwise.\n",
      " |  \n",
      " |  isdecimal(...)\n",
      " |      S.isdecimal() -> bool\n",
      " |      \n",
      " |      Return True if there are only decimal characters in S,\n",
      " |      False otherwise.\n",
      " |  \n",
      " |  isdigit(...)\n",
      " |      S.isdigit() -> bool\n",
      " |      \n",
      " |      Return True if all characters in S are digits\n",
      " |      and there is at least one character in S, False otherwise.\n",
      " |  \n",
      " |  isidentifier(...)\n",
      " |      S.isidentifier() -> bool\n",
      " |      \n",
      " |      Return True if S is a valid identifier according\n",
      " |      to the language definition.\n",
      " |      \n",
      " |      Use keyword.iskeyword() to test for reserved identifiers\n",
      " |      such as \"def\" and \"class\".\n",
      " |  \n",
      " |  islower(...)\n",
      " |      S.islower() -> bool\n",
      " |      \n",
      " |      Return True if all cased characters in S are lowercase and there is\n",
      " |      at least one cased character in S, False otherwise.\n",
      " |  \n",
      " |  isnumeric(...)\n",
      " |      S.isnumeric() -> bool\n",
      " |      \n",
      " |      Return True if there are only numeric characters in S,\n",
      " |      False otherwise.\n",
      " |  \n",
      " |  isprintable(...)\n",
      " |      S.isprintable() -> bool\n",
      " |      \n",
      " |      Return True if all characters in S are considered\n",
      " |      printable in repr() or S is empty, False otherwise.\n",
      " |  \n",
      " |  isspace(...)\n",
      " |      S.isspace() -> bool\n",
      " |      \n",
      " |      Return True if all characters in S are whitespace\n",
      " |      and there is at least one character in S, False otherwise.\n",
      " |  \n",
      " |  istitle(...)\n",
      " |      S.istitle() -> bool\n",
      " |      \n",
      " |      Return True if S is a titlecased string and there is at least one\n",
      " |      character in S, i.e. upper- and titlecase characters may only\n",
      " |      follow uncased characters and lowercase characters only cased ones.\n",
      " |      Return False otherwise.\n",
      " |  \n",
      " |  isupper(...)\n",
      " |      S.isupper() -> bool\n",
      " |      \n",
      " |      Return True if all cased characters in S are uppercase and there is\n",
      " |      at least one cased character in S, False otherwise.\n",
      " |  \n",
      " |  join(...)\n",
      " |      S.join(iterable) -> str\n",
      " |      \n",
      " |      Return a string which is the concatenation of the strings in the\n",
      " |      iterable.  The separator between elements is S.\n",
      " |  \n",
      " |  ljust(...)\n",
      " |      S.ljust(width[, fillchar]) -> str\n",
      " |      \n",
      " |      Return S left-justified in a Unicode string of length width. Padding is\n",
      " |      done using the specified fill character (default is a space).\n",
      " |  \n",
      " |  lower(...)\n",
      " |      S.lower() -> str\n",
      " |      \n",
      " |      Return a copy of the string S converted to lowercase.\n",
      " |  \n",
      " |  lstrip(...)\n",
      " |      S.lstrip([chars]) -> str\n",
      " |      \n",
      " |      Return a copy of the string S with leading whitespace removed.\n",
      " |      If chars is given and not None, remove characters in chars instead.\n",
      " |  \n",
      " |  partition(...)\n",
      " |      S.partition(sep) -> (head, sep, tail)\n",
      " |      \n",
      " |      Search for the separator sep in S, and return the part before it,\n",
      " |      the separator itself, and the part after it.  If the separator is not\n",
      " |      found, return S and two empty strings.\n",
      " |  \n",
      " |  replace(...)\n",
      " |      S.replace(old, new[, count]) -> str\n",
      " |      \n",
      " |      Return a copy of S with all occurrences of substring\n",
      " |      old replaced by new.  If the optional argument count is\n",
      " |      given, only the first count occurrences are replaced.\n",
      " |  \n",
      " |  rfind(...)\n",
      " |      S.rfind(sub[, start[, end]]) -> int\n",
      " |      \n",
      " |      Return the highest index in S where substring sub is found,\n",
      " |      such that sub is contained within S[start:end].  Optional\n",
      " |      arguments start and end are interpreted as in slice notation.\n",
      " |      \n",
      " |      Return -1 on failure.\n",
      " |  \n",
      " |  rindex(...)\n",
      " |      S.rindex(sub[, start[, end]]) -> int\n",
      " |      \n",
      " |      Return the highest index in S where substring sub is found,\n",
      " |      such that sub is contained within S[start:end].  Optional\n",
      " |      arguments start and end are interpreted as in slice notation.\n",
      " |      \n",
      " |      Raises ValueError when the substring is not found.\n",
      " |  \n",
      " |  rjust(...)\n",
      " |      S.rjust(width[, fillchar]) -> str\n",
      " |      \n",
      " |      Return S right-justified in a string of length width. Padding is\n",
      " |      done using the specified fill character (default is a space).\n",
      " |  \n",
      " |  rpartition(...)\n",
      " |      S.rpartition(sep) -> (head, sep, tail)\n",
      " |      \n",
      " |      Search for the separator sep in S, starting at the end of S, and return\n",
      " |      the part before it, the separator itself, and the part after it.  If the\n",
      " |      separator is not found, return two empty strings and S.\n",
      " |  \n",
      " |  rsplit(...)\n",
      " |      S.rsplit(sep=None, maxsplit=-1) -> list of strings\n",
      " |      \n",
      " |      Return a list of the words in S, using sep as the\n",
      " |      delimiter string, starting at the end of the string and\n",
      " |      working to the front.  If maxsplit is given, at most maxsplit\n",
      " |      splits are done. If sep is not specified, any whitespace string\n",
      " |      is a separator.\n",
      " |  \n",
      " |  rstrip(...)\n",
      " |      S.rstrip([chars]) -> str\n",
      " |      \n",
      " |      Return a copy of the string S with trailing whitespace removed.\n",
      " |      If chars is given and not None, remove characters in chars instead.\n",
      " |  \n",
      " |  split(...)\n",
      " |      S.split(sep=None, maxsplit=-1) -> list of strings\n",
      " |      \n",
      " |      Return a list of the words in S, using sep as the\n",
      " |      delimiter string.  If maxsplit is given, at most maxsplit\n",
      " |      splits are done. If sep is not specified or is None, any\n",
      " |      whitespace string is a separator and empty strings are\n",
      " |      removed from the result.\n",
      " |  \n",
      " |  splitlines(...)\n",
      " |      S.splitlines([keepends]) -> list of strings\n",
      " |      \n",
      " |      Return a list of the lines in S, breaking at line boundaries.\n",
      " |      Line breaks are not included in the resulting list unless keepends\n",
      " |      is given and true.\n",
      " |  \n",
      " |  startswith(...)\n",
      " |      S.startswith(prefix[, start[, end]]) -> bool\n",
      " |      \n",
      " |      Return True if S starts with the specified prefix, False otherwise.\n",
      " |      With optional start, test S beginning at that position.\n",
      " |      With optional end, stop comparing S at that position.\n",
      " |      prefix can also be a tuple of strings to try.\n",
      " |  \n",
      " |  strip(...)\n",
      " |      S.strip([chars]) -> str\n",
      " |      \n",
      " |      Return a copy of the string S with leading and trailing\n",
      " |      whitespace removed.\n",
      " |      If chars is given and not None, remove characters in chars instead.\n",
      " |  \n",
      " |  swapcase(...)\n",
      " |      S.swapcase() -> str\n",
      " |      \n",
      " |      Return a copy of S with uppercase characters converted to lowercase\n",
      " |      and vice versa.\n",
      " |  \n",
      " |  title(...)\n",
      " |      S.title() -> str\n",
      " |      \n",
      " |      Return a titlecased version of S, i.e. words start with title case\n",
      " |      characters, all remaining cased characters have lower case.\n",
      " |  \n",
      " |  translate(...)\n",
      " |      S.translate(table) -> str\n",
      " |      \n",
      " |      Return a copy of the string S in which each character has been mapped\n",
      " |      through the given translation table. The table must implement\n",
      " |      lookup/indexing via __getitem__, for instance a dictionary or list,\n",
      " |      mapping Unicode ordinals to Unicode ordinals, strings, or None. If\n",
      " |      this operation raises LookupError, the character is left untouched.\n",
      " |      Characters mapped to None are deleted.\n",
      " |  \n",
      " |  upper(...)\n",
      " |      S.upper() -> str\n",
      " |      \n",
      " |      Return a copy of S converted to uppercase.\n",
      " |  \n",
      " |  zfill(...)\n",
      " |      S.zfill(width) -> str\n",
      " |      \n",
      " |      Pad a numeric string S with zeros on the left, to fill a field\n",
      " |      of the specified width. The string S is never truncated.\n",
      " |  \n",
      " |  ----------------------------------------------------------------------\n",
      " |  Static methods defined here:\n",
      " |  \n",
      " |  maketrans(x, y=None, z=None, /)\n",
      " |      Return a translation table usable for str.translate().\n",
      " |      \n",
      " |      If there is only one argument, it must be a dictionary mapping Unicode\n",
      " |      ordinals (integers) or characters to Unicode ordinals, strings or None.\n",
      " |      Character keys will be then converted to ordinals.\n",
      " |      If there are two arguments, they must be strings of equal length, and\n",
      " |      in the resulting dictionary, each character in x will be mapped to the\n",
      " |      character at the same position in y. If there is a third argument, it\n",
      " |      must be a string, whose characters will be mapped to None in the result.\n",
      "\n"
     ]
    }
   ],
   "source": [
    "help(\"\")"
   ]
  },
  {
   "cell_type": "code",
   "execution_count": 55,
   "metadata": {},
   "outputs": [
    {
     "data": {
      "text/plain": [
       "'MONTY PYTHON'"
      ]
     },
     "execution_count": 55,
     "metadata": {},
     "output_type": "execute_result"
    }
   ],
   "source": [
    "s.upper()"
   ]
  },
  {
   "cell_type": "code",
   "execution_count": 56,
   "metadata": {},
   "outputs": [
    {
     "data": {
      "text/plain": [
       "['__add__',\n",
       " '__class__',\n",
       " '__contains__',\n",
       " '__delattr__',\n",
       " '__dir__',\n",
       " '__doc__',\n",
       " '__eq__',\n",
       " '__format__',\n",
       " '__ge__',\n",
       " '__getattribute__',\n",
       " '__getitem__',\n",
       " '__getnewargs__',\n",
       " '__gt__',\n",
       " '__hash__',\n",
       " '__init__',\n",
       " '__init_subclass__',\n",
       " '__iter__',\n",
       " '__le__',\n",
       " '__len__',\n",
       " '__lt__',\n",
       " '__mod__',\n",
       " '__mul__',\n",
       " '__ne__',\n",
       " '__new__',\n",
       " '__reduce__',\n",
       " '__reduce_ex__',\n",
       " '__repr__',\n",
       " '__rmod__',\n",
       " '__rmul__',\n",
       " '__setattr__',\n",
       " '__sizeof__',\n",
       " '__str__',\n",
       " '__subclasshook__',\n",
       " 'capitalize',\n",
       " 'casefold',\n",
       " 'center',\n",
       " 'count',\n",
       " 'encode',\n",
       " 'endswith',\n",
       " 'expandtabs',\n",
       " 'find',\n",
       " 'format',\n",
       " 'format_map',\n",
       " 'index',\n",
       " 'isalnum',\n",
       " 'isalpha',\n",
       " 'isdecimal',\n",
       " 'isdigit',\n",
       " 'isidentifier',\n",
       " 'islower',\n",
       " 'isnumeric',\n",
       " 'isprintable',\n",
       " 'isspace',\n",
       " 'istitle',\n",
       " 'isupper',\n",
       " 'join',\n",
       " 'ljust',\n",
       " 'lower',\n",
       " 'lstrip',\n",
       " 'maketrans',\n",
       " 'partition',\n",
       " 'replace',\n",
       " 'rfind',\n",
       " 'rindex',\n",
       " 'rjust',\n",
       " 'rpartition',\n",
       " 'rsplit',\n",
       " 'rstrip',\n",
       " 'split',\n",
       " 'splitlines',\n",
       " 'startswith',\n",
       " 'strip',\n",
       " 'swapcase',\n",
       " 'title',\n",
       " 'translate',\n",
       " 'upper',\n",
       " 'zfill']"
      ]
     },
     "execution_count": 56,
     "metadata": {},
     "output_type": "execute_result"
    }
   ],
   "source": [
    "dir(\"\")  # Library of Functions for Strings "
   ]
  },
  {
   "cell_type": "code",
   "execution_count": 57,
   "metadata": {},
   "outputs": [
    {
     "data": {
      "text/plain": [
       "['this', 'is', 'a', 'sentense']"
      ]
     },
     "execution_count": 57,
     "metadata": {},
     "output_type": "execute_result"
    }
   ],
   "source": [
    "\"this is a sentense\".split()"
   ]
  },
  {
   "cell_type": "code",
   "execution_count": 60,
   "metadata": {},
   "outputs": [
    {
     "data": {
      "text/plain": [
       "'This is a line'"
      ]
     },
     "execution_count": 60,
     "metadata": {},
     "output_type": "execute_result"
    }
   ],
   "source": [
    "'           This is a line       \\t  \\n'.strip()"
   ]
  },
  {
   "cell_type": "code",
   "execution_count": 66,
   "metadata": {},
   "outputs": [
    {
     "data": {
      "text/plain": [
       "'This is a line       \\t  \\n'"
      ]
     },
     "execution_count": 66,
     "metadata": {},
     "output_type": "execute_result"
    }
   ],
   "source": [
    "'           This is a line       \\t  \\n'.lstrip()"
   ]
  },
  {
   "cell_type": "code",
   "execution_count": 67,
   "metadata": {},
   "outputs": [
    {
     "data": {
      "text/plain": [
       "'           This is a line'"
      ]
     },
     "execution_count": 67,
     "metadata": {},
     "output_type": "execute_result"
    }
   ],
   "source": [
    "'           This is a line       \\t  \\n'.rstrip()"
   ]
  },
  {
   "cell_type": "code",
   "execution_count": 61,
   "metadata": {},
   "outputs": [
    {
     "name": "stdout",
     "output_type": "stream",
     "text": [
      "Hello Jane\n"
     ]
    }
   ],
   "source": [
    "greet = 'Hello Bob'\n",
    "nstr = greet.replace('Bob','Jane')\n",
    "print (nstr)"
   ]
  },
  {
   "cell_type": "code",
   "execution_count": 62,
   "metadata": {},
   "outputs": [
    {
     "data": {
      "text/plain": [
       "'Hello Bob'"
      ]
     },
     "execution_count": 62,
     "metadata": {},
     "output_type": "execute_result"
    }
   ],
   "source": [
    "greet"
   ]
  },
  {
   "cell_type": "code",
   "execution_count": 63,
   "metadata": {},
   "outputs": [
    {
     "data": {
      "text/plain": [
       "'this#is#a#sentence'"
      ]
     },
     "execution_count": 63,
     "metadata": {},
     "output_type": "execute_result"
    }
   ],
   "source": [
    "\"#\".join(\"this is a sentence\".split())\n"
   ]
  },
  {
   "cell_type": "code",
   "execution_count": 64,
   "metadata": {},
   "outputs": [
    {
     "data": {
      "text/plain": [
       "'sandeep::giri'"
      ]
     },
     "execution_count": 64,
     "metadata": {},
     "output_type": "execute_result"
    }
   ],
   "source": [
    "\"::\".join([\"sandeep\", \"giri\"])"
   ]
  },
  {
   "cell_type": "code",
   "execution_count": 65,
   "metadata": {},
   "outputs": [
    {
     "data": {
      "text/plain": [
       "True"
      ]
     },
     "execution_count": 65,
     "metadata": {},
     "output_type": "execute_result"
    }
   ],
   "source": [
    "line = 'Please have a nice day'\n",
    "line.startswith('Please')"
   ]
  },
  {
   "cell_type": "code",
   "execution_count": 68,
   "metadata": {},
   "outputs": [
    {
     "data": {
      "text/plain": [
       "False"
      ]
     },
     "execution_count": 68,
     "metadata": {},
     "output_type": "execute_result"
    }
   ],
   "source": [
    "line.startswith('p')"
   ]
  },
  {
   "cell_type": "code",
   "execution_count": 69,
   "metadata": {},
   "outputs": [
    {
     "data": {
      "text/plain": [
       "False"
      ]
     },
     "execution_count": 69,
     "metadata": {},
     "output_type": "execute_result"
    }
   ],
   "source": [
    "line.startswith('have')"
   ]
  },
  {
   "cell_type": "code",
   "execution_count": 72,
   "metadata": {},
   "outputs": [
    {
     "data": {
      "text/plain": [
       "True"
      ]
     },
     "execution_count": 72,
     "metadata": {},
     "output_type": "execute_result"
    }
   ],
   "source": [
    "'have' in line"
   ]
  },
  {
   "cell_type": "code",
   "execution_count": 71,
   "metadata": {},
   "outputs": [
    {
     "data": {
      "text/plain": [
       "True"
      ]
     },
     "execution_count": 71,
     "metadata": {},
     "output_type": "execute_result"
    }
   ],
   "source": [
    "line.lower().startswith('please')"
   ]
  },
  {
   "cell_type": "code",
   "execution_count": 88,
   "metadata": {},
   "outputs": [],
   "source": [
    "data = 'From Srikanth.Ramakrishna@stanford.ac.uk Sat Jan 5 09:12:34 2017'"
   ]
  },
  {
   "cell_type": "code",
   "execution_count": 89,
   "metadata": {},
   "outputs": [
    {
     "data": {
      "text/plain": [
       "25"
      ]
     },
     "execution_count": 89,
     "metadata": {},
     "output_type": "execute_result"
    }
   ],
   "source": [
    "atpos=data.find('@')\n",
    "atpos"
   ]
  },
  {
   "cell_type": "code",
   "execution_count": 97,
   "metadata": {},
   "outputs": [
    {
     "data": {
      "text/plain": [
       "'@'"
      ]
     },
     "execution_count": 97,
     "metadata": {},
     "output_type": "execute_result"
    }
   ],
   "source": [
    "data[25]"
   ]
  },
  {
   "cell_type": "code",
   "execution_count": 91,
   "metadata": {},
   "outputs": [
    {
     "data": {
      "text/plain": [
       "4"
      ]
     },
     "execution_count": 91,
     "metadata": {},
     "output_type": "execute_result"
    }
   ],
   "source": [
    "# fine Email id starting postion in above data \n",
    "startpos = data.find(\" \")\n",
    "startpos"
   ]
  },
  {
   "cell_type": "code",
   "execution_count": 92,
   "metadata": {},
   "outputs": [
    {
     "name": "stdout",
     "output_type": "stream",
     "text": [
      "  Srikanth.Ramakrishna\n"
     ]
    }
   ],
   "source": [
    "print( data[startpos], data[5:atpos])"
   ]
  },
  {
   "cell_type": "code",
   "execution_count": 93,
   "metadata": {},
   "outputs": [],
   "source": [
    "endpos=data.find(' ',atpos)"
   ]
  },
  {
   "cell_type": "code",
   "execution_count": 94,
   "metadata": {},
   "outputs": [
    {
     "data": {
      "text/plain": [
       "' '"
      ]
     },
     "execution_count": 94,
     "metadata": {},
     "output_type": "execute_result"
    }
   ],
   "source": [
    "data[endpos]"
   ]
  },
  {
   "cell_type": "code",
   "execution_count": 95,
   "metadata": {},
   "outputs": [
    {
     "data": {
      "text/plain": [
       "' Srikanth.Ramakrishna@stanford.ac.uk'"
      ]
     },
     "execution_count": 95,
     "metadata": {},
     "output_type": "execute_result"
    }
   ],
   "source": [
    "data[startpos:endpos]"
   ]
  },
  {
   "cell_type": "code",
   "execution_count": 98,
   "metadata": {},
   "outputs": [
    {
     "data": {
      "text/plain": [
       "'stanford.ac.uk'"
      ]
     },
     "execution_count": 98,
     "metadata": {},
     "output_type": "execute_result"
    }
   ],
   "source": [
    "data[atpos+1:endpos]"
   ]
  },
  {
   "cell_type": "markdown",
   "metadata": {},
   "source": [
    "#                             File Handling"
   ]
  },
  {
   "cell_type": "code",
   "execution_count": 1,
   "metadata": {},
   "outputs": [],
   "source": [
    "fhandle = open('mboxe.txt')"
   ]
  },
  {
   "cell_type": "code",
   "execution_count": 2,
   "metadata": {},
   "outputs": [
    {
     "data": {
      "text/plain": [
       "<_io.TextIOWrapper name='mboxe.txt' mode='r' encoding='cp1252'>"
      ]
     },
     "execution_count": 2,
     "metadata": {},
     "output_type": "execute_result"
    }
   ],
   "source": [
    "fhandle"
   ]
  },
  {
   "cell_type": "code",
   "execution_count": 3,
   "metadata": {},
   "outputs": [
    {
     "name": "stdout",
     "output_type": "stream",
     "text": [
      "<_io.TextIOWrapper name='mboxe.txt' mode='r' encoding='cp1252'>\n"
     ]
    }
   ],
   "source": [
    "print(fhandle)"
   ]
  },
  {
   "cell_type": "code",
   "execution_count": 4,
   "metadata": {},
   "outputs": [
    {
     "data": {
      "text/plain": [
       "'This is a line first\\nhere is second line \\nhere is third line\\nWhat is the fifth line \\nDo u have 7th line \\n\\n\\n\\n'"
      ]
     },
     "execution_count": 4,
     "metadata": {},
     "output_type": "execute_result"
    }
   ],
   "source": [
    "fhandle.read()"
   ]
  },
  {
   "cell_type": "code",
   "execution_count": 5,
   "metadata": {},
   "outputs": [
    {
     "ename": "FileNotFoundError",
     "evalue": "[Errno 2] No such file or directory: 'ismbox.txt'",
     "output_type": "error",
     "traceback": [
      "\u001b[1;31m---------------------------------------------------------------------------\u001b[0m",
      "\u001b[1;31mFileNotFoundError\u001b[0m                         Traceback (most recent call last)",
      "\u001b[1;32m<ipython-input-5-9966a5320786>\u001b[0m in \u001b[0;36m<module>\u001b[1;34m()\u001b[0m\n\u001b[1;32m----> 1\u001b[1;33m \u001b[0mfhandle\u001b[0m \u001b[1;33m=\u001b[0m \u001b[0mopen\u001b[0m\u001b[1;33m(\u001b[0m\u001b[1;34m'ismbox.txt'\u001b[0m\u001b[1;33m)\u001b[0m\u001b[1;33m\u001b[0m\u001b[0m\n\u001b[0m",
      "\u001b[1;31mFileNotFoundError\u001b[0m: [Errno 2] No such file or directory: 'ismbox.txt'"
     ]
    }
   ],
   "source": [
    "fhandle = open('ismbox.txt')"
   ]
  },
  {
   "cell_type": "markdown",
   "metadata": {},
   "source": [
    "### 2.4.1 String literals\n",
    "https://docs.python.org/2.0/ref/strings.html"
   ]
  },
  {
   "cell_type": "code",
   "execution_count": null,
   "metadata": {},
   "outputs": [],
   "source": [
    "len(\"X\\n\\tx\")  # Every new line or special is a character count "
   ]
  },
  {
   "cell_type": "code",
   "execution_count": 9,
   "metadata": {},
   "outputs": [
    {
     "name": "stdout",
     "output_type": "stream",
     "text": [
      "Enter the file name:  mboxe.txt\n"
     ]
    }
   ],
   "source": [
    "fname = input('Enter the file name:  ')\n",
    "try:\n",
    "  fhand = open(fname)\n",
    "except:\n",
    "  print ('File cannot be opened:', fname)\n",
    "  exit()\n"
   ]
  },
  {
   "cell_type": "markdown",
   "metadata": {},
   "source": [
    "\n",
    "count = 0\n",
    "for line in fhand:\n",
    "  if line.startswith('Subject:') :\n",
    "      count = count + 1\n",
    "print ('There were', count, 'subject lines in', fname)"
   ]
  },
  {
   "cell_type": "code",
   "execution_count": 10,
   "metadata": {},
   "outputs": [
    {
     "name": "stdout",
     "output_type": "stream",
     "text": [
      "There were 0 subject lines in mboxe.txt\n"
     ]
    }
   ],
   "source": [
    "\n",
    "count = 0\n",
    "for x in fhand:\n",
    "  if x.startswith('Subject:') :\n",
    "      count = count + 1\n",
    "print ('There were', count, 'subject lines in', fname)"
   ]
  },
  {
   "cell_type": "code",
   "execution_count": 11,
   "metadata": {},
   "outputs": [
    {
     "name": "stdout",
     "output_type": "stream",
     "text": [
      "Help on class str in module builtins:\n",
      "\n",
      "class str(object)\n",
      " |  str(object='') -> str\n",
      " |  str(bytes_or_buffer[, encoding[, errors]]) -> str\n",
      " |  \n",
      " |  Create a new string object from the given object. If encoding or\n",
      " |  errors is specified, then the object must expose a data buffer\n",
      " |  that will be decoded using the given encoding and error handler.\n",
      " |  Otherwise, returns the result of object.__str__() (if defined)\n",
      " |  or repr(object).\n",
      " |  encoding defaults to sys.getdefaultencoding().\n",
      " |  errors defaults to 'strict'.\n",
      " |  \n",
      " |  Methods defined here:\n",
      " |  \n",
      " |  __add__(self, value, /)\n",
      " |      Return self+value.\n",
      " |  \n",
      " |  __contains__(self, key, /)\n",
      " |      Return key in self.\n",
      " |  \n",
      " |  __eq__(self, value, /)\n",
      " |      Return self==value.\n",
      " |  \n",
      " |  __format__(...)\n",
      " |      S.__format__(format_spec) -> str\n",
      " |      \n",
      " |      Return a formatted version of S as described by format_spec.\n",
      " |  \n",
      " |  __ge__(self, value, /)\n",
      " |      Return self>=value.\n",
      " |  \n",
      " |  __getattribute__(self, name, /)\n",
      " |      Return getattr(self, name).\n",
      " |  \n",
      " |  __getitem__(self, key, /)\n",
      " |      Return self[key].\n",
      " |  \n",
      " |  __getnewargs__(...)\n",
      " |  \n",
      " |  __gt__(self, value, /)\n",
      " |      Return self>value.\n",
      " |  \n",
      " |  __hash__(self, /)\n",
      " |      Return hash(self).\n",
      " |  \n",
      " |  __iter__(self, /)\n",
      " |      Implement iter(self).\n",
      " |  \n",
      " |  __le__(self, value, /)\n",
      " |      Return self<=value.\n",
      " |  \n",
      " |  __len__(self, /)\n",
      " |      Return len(self).\n",
      " |  \n",
      " |  __lt__(self, value, /)\n",
      " |      Return self<value.\n",
      " |  \n",
      " |  __mod__(self, value, /)\n",
      " |      Return self%value.\n",
      " |  \n",
      " |  __mul__(self, value, /)\n",
      " |      Return self*value.n\n",
      " |  \n",
      " |  __ne__(self, value, /)\n",
      " |      Return self!=value.\n",
      " |  \n",
      " |  __new__(*args, **kwargs) from builtins.type\n",
      " |      Create and return a new object.  See help(type) for accurate signature.\n",
      " |  \n",
      " |  __repr__(self, /)\n",
      " |      Return repr(self).\n",
      " |  \n",
      " |  __rmod__(self, value, /)\n",
      " |      Return value%self.\n",
      " |  \n",
      " |  __rmul__(self, value, /)\n",
      " |      Return self*value.\n",
      " |  \n",
      " |  __sizeof__(...)\n",
      " |      S.__sizeof__() -> size of S in memory, in bytes\n",
      " |  \n",
      " |  __str__(self, /)\n",
      " |      Return str(self).\n",
      " |  \n",
      " |  capitalize(...)\n",
      " |      S.capitalize() -> str\n",
      " |      \n",
      " |      Return a capitalized version of S, i.e. make the first character\n",
      " |      have upper case and the rest lower case.\n",
      " |  \n",
      " |  casefold(...)\n",
      " |      S.casefold() -> str\n",
      " |      \n",
      " |      Return a version of S suitable for caseless comparisons.\n",
      " |  \n",
      " |  center(...)\n",
      " |      S.center(width[, fillchar]) -> str\n",
      " |      \n",
      " |      Return S centered in a string of length width. Padding is\n",
      " |      done using the specified fill character (default is a space)\n",
      " |  \n",
      " |  count(...)\n",
      " |      S.count(sub[, start[, end]]) -> int\n",
      " |      \n",
      " |      Return the number of non-overlapping occurrences of substring sub in\n",
      " |      string S[start:end].  Optional arguments start and end are\n",
      " |      interpreted as in slice notation.\n",
      " |  \n",
      " |  encode(...)\n",
      " |      S.encode(encoding='utf-8', errors='strict') -> bytes\n",
      " |      \n",
      " |      Encode S using the codec registered for encoding. Default encoding\n",
      " |      is 'utf-8'. errors may be given to set a different error\n",
      " |      handling scheme. Default is 'strict' meaning that encoding errors raise\n",
      " |      a UnicodeEncodeError. Other possible values are 'ignore', 'replace' and\n",
      " |      'xmlcharrefreplace' as well as any other name registered with\n",
      " |      codecs.register_error that can handle UnicodeEncodeErrors.\n",
      " |  \n",
      " |  endswith(...)\n",
      " |      S.endswith(suffix[, start[, end]]) -> bool\n",
      " |      \n",
      " |      Return True if S ends with the specified suffix, False otherwise.\n",
      " |      With optional start, test S beginning at that position.\n",
      " |      With optional end, stop comparing S at that position.\n",
      " |      suffix can also be a tuple of strings to try.\n",
      " |  \n",
      " |  expandtabs(...)\n",
      " |      S.expandtabs(tabsize=8) -> str\n",
      " |      \n",
      " |      Return a copy of S where all tab characters are expanded using spaces.\n",
      " |      If tabsize is not given, a tab size of 8 characters is assumed.\n",
      " |  \n",
      " |  find(...)\n",
      " |      S.find(sub[, start[, end]]) -> int\n",
      " |      \n",
      " |      Return the lowest index in S where substring sub is found,\n",
      " |      such that sub is contained within S[start:end].  Optional\n",
      " |      arguments start and end are interpreted as in slice notation.\n",
      " |      \n",
      " |      Return -1 on failure.\n",
      " |  \n",
      " |  format(...)\n",
      " |      S.format(*args, **kwargs) -> str\n",
      " |      \n",
      " |      Return a formatted version of S, using substitutions from args and kwargs.\n",
      " |      The substitutions are identified by braces ('{' and '}').\n",
      " |  \n",
      " |  format_map(...)\n",
      " |      S.format_map(mapping) -> str\n",
      " |      \n",
      " |      Return a formatted version of S, using substitutions from mapping.\n",
      " |      The substitutions are identified by braces ('{' and '}').\n",
      " |  \n",
      " |  index(...)\n",
      " |      S.index(sub[, start[, end]]) -> int\n",
      " |      \n",
      " |      Return the lowest index in S where substring sub is found, \n",
      " |      such that sub is contained within S[start:end].  Optional\n",
      " |      arguments start and end are interpreted as in slice notation.\n",
      " |      \n",
      " |      Raises ValueError when the substring is not found.\n",
      " |  \n",
      " |  isalnum(...)\n",
      " |      S.isalnum() -> bool\n",
      " |      \n",
      " |      Return True if all characters in S are alphanumeric\n",
      " |      and there is at least one character in S, False otherwise.\n",
      " |  \n",
      " |  isalpha(...)\n",
      " |      S.isalpha() -> bool\n",
      " |      \n",
      " |      Return True if all characters in S are alphabetic\n",
      " |      and there is at least one character in S, False otherwise.\n",
      " |  \n",
      " |  isdecimal(...)\n",
      " |      S.isdecimal() -> bool\n",
      " |      \n",
      " |      Return True if there are only decimal characters in S,\n",
      " |      False otherwise.\n",
      " |  \n",
      " |  isdigit(...)\n",
      " |      S.isdigit() -> bool\n",
      " |      \n",
      " |      Return True if all characters in S are digits\n",
      " |      and there is at least one character in S, False otherwise.\n",
      " |  \n",
      " |  isidentifier(...)\n",
      " |      S.isidentifier() -> bool\n",
      " |      \n",
      " |      Return True if S is a valid identifier according\n",
      " |      to the language definition.\n",
      " |      \n",
      " |      Use keyword.iskeyword() to test for reserved identifiers\n",
      " |      such as \"def\" and \"class\".\n",
      " |  \n",
      " |  islower(...)\n",
      " |      S.islower() -> bool\n",
      " |      \n",
      " |      Return True if all cased characters in S are lowercase and there is\n",
      " |      at least one cased character in S, False otherwise.\n",
      " |  \n",
      " |  isnumeric(...)\n",
      " |      S.isnumeric() -> bool\n",
      " |      \n",
      " |      Return True if there are only numeric characters in S,\n",
      " |      False otherwise.\n",
      " |  \n",
      " |  isprintable(...)\n",
      " |      S.isprintable() -> bool\n",
      " |      \n",
      " |      Return True if all characters in S are considered\n",
      " |      printable in repr() or S is empty, False otherwise.\n",
      " |  \n",
      " |  isspace(...)\n",
      " |      S.isspace() -> bool\n",
      " |      \n",
      " |      Return True if all characters in S are whitespace\n",
      " |      and there is at least one character in S, False otherwise.\n",
      " |  \n",
      " |  istitle(...)\n",
      " |      S.istitle() -> bool\n",
      " |      \n",
      " |      Return True if S is a titlecased string and there is at least one\n",
      " |      character in S, i.e. upper- and titlecase characters may only\n",
      " |      follow uncased characters and lowercase characters only cased ones.\n",
      " |      Return False otherwise.\n",
      " |  \n",
      " |  isupper(...)\n",
      " |      S.isupper() -> bool\n",
      " |      \n",
      " |      Return True if all cased characters in S are uppercase and there is\n",
      " |      at least one cased character in S, False otherwise.\n",
      " |  \n",
      " |  join(...)\n",
      " |      S.join(iterable) -> str\n",
      " |      \n",
      " |      Return a string which is the concatenation of the strings in the\n",
      " |      iterable.  The separator between elements is S.\n",
      " |  \n",
      " |  ljust(...)\n",
      " |      S.ljust(width[, fillchar]) -> str\n",
      " |      \n",
      " |      Return S left-justified in a Unicode string of length width. Padding is\n",
      " |      done using the specified fill character (default is a space).\n",
      " |  \n",
      " |  lower(...)\n",
      " |      S.lower() -> str\n",
      " |      \n",
      " |      Return a copy of the string S converted to lowercase.\n",
      " |  \n",
      " |  lstrip(...)\n",
      " |      S.lstrip([chars]) -> str\n",
      " |      \n",
      " |      Return a copy of the string S with leading whitespace removed.\n",
      " |      If chars is given and not None, remove characters in chars instead.\n",
      " |  \n",
      " |  partition(...)\n",
      " |      S.partition(sep) -> (head, sep, tail)\n",
      " |      \n",
      " |      Search for the separator sep in S, and return the part before it,\n",
      " |      the separator itself, and the part after it.  If the separator is not\n",
      " |      found, return S and two empty strings.\n",
      " |  \n",
      " |  replace(...)\n",
      " |      S.replace(old, new[, count]) -> str\n",
      " |      \n",
      " |      Return a copy of S with all occurrences of substring\n",
      " |      old replaced by new.  If the optional argument count is\n",
      " |      given, only the first count occurrences are replaced.\n",
      " |  \n",
      " |  rfind(...)\n",
      " |      S.rfind(sub[, start[, end]]) -> int\n",
      " |      \n",
      " |      Return the highest index in S where substring sub is found,\n",
      " |      such that sub is contained within S[start:end].  Optional\n",
      " |      arguments start and end are interpreted as in slice notation.\n",
      " |      \n",
      " |      Return -1 on failure.\n",
      " |  \n",
      " |  rindex(...)\n",
      " |      S.rindex(sub[, start[, end]]) -> int\n",
      " |      \n",
      " |      Return the highest index in S where substring sub is found,\n",
      " |      such that sub is contained within S[start:end].  Optional\n",
      " |      arguments start and end are interpreted as in slice notation.\n",
      " |      \n",
      " |      Raises ValueError when the substring is not found.\n",
      " |  \n",
      " |  rjust(...)\n",
      " |      S.rjust(width[, fillchar]) -> str\n",
      " |      \n",
      " |      Return S right-justified in a string of length width. Padding is\n",
      " |      done using the specified fill character (default is a space).\n",
      " |  \n",
      " |  rpartition(...)\n",
      " |      S.rpartition(sep) -> (head, sep, tail)\n",
      " |      \n",
      " |      Search for the separator sep in S, starting at the end of S, and return\n",
      " |      the part before it, the separator itself, and the part after it.  If the\n",
      " |      separator is not found, return two empty strings and S.\n",
      " |  \n",
      " |  rsplit(...)\n",
      " |      S.rsplit(sep=None, maxsplit=-1) -> list of strings\n",
      " |      \n",
      " |      Return a list of the words in S, using sep as the\n",
      " |      delimiter string, starting at the end of the string and\n",
      " |      working to the front.  If maxsplit is given, at most maxsplit\n",
      " |      splits are done. If sep is not specified, any whitespace string\n",
      " |      is a separator.\n",
      " |  \n",
      " |  rstrip(...)\n",
      " |      S.rstrip([chars]) -> str\n",
      " |      \n",
      " |      Return a copy of the string S with trailing whitespace removed.\n",
      " |      If chars is given and not None, remove characters in chars instead.\n",
      " |  \n",
      " |  split(...)\n",
      " |      S.split(sep=None, maxsplit=-1) -> list of strings\n",
      " |      \n",
      " |      Return a list of the words in S, using sep as the\n",
      " |      delimiter string.  If maxsplit is given, at most maxsplit\n",
      " |      splits are done. If sep is not specified or is None, any\n",
      " |      whitespace string is a separator and empty strings are\n",
      " |      removed from the result.\n",
      " |  \n",
      " |  splitlines(...)\n",
      " |      S.splitlines([keepends]) -> list of strings\n",
      " |      \n",
      " |      Return a list of the lines in S, breaking at line boundaries.\n",
      " |      Line breaks are not included in the resulting list unless keepends\n",
      " |      is given and true.\n",
      " |  \n",
      " |  startswith(...)\n",
      " |      S.startswith(prefix[, start[, end]]) -> bool\n",
      " |      \n",
      " |      Return True if S starts with the specified prefix, False otherwise.\n",
      " |      With optional start, test S beginning at that position.\n",
      " |      With optional end, stop comparing S at that position.\n",
      " |      prefix can also be a tuple of strings to try.\n",
      " |  \n",
      " |  strip(...)\n",
      " |      S.strip([chars]) -> str\n",
      " |      \n",
      " |      Return a copy of the string S with leading and trailing\n",
      " |      whitespace removed.\n",
      " |      If chars is given and not None, remove characters in chars instead.\n",
      " |  \n",
      " |  swapcase(...)\n",
      " |      S.swapcase() -> str\n",
      " |      \n",
      " |      Return a copy of S with uppercase characters converted to lowercase\n",
      " |      and vice versa.\n",
      " |  \n",
      " |  title(...)\n",
      " |      S.title() -> str\n",
      " |      \n",
      " |      Return a titlecased version of S, i.e. words start with title case\n",
      " |      characters, all remaining cased characters have lower case.\n",
      " |  \n",
      " |  translate(...)\n",
      " |      S.translate(table) -> str\n",
      " |      \n",
      " |      Return a copy of the string S in which each character has been mapped\n",
      " |      through the given translation table. The table must implement\n",
      " |      lookup/indexing via __getitem__, for instance a dictionary or list,\n",
      " |      mapping Unicode ordinals to Unicode ordinals, strings, or None. If\n",
      " |      this operation raises LookupError, the character is left untouched.\n",
      " |      Characters mapped to None are deleted.\n",
      " |  \n",
      " |  upper(...)\n",
      " |      S.upper() -> str\n",
      " |      \n",
      " |      Return a copy of S converted to uppercase.\n",
      " |  \n",
      " |  zfill(...)\n",
      " |      S.zfill(width) -> str\n",
      " |      \n",
      " |      Pad a numeric string S with zeros on the left, to fill a field\n",
      " |      of the specified width. The string S is never truncated.\n",
      " |  \n",
      " |  ----------------------------------------------------------------------\n",
      " |  Static methods defined here:\n",
      " |  \n",
      " |  maketrans(x, y=None, z=None, /)\n",
      " |      Return a translation table usable for str.translate().\n",
      " |      \n",
      " |      If there is only one argument, it must be a dictionary mapping Unicode\n",
      " |      ordinals (integers) or characters to Unicode ordinals, strings or None.\n",
      " |      Character keys will be then converted to ordinals.\n",
      " |      If there are two arguments, they must be strings of equal length, and\n",
      " |      in the resulting dictionary, each character in x will be mapped to the\n",
      " |      character at the same position in y. If there is a third argument, it\n",
      " |      must be a string, whose characters will be mapped to None in the result.\n",
      "\n"
     ]
    }
   ],
   "source": [
    "help(\"\")"
   ]
  },
  {
   "cell_type": "markdown",
   "metadata": {},
   "source": [
    "# Strings are immutable"
   ]
  },
  {
   "cell_type": "code",
   "execution_count": 14,
   "metadata": {},
   "outputs": [],
   "source": [
    "fruit = \"Apple\""
   ]
  },
  {
   "cell_type": "code",
   "execution_count": 17,
   "metadata": {},
   "outputs": [
    {
     "data": {
      "text/plain": [
       "'A'"
      ]
     },
     "execution_count": 17,
     "metadata": {},
     "output_type": "execute_result"
    }
   ],
   "source": [
    "fruit[0]"
   ]
  },
  {
   "cell_type": "code",
   "execution_count": 18,
   "metadata": {
    "scrolled": true
   },
   "outputs": [
    {
     "ename": "TypeError",
     "evalue": "'str' object does not support item assignment",
     "output_type": "error",
     "traceback": [
      "\u001b[1;31m---------------------------------------------------------------------------\u001b[0m",
      "\u001b[1;31mTypeError\u001b[0m                                 Traceback (most recent call last)",
      "\u001b[1;32m<ipython-input-18-3015d6890e8e>\u001b[0m in \u001b[0;36m<module>\u001b[1;34m()\u001b[0m\n\u001b[1;32m----> 1\u001b[1;33m \u001b[0mfruit\u001b[0m\u001b[1;33m[\u001b[0m\u001b[1;36m0\u001b[0m\u001b[1;33m]\u001b[0m \u001b[1;33m=\u001b[0m \u001b[1;34m\"a\"\u001b[0m\u001b[1;33m\u001b[0m\u001b[0m\n\u001b[0m",
      "\u001b[1;31mTypeError\u001b[0m: 'str' object does not support item assignment"
     ]
    }
   ],
   "source": [
    "fruit[0] = \"a\""
   ]
  },
  {
   "cell_type": "markdown",
   "metadata": {},
   "source": [
    "# Lists"
   ]
  },
  {
   "cell_type": "code",
   "execution_count": 16,
   "metadata": {},
   "outputs": [
    {
     "data": {
      "text/plain": [
       "'\\n'"
      ]
     },
     "execution_count": 16,
     "metadata": {},
     "output_type": "execute_result"
    }
   ],
   "source": [
    "x"
   ]
  },
  {
   "cell_type": "code",
   "execution_count": 19,
   "metadata": {},
   "outputs": [],
   "source": [
    "x = [1,2,3]"
   ]
  },
  {
   "cell_type": "code",
   "execution_count": 20,
   "metadata": {},
   "outputs": [
    {
     "data": {
      "text/plain": [
       "1"
      ]
     },
     "execution_count": 20,
     "metadata": {},
     "output_type": "execute_result"
    }
   ],
   "source": [
    "x[0]"
   ]
  },
  {
   "cell_type": "code",
   "execution_count": 21,
   "metadata": {},
   "outputs": [],
   "source": [
    "x[0] = 4"
   ]
  },
  {
   "cell_type": "code",
   "execution_count": 22,
   "metadata": {},
   "outputs": [
    {
     "data": {
      "text/plain": [
       "[4, 2, 3]"
      ]
     },
     "execution_count": 22,
     "metadata": {},
     "output_type": "execute_result"
    }
   ],
   "source": [
    "x"
   ]
  },
  {
   "cell_type": "code",
   "execution_count": 23,
   "metadata": {},
   "outputs": [],
   "source": [
    "fruit = 'Apple'"
   ]
  },
  {
   "cell_type": "code",
   "execution_count": 24,
   "metadata": {},
   "outputs": [
    {
     "ename": "TypeError",
     "evalue": "'str' object does not support item assignment",
     "output_type": "error",
     "traceback": [
      "\u001b[1;31m---------------------------------------------------------------------------\u001b[0m",
      "\u001b[1;31mTypeError\u001b[0m                                 Traceback (most recent call last)",
      "\u001b[1;32m<ipython-input-24-3fb981a226da>\u001b[0m in \u001b[0;36m<module>\u001b[1;34m()\u001b[0m\n\u001b[1;32m----> 1\u001b[1;33m \u001b[0mfruit\u001b[0m\u001b[1;33m[\u001b[0m\u001b[1;36m0\u001b[0m\u001b[1;33m]\u001b[0m \u001b[1;33m=\u001b[0m \u001b[1;36m3\u001b[0m\u001b[1;33m\u001b[0m\u001b[0m\n\u001b[0m",
      "\u001b[1;31mTypeError\u001b[0m: 'str' object does not support item assignment"
     ]
    }
   ],
   "source": [
    "fruit[0] = 3"
   ]
  },
  {
   "cell_type": "code",
   "execution_count": 25,
   "metadata": {},
   "outputs": [
    {
     "data": {
      "text/plain": [
       "'Apple'"
      ]
     },
     "execution_count": 25,
     "metadata": {},
     "output_type": "execute_result"
    }
   ],
   "source": [
    "fruit"
   ]
  },
  {
   "cell_type": "code",
   "execution_count": 11,
   "metadata": {},
   "outputs": [
    {
     "data": {
      "text/plain": [
       "['apple', 'banana', 'eggs']"
      ]
     },
     "execution_count": 11,
     "metadata": {},
     "output_type": "execute_result"
    }
   ],
   "source": [
    "x=[\"apple\", \"banana\", \"eggs\"]\n",
    "x"
   ]
  },
  {
   "cell_type": "code",
   "execution_count": 12,
   "metadata": {},
   "outputs": [
    {
     "data": {
      "text/plain": [
       "['apple', 'Banana', 'eggs']"
      ]
     },
     "execution_count": 12,
     "metadata": {},
     "output_type": "execute_result"
    }
   ],
   "source": [
    "x[1] = \"Banana\"\n",
    "x"
   ]
  },
  {
   "cell_type": "code",
   "execution_count": 13,
   "metadata": {},
   "outputs": [
    {
     "data": {
      "text/plain": [
       "['apple', 'Banana', 'eggs', 'cereal']"
      ]
     },
     "execution_count": 13,
     "metadata": {},
     "output_type": "execute_result"
    }
   ],
   "source": [
    "x.append(\"cereal\")\n",
    "x"
   ]
  },
  {
   "cell_type": "code",
   "execution_count": 14,
   "metadata": {},
   "outputs": [
    {
     "data": {
      "text/plain": [
       "['Banana', 'apple', 'cereal', 'eggs']"
      ]
     },
     "execution_count": 14,
     "metadata": {},
     "output_type": "execute_result"
    }
   ],
   "source": [
    "x.sort()\n",
    "x"
   ]
  },
  {
   "cell_type": "code",
   "execution_count": 17,
   "metadata": {},
   "outputs": [
    {
     "data": {
      "text/plain": [
       "['eggs', 'cereal', 'apple', 'Banana']"
      ]
     },
     "execution_count": 17,
     "metadata": {},
     "output_type": "execute_result"
    }
   ],
   "source": [
    "x.reverse()\n",
    "x"
   ]
  },
  {
   "cell_type": "markdown",
   "metadata": {},
   "source": [
    "# Lists can be used like Stack \n",
    "### Pop will remove the last element of list "
   ]
  },
  {
   "cell_type": "code",
   "execution_count": 18,
   "metadata": {},
   "outputs": [
    {
     "data": {
      "text/plain": [
       "['first']"
      ]
     },
     "execution_count": 18,
     "metadata": {},
     "output_type": "execute_result"
    }
   ],
   "source": [
    "l=[]\n",
    "l.append(\"first\")\n",
    "l"
   ]
  },
  {
   "cell_type": "code",
   "execution_count": 19,
   "metadata": {},
   "outputs": [
    {
     "data": {
      "text/plain": [
       "['first', 'second']"
      ]
     },
     "execution_count": 19,
     "metadata": {},
     "output_type": "execute_result"
    }
   ],
   "source": [
    "l.append(\"second\")\n",
    "l"
   ]
  },
  {
   "cell_type": "code",
   "execution_count": 20,
   "metadata": {},
   "outputs": [
    {
     "data": {
      "text/plain": [
       "['first', 'second', 'third']"
      ]
     },
     "execution_count": 20,
     "metadata": {},
     "output_type": "execute_result"
    }
   ],
   "source": [
    "l.append(\"third\")\n",
    "l"
   ]
  },
  {
   "cell_type": "code",
   "execution_count": 21,
   "metadata": {},
   "outputs": [
    {
     "data": {
      "text/plain": [
       "['first', 'second']"
      ]
     },
     "execution_count": 21,
     "metadata": {},
     "output_type": "execute_result"
    }
   ],
   "source": [
    "l.pop()\n",
    "l"
   ]
  },
  {
   "cell_type": "code",
   "execution_count": 22,
   "metadata": {},
   "outputs": [
    {
     "data": {
      "text/plain": [
       "'second'"
      ]
     },
     "execution_count": 22,
     "metadata": {},
     "output_type": "execute_result"
    }
   ],
   "source": [
    "l.pop()"
   ]
  },
  {
   "cell_type": "code",
   "execution_count": 23,
   "metadata": {},
   "outputs": [
    {
     "data": {
      "text/plain": [
       "'first'"
      ]
     },
     "execution_count": 23,
     "metadata": {},
     "output_type": "execute_result"
    }
   ],
   "source": [
    "l.pop()"
   ]
  },
  {
   "cell_type": "code",
   "execution_count": 24,
   "metadata": {},
   "outputs": [
    {
     "ename": "IndexError",
     "evalue": "pop from empty list",
     "output_type": "error",
     "traceback": [
      "\u001b[1;31m---------------------------------------------------------------------------\u001b[0m",
      "\u001b[1;31mIndexError\u001b[0m                                Traceback (most recent call last)",
      "\u001b[1;32m<ipython-input-24-33a5ac1f2384>\u001b[0m in \u001b[0;36m<module>\u001b[1;34m()\u001b[0m\n\u001b[1;32m----> 1\u001b[1;33m \u001b[0ml\u001b[0m\u001b[1;33m.\u001b[0m\u001b[0mpop\u001b[0m\u001b[1;33m(\u001b[0m\u001b[1;33m)\u001b[0m\u001b[1;33m\u001b[0m\u001b[0m\n\u001b[0m",
      "\u001b[1;31mIndexError\u001b[0m: pop from empty list"
     ]
    }
   ],
   "source": [
    "l.pop()"
   ]
  },
  {
   "cell_type": "code",
   "execution_count": 25,
   "metadata": {},
   "outputs": [
    {
     "name": "stdout",
     "output_type": "stream",
     "text": [
      "apple\n",
      "banana\n",
      "eggs\n",
      "1\n",
      "2\n",
      "3\n",
      "4\n",
      "5\n",
      "\n",
      "\n",
      " <class 'int'>\n"
     ]
    }
   ],
   "source": [
    "for item in [\"apple\", \"banana\", \"eggs\",1,2,3,4,5]:\n",
    "    print(item)\n",
    "\n",
    "print(\"\\n\\n\", type(item) )"
   ]
  },
  {
   "cell_type": "code",
   "execution_count": 26,
   "metadata": {},
   "outputs": [
    {
     "name": "stdout",
     "output_type": "stream",
     "text": [
      "a\n",
      "b\n",
      "c\n",
      "d\n",
      "e\n",
      "f\n",
      "g\n",
      "h\n",
      "i\n",
      "j\n",
      "k\n",
      "l\n",
      "m\n",
      "n\n",
      "o\n",
      "p\n",
      "q\n",
      "r\n",
      "s\n",
      "t\n",
      "u\n",
      "v\n",
      "w\n",
      "x\n",
      "y\n",
      "z\n"
     ]
    }
   ],
   "source": [
    "wrdstring = \"abcdefghijklmnopqrstuvwxyz\"\n",
    "for i in range(0,len(wrdstring)):\n",
    "    print(wrdstring[i])"
   ]
  },
  {
   "cell_type": "markdown",
   "metadata": {},
   "source": [
    "## LIsts Detailed"
   ]
  },
  {
   "cell_type": "code",
   "execution_count": 27,
   "metadata": {},
   "outputs": [
    {
     "name": "stdout",
     "output_type": "stream",
     "text": [
      "Happy New Year: Joseph\n",
      "Happy New Year: Glenn\n",
      "Happy New Year: Sally\n",
      "Done!\n"
     ]
    }
   ],
   "source": [
    "friends = ['Joseph', 'Glenn', 'Sally']\n",
    "for friend in friends :\n",
    "    print ('Happy New Year:',  friend)\n",
    "print ('Done!')\n"
   ]
  },
  {
   "cell_type": "code",
   "execution_count": 28,
   "metadata": {},
   "outputs": [
    {
     "name": "stdout",
     "output_type": "stream",
     "text": [
      "Glenn\n"
     ]
    }
   ],
   "source": [
    "# Looking Inside Lists\n",
    "friends = [ 'Joseph', 'Glenn', 'Sally' ]\n",
    "print (friends[1])"
   ]
  },
  {
   "cell_type": "code",
   "execution_count": 30,
   "metadata": {},
   "outputs": [
    {
     "ename": "TypeError",
     "evalue": "'str' object does not support item assignment",
     "output_type": "error",
     "traceback": [
      "\u001b[1;31m---------------------------------------------------------------------------\u001b[0m",
      "\u001b[1;31mTypeError\u001b[0m                                 Traceback (most recent call last)",
      "\u001b[1;32m<ipython-input-30-a61866ad93df>\u001b[0m in \u001b[0;36m<module>\u001b[1;34m()\u001b[0m\n\u001b[0;32m      1\u001b[0m \u001b[1;31m# Lists are Mutable While Strings are not\u001b[0m\u001b[1;33m\u001b[0m\u001b[1;33m\u001b[0m\u001b[0m\n\u001b[0;32m      2\u001b[0m \u001b[0mfruit\u001b[0m \u001b[1;33m=\u001b[0m \u001b[1;34m'Banana'\u001b[0m\u001b[1;33m\u001b[0m\u001b[0m\n\u001b[1;32m----> 3\u001b[1;33m \u001b[0mfruit\u001b[0m\u001b[1;33m[\u001b[0m\u001b[1;36m0\u001b[0m\u001b[1;33m]\u001b[0m \u001b[1;33m=\u001b[0m \u001b[1;34m'b'\u001b[0m\u001b[1;33m\u001b[0m\u001b[0m\n\u001b[0m",
      "\u001b[1;31mTypeError\u001b[0m: 'str' object does not support item assignment"
     ]
    }
   ],
   "source": [
    "# Lists are Mutable While Strings are not\n",
    "fruit = 'Banana'\n",
    "fruit[0] = 'b'\n"
   ]
  },
  {
   "cell_type": "code",
   "execution_count": 32,
   "metadata": {},
   "outputs": [
    {
     "name": "stdout",
     "output_type": "stream",
     "text": [
      "banana\n",
      "[2, 14, 26, 41, 63]\n",
      "[2, 14, 92, 41, 63]\n"
     ]
    }
   ],
   "source": [
    "x = fruit.lower()\n",
    "print (x)\n",
    "lotto = [2, 14, 26, 41, 63]\n",
    "print (lotto)\n",
    "lotto[2] = 92\n",
    "print (lotto)\n"
   ]
  },
  {
   "cell_type": "code",
   "execution_count": 33,
   "metadata": {},
   "outputs": [
    {
     "name": "stdout",
     "output_type": "stream",
     "text": [
      "9\n",
      "4\n"
     ]
    }
   ],
   "source": [
    "# How Long is a List?\n",
    "\n",
    "greet = 'Hello Bob'\n",
    "print (len(greet))\n",
    "x = [ 1, 2, 'joe', 99]\n",
    "print (len(x))\n",
    "\n"
   ]
  },
  {
   "cell_type": "code",
   "execution_count": 34,
   "metadata": {},
   "outputs": [
    {
     "name": "stdout",
     "output_type": "stream",
     "text": [
      "range(0, 4)\n",
      "3\n",
      "range(0, 3)\n"
     ]
    }
   ],
   "source": [
    "# Using the range function\n",
    "\n",
    "print (range(4))\n",
    "friends = ['Joseph', 'Glenn', 'Sally']\n",
    "print (len(friends))\n",
    "print (range(len(friends)))\n",
    "\n"
   ]
  },
  {
   "cell_type": "code",
   "execution_count": 35,
   "metadata": {},
   "outputs": [
    {
     "data": {
      "text/plain": [
       "True"
      ]
     },
     "execution_count": 35,
     "metadata": {},
     "output_type": "execute_result"
    }
   ],
   "source": [
    "# Is Something in a List?\n",
    "\n",
    "some = [1, 9, 21, 10, 16]\n",
    "9 in some\n"
   ]
  },
  {
   "cell_type": "code",
   "execution_count": 37,
   "metadata": {},
   "outputs": [
    {
     "data": {
      "text/plain": [
       "False"
      ]
     },
     "execution_count": 37,
     "metadata": {},
     "output_type": "execute_result"
    }
   ],
   "source": [
    "15 in some\n",
    "\n"
   ]
  },
  {
   "cell_type": "code",
   "execution_count": 38,
   "metadata": {},
   "outputs": [
    {
     "data": {
      "text/plain": [
       "True"
      ]
     },
     "execution_count": 38,
     "metadata": {},
     "output_type": "execute_result"
    }
   ],
   "source": [
    "20 not in some"
   ]
  },
  {
   "cell_type": "code",
   "execution_count": 39,
   "metadata": {},
   "outputs": [
    {
     "data": {
      "text/plain": [
       "True"
      ]
     },
     "execution_count": 39,
     "metadata": {},
     "output_type": "execute_result"
    }
   ],
   "source": [
    "1 in some"
   ]
  },
  {
   "cell_type": "code",
   "execution_count": 41,
   "metadata": {},
   "outputs": [
    {
     "name": "stdout",
     "output_type": "stream",
     "text": [
      "Happy New Year: Joseph\n",
      "Happy New Year: Glenn\n",
      "Happy New Year: Sally\n",
      "\n",
      "\n",
      "\n",
      "\n",
      "Happy New Year: Joseph\n",
      "Happy New Year: Glenn\n",
      "Happy New Year: Sally\n"
     ]
    }
   ],
   "source": [
    "#A tale of two loops...\n",
    "\n",
    "friends = ['Joseph', 'Glenn', 'Sally']\n",
    "\n",
    "for friend in friends :\n",
    "    print ('Happy New Year:',  friend)\n",
    "print(\"\\n\\n\\n\")\n",
    "for i in range(len(friends)) :\n",
    "    friend = friends[i]\n",
    "    print ('Happy New Year:',  friend)\n",
    "\n",
    "    "
   ]
  },
  {
   "cell_type": "code",
   "execution_count": 42,
   "metadata": {},
   "outputs": [
    {
     "name": "stdout",
     "output_type": "stream",
     "text": [
      "[1, 2, 3, 4, 5, 6]\n",
      "[1, 2, 3]\n",
      "[4, 5, 6]\n"
     ]
    }
   ],
   "source": [
    "# Concatenating lists using +\n",
    "\n",
    "a = [1, 2, 3]\n",
    "b = [4, 5, 6]\n",
    "c = a + b\n",
    "print (c)\n",
    "print (a)\n",
    "print(b)"
   ]
  },
  {
   "cell_type": "code",
   "execution_count": 50,
   "metadata": {},
   "outputs": [
    {
     "name": "stdout",
     "output_type": "stream",
     "text": [
      "[41, 12]\n",
      "[9, 41, 12, 3]\n",
      "[3, 74, 15]\n",
      "[9, 41, 12, 3, 74, 15]\n",
      "[9, 41, 12, 3, 74]\n",
      "[74]\n"
     ]
    }
   ],
   "source": [
    "# Lists can be sliced using :\n",
    "\n",
    "t = [9, 41, 12, 3, 74, 15]\n",
    "print(t[1:3])\n",
    "print(t[:4])\n",
    "print(t[3:])\n",
    "print(t[:])\n",
    "print(t[:-1])\n",
    "print(t[-2:-1])"
   ]
  },
  {
   "cell_type": "code",
   "execution_count": 44,
   "metadata": {},
   "outputs": [],
   "source": [
    "r = range(0,4)\n"
   ]
  },
  {
   "cell_type": "code",
   "execution_count": 45,
   "metadata": {},
   "outputs": [
    {
     "name": "stdout",
     "output_type": "stream",
     "text": [
      "Help on list object:\n",
      "\n",
      "class list(object)\n",
      " |  list() -> new empty list\n",
      " |  list(iterable) -> new list initialized from iterable's items\n",
      " |  \n",
      " |  Methods defined here:\n",
      " |  \n",
      " |  __add__(self, value, /)\n",
      " |      Return self+value.\n",
      " |  \n",
      " |  __contains__(self, key, /)\n",
      " |      Return key in self.\n",
      " |  \n",
      " |  __delitem__(self, key, /)\n",
      " |      Delete self[key].\n",
      " |  \n",
      " |  __eq__(self, value, /)\n",
      " |      Return self==value.\n",
      " |  \n",
      " |  __ge__(self, value, /)\n",
      " |      Return self>=value.\n",
      " |  \n",
      " |  __getattribute__(self, name, /)\n",
      " |      Return getattr(self, name).\n",
      " |  \n",
      " |  __getitem__(...)\n",
      " |      x.__getitem__(y) <==> x[y]\n",
      " |  \n",
      " |  __gt__(self, value, /)\n",
      " |      Return self>value.\n",
      " |  \n",
      " |  __iadd__(self, value, /)\n",
      " |      Implement self+=value.\n",
      " |  \n",
      " |  __imul__(self, value, /)\n",
      " |      Implement self*=value.\n",
      " |  \n",
      " |  __init__(self, /, *args, **kwargs)\n",
      " |      Initialize self.  See help(type(self)) for accurate signature.\n",
      " |  \n",
      " |  __iter__(self, /)\n",
      " |      Implement iter(self).\n",
      " |  \n",
      " |  __le__(self, value, /)\n",
      " |      Return self<=value.\n",
      " |  \n",
      " |  __len__(self, /)\n",
      " |      Return len(self).\n",
      " |  \n",
      " |  __lt__(self, value, /)\n",
      " |      Return self<value.\n",
      " |  \n",
      " |  __mul__(self, value, /)\n",
      " |      Return self*value.n\n",
      " |  \n",
      " |  __ne__(self, value, /)\n",
      " |      Return self!=value.\n",
      " |  \n",
      " |  __new__(*args, **kwargs) from builtins.type\n",
      " |      Create and return a new object.  See help(type) for accurate signature.\n",
      " |  \n",
      " |  __repr__(self, /)\n",
      " |      Return repr(self).\n",
      " |  \n",
      " |  __reversed__(...)\n",
      " |      L.__reversed__() -- return a reverse iterator over the list\n",
      " |  \n",
      " |  __rmul__(self, value, /)\n",
      " |      Return self*value.\n",
      " |  \n",
      " |  __setitem__(self, key, value, /)\n",
      " |      Set self[key] to value.\n",
      " |  \n",
      " |  __sizeof__(...)\n",
      " |      L.__sizeof__() -- size of L in memory, in bytes\n",
      " |  \n",
      " |  append(...)\n",
      " |      L.append(object) -> None -- append object to end\n",
      " |  \n",
      " |  clear(...)\n",
      " |      L.clear() -> None -- remove all items from L\n",
      " |  \n",
      " |  copy(...)\n",
      " |      L.copy() -> list -- a shallow copy of L\n",
      " |  \n",
      " |  count(...)\n",
      " |      L.count(value) -> integer -- return number of occurrences of value\n",
      " |  \n",
      " |  extend(...)\n",
      " |      L.extend(iterable) -> None -- extend list by appending elements from the iterable\n",
      " |  \n",
      " |  index(...)\n",
      " |      L.index(value, [start, [stop]]) -> integer -- return first index of value.\n",
      " |      Raises ValueError if the value is not present.\n",
      " |  \n",
      " |  insert(...)\n",
      " |      L.insert(index, object) -- insert object before index\n",
      " |  \n",
      " |  pop(...)\n",
      " |      L.pop([index]) -> item -- remove and return item at index (default last).\n",
      " |      Raises IndexError if list is empty or index is out of range.\n",
      " |  \n",
      " |  remove(...)\n",
      " |      L.remove(value) -> None -- remove first occurrence of value.\n",
      " |      Raises ValueError if the value is not present.\n",
      " |  \n",
      " |  reverse(...)\n",
      " |      L.reverse() -- reverse *IN PLACE*\n",
      " |  \n",
      " |  sort(...)\n",
      " |      L.sort(key=None, reverse=False) -> None -- stable sort *IN PLACE*\n",
      " |  \n",
      " |  ----------------------------------------------------------------------\n",
      " |  Data and other attributes defined here:\n",
      " |  \n",
      " |  __hash__ = None\n",
      "\n"
     ]
    }
   ],
   "source": [
    "# List Methods\n",
    "\n",
    "x = list()\n",
    "type(x)\n",
    "help(x)"
   ]
  },
  {
   "cell_type": "code",
   "execution_count": 46,
   "metadata": {},
   "outputs": [
    {
     "name": "stdout",
     "output_type": "stream",
     "text": [
      "['book', 99]\n",
      "['book', 99, 'cookie']\n"
     ]
    }
   ],
   "source": [
    "# Building a List from Scratch\n",
    "\n",
    "stuff = list()\n",
    "stuff.append('book')\n",
    "stuff.append(99)\n",
    "print (stuff)\n",
    "stuff.append('cookie')\n",
    "print (stuff)\n"
   ]
  },
  {
   "cell_type": "code",
   "execution_count": 51,
   "metadata": {},
   "outputs": [
    {
     "name": "stdout",
     "output_type": "stream",
     "text": [
      "['Glenn', 'Joseph', 'Sally']\n",
      "Joseph\n"
     ]
    }
   ],
   "source": [
    "# A List is an Ordered Sequence\n",
    "\n",
    "friends = [ 'Joseph', 'Glenn', 'Sally' ]\n",
    "friends.sort()\n",
    "print (friends)\n",
    "print (friends[1])\n",
    "\n"
   ]
  },
  {
   "cell_type": "code",
   "execution_count": 52,
   "metadata": {},
   "outputs": [
    {
     "name": "stdout",
     "output_type": "stream",
     "text": [
      "6\n",
      "74\n",
      "3\n",
      "154\n",
      "25.666666666666668\n"
     ]
    }
   ],
   "source": [
    "# Built-in Functions and Lists\n",
    "nums = [3, 41, 12, 9, 74, 15]\n",
    "print (len(nums))\n",
    "print (max(nums))\n",
    "print (min(nums))\n",
    "print (sum(nums))\n",
    "print (sum(nums)/len(nums))\n"
   ]
  },
  {
   "cell_type": "code",
   "execution_count": 53,
   "metadata": {},
   "outputs": [
    {
     "name": "stdout",
     "output_type": "stream",
     "text": [
      "Enter a number: 2\n",
      "Enter a number: 3\n",
      "Enter a number: 4\n",
      "Enter a number: 1\n",
      "Enter a number: 8\n",
      "Enter a number: done\n",
      "Average: 3.6\n"
     ]
    }
   ],
   "source": [
    "#Computing Average - 1\n",
    "total = 0\n",
    "count = 0\n",
    "while True :\n",
    "    inp = input('Enter a number: ')\n",
    "    if inp == 'done' : break\n",
    "    value = float(inp)\n",
    "    total = total + value     \n",
    "    count = count + 1\n",
    "\n",
    "average = total / count\n",
    "print ('Average:', average)\n"
   ]
  },
  {
   "cell_type": "code",
   "execution_count": 54,
   "metadata": {},
   "outputs": [
    {
     "name": "stdout",
     "output_type": "stream",
     "text": [
      "['With', 'three', 'words']\n",
      "3\n",
      "With\n",
      "Help on built-in function append:\n",
      "\n",
      "append(...) method of builtins.list instance\n",
      "    L.append(object) -> None -- append object to end\n",
      "\n"
     ]
    }
   ],
   "source": [
    "# Best Friends: Strings and Lists\n",
    "\n",
    "abc = 'With three words'\n",
    "stuff = abc.split()\n",
    "print (stuff)\n",
    "print (len(stuff))\n",
    "print (stuff[0])\n",
    "help([].append)"
   ]
  },
  {
   "cell_type": "code",
   "execution_count": 55,
   "metadata": {},
   "outputs": [
    {
     "name": "stdout",
     "output_type": "stream",
     "text": [
      "With\n",
      "three\n",
      "words\n"
     ]
    }
   ],
   "source": [
    "for w in stuff :\n",
    "     print (w)"
   ]
  },
  {
   "cell_type": "code",
   "execution_count": 56,
   "metadata": {},
   "outputs": [
    {
     "name": "stdout",
     "output_type": "stream",
     "text": [
      "['A', 'lot', 'of', 'spaces']\n",
      "['first;second;third']\n",
      "1\n",
      "['first', 'second', 'third']\n",
      "3\n"
     ]
    }
   ],
   "source": [
    "\n",
    "#Split\n",
    "\n",
    "line = 'A lot               of spaces'\n",
    "etc = line.split()\n",
    "print (etc)\n",
    "\n",
    "line = 'first;second;third'\n",
    "thing = line.split()\n",
    "print (thing)\n",
    "print (len(thing))\n",
    "thing = line.split(';')\n",
    "print (thing)\n",
    "print (len(thing))\n",
    "\n"
   ]
  },
  {
   "cell_type": "code",
   "execution_count": 57,
   "metadata": {},
   "outputs": [],
   "source": [
    " fhand = open('mboxe.txt')\n",
    " for line in fhand:\n",
    "     line = line.rstrip()\n",
    "     if not line.startswith('From ') : continue\n",
    "     words = line.split()\n",
    "     print (words[2])\n"
   ]
  },
  {
   "cell_type": "code",
   "execution_count": 58,
   "metadata": {},
   "outputs": [
    {
     "name": "stdout",
     "output_type": "stream",
     "text": [
      "uct.ac.za\n"
     ]
    }
   ],
   "source": [
    "# The Double Split Pattern\n",
    "## Sometimes we split a line one way, and then grab one of the pieces of the line and split that piece again\n",
    "line = 'From stephen.marquard@uct.ac.za Sat Jan  5 09:14:16 2008'\n",
    "words = line.split()\n",
    "\n",
    "# stephen.marquard@uct.ac.za\n",
    "email = words[1]\n",
    "\n",
    "#['stephen.marquard', 'uct.ac.za']\n",
    "pieces = email.split('@')\n",
    "\n",
    "#'uct.ac.za'\n",
    "print (pieces[1])\n"
   ]
  },
  {
   "cell_type": "code",
   "execution_count": 59,
   "metadata": {},
   "outputs": [
    {
     "data": {
      "text/plain": [
       "{'age': 21}"
      ]
     },
     "execution_count": 59,
     "metadata": {},
     "output_type": "execute_result"
    }
   ],
   "source": [
    "ddd = dict()\n",
    "ddd['age']=21\n",
    "ddd"
   ]
  },
  {
   "cell_type": "code",
   "execution_count": 60,
   "metadata": {},
   "outputs": [],
   "source": [
    "ddd['sex']='M'"
   ]
  },
  {
   "cell_type": "code",
   "execution_count": 61,
   "metadata": {},
   "outputs": [
    {
     "data": {
      "text/plain": [
       "{'age': 21, 'sex': 'M'}"
      ]
     },
     "execution_count": 61,
     "metadata": {},
     "output_type": "execute_result"
    }
   ],
   "source": [
    "ddd"
   ]
  },
  {
   "cell_type": "code",
   "execution_count": 63,
   "metadata": {},
   "outputs": [
    {
     "name": "stdout",
     "output_type": "stream",
     "text": [
      "{'age': 21, 'sex': 'M', 'course': 129}\n",
      "{'age': 25, 'sex': 'M', 'course': 129}\n"
     ]
    }
   ],
   "source": [
    "ddd['course']=129\n",
    "print(ddd)\n",
    "ddd['age']=25\n",
    "print(ddd)"
   ]
  },
  {
   "cell_type": "code",
   "execution_count": 64,
   "metadata": {},
   "outputs": [
    {
     "name": "stdout",
     "output_type": "stream",
     "text": [
      "{'chuck': 1, 'fred': 22, 'Jane': 100, 'Mike': 67, 'Harry': 43}\n"
     ]
    }
   ],
   "source": [
    "rdict={'chuck':1,'fred':22,'Jane':100,'Mike':67,'Harry':43}\n",
    "print(rdict)"
   ]
  },
  {
   "cell_type": "code",
   "execution_count": 65,
   "metadata": {},
   "outputs": [
    {
     "name": "stdout",
     "output_type": "stream",
     "text": [
      "{}\n"
     ]
    }
   ],
   "source": [
    "kaali={}\n",
    "print(kaali)"
   ]
  },
  {
   "cell_type": "code",
   "execution_count": 67,
   "metadata": {},
   "outputs": [
    {
     "name": "stdout",
     "output_type": "stream",
     "text": [
      "dict_keys(['chuck', 'fred', 'Jane', 'Mike', 'Harry'])\n"
     ]
    }
   ],
   "source": [
    "print(rdict.keys())"
   ]
  },
  {
   "cell_type": "code",
   "execution_count": 68,
   "metadata": {},
   "outputs": [
    {
     "name": "stdout",
     "output_type": "stream",
     "text": [
      "dict_values([1, 22, 100, 67, 43])\n"
     ]
    }
   ],
   "source": [
    "print(rdict.values())"
   ]
  },
  {
   "cell_type": "code",
   "execution_count": 71,
   "metadata": {},
   "outputs": [
    {
     "name": "stdout",
     "output_type": "stream",
     "text": [
      "Count is  {'csev': 2, 'cwen': 2, 'zqian': 1}\n"
     ]
    }
   ],
   "source": [
    "counts=dict()\n",
    "names =['csev','cwen','csev','zqian','cwen']\n",
    "\n",
    "for n in names:\n",
    "    counts[n]=counts.get(n,0)+1\n",
    "print(\"Count is \",counts)"
   ]
  },
  {
   "cell_type": "code",
   "execution_count": 78,
   "metadata": {},
   "outputs": [
    {
     "name": "stdout",
     "output_type": "stream",
     "text": [
      "['chuck', 'fred', 'Jane', 'Mike', 'Harry']\n"
     ]
    }
   ],
   "source": [
    "print(list(rdict))"
   ]
  },
  {
   "cell_type": "code",
   "execution_count": 79,
   "metadata": {},
   "outputs": [
    {
     "name": "stdout",
     "output_type": "stream",
     "text": [
      "dict_items([('chuck', 1), ('fred', 22), ('Jane', 100), ('Mike', 67), ('Harry', 43)])\n"
     ]
    }
   ],
   "source": [
    "print(rdict.items())"
   ]
  },
  {
   "cell_type": "code",
   "execution_count": 72,
   "metadata": {},
   "outputs": [
    {
     "data": {
      "text/plain": [
       "{'csev': 2, 'cwen': 2, 'zqian': 1}"
      ]
     },
     "execution_count": 72,
     "metadata": {},
     "output_type": "execute_result"
    }
   ],
   "source": [
    "counts"
   ]
  },
  {
   "cell_type": "code",
   "execution_count": 74,
   "metadata": {},
   "outputs": [
    {
     "name": "stdout",
     "output_type": "stream",
     "text": [
      "Enter a line of text : Rise up to the sky when you are doing anything at your might Give you might to prove your might\n",
      "Words : ['Rise', 'up', 'to', 'the', 'sky', 'when', 'you', 'are', 'doing', 'anything', 'at', 'your', 'might', 'Give', 'you', 'might', 'to', 'prove', 'your', 'might']\n",
      "Counting......\n",
      "Count is  {'Rise': 1, 'up': 1, 'to': 2, 'the': 1, 'sky': 1, 'when': 1, 'you': 2, 'are': 1, 'doing': 1, 'anything': 1, 'at': 1, 'your': 2, 'might': 3, 'Give': 1, 'prove': 1}\n"
     ]
    }
   ],
   "source": [
    "\n",
    "\n",
    "counts=dict()\n",
    "#names =['csev','cwen','csev','zqian','cwen']\n",
    "line = input(\"Enter a line of text : \")\n",
    "words = line.split()\n",
    "\n",
    "print(\"Words :\", words)\n",
    "print('Counting......')\n",
    "\n",
    "for n in words:\n",
    "    counts[n]=counts.get(n,0)+1\n",
    "print(\"Count is \",counts)\n",
    "\n"
   ]
  },
  {
   "cell_type": "code",
   "execution_count": 77,
   "metadata": {},
   "outputs": [
    {
     "name": "stdout",
     "output_type": "stream",
     "text": [
      "Rise\n",
      "up\n",
      "to\n",
      "the\n",
      "sky\n",
      "when\n",
      "you\n",
      "are\n",
      "doing\n",
      "anything\n",
      "at\n",
      "your\n",
      "might\n",
      "Give\n",
      "prove\n"
     ]
    }
   ],
   "source": [
    "for i in counts:\n",
    "    print(i)"
   ]
  },
  {
   "cell_type": "code",
   "execution_count": 87,
   "metadata": {},
   "outputs": [],
   "source": [
    "mybag={}\n",
    "mybag['nbooks']=1\n",
    "mybag['pens']=4\n",
    "mybag['laptop']=True\n",
    "mybag['mobile']=True\n",
    "mybag['keys']=True\n"
   ]
  },
  {
   "cell_type": "code",
   "execution_count": null,
   "metadata": {},
   "outputs": [],
   "source": []
  },
  {
   "cell_type": "code",
   "execution_count": 88,
   "metadata": {},
   "outputs": [
    {
     "data": {
      "text/plain": [
       "{'keys': True, 'laptop': True, 'mobile': True, 'nbooks': 1, 'pens': 4}"
      ]
     },
     "execution_count": 88,
     "metadata": {},
     "output_type": "execute_result"
    }
   ],
   "source": [
    "mybag"
   ]
  },
  {
   "cell_type": "markdown",
   "metadata": {},
   "source": [
    "## Tuples are immutable "
   ]
  },
  {
   "cell_type": "code",
   "execution_count": 80,
   "metadata": {},
   "outputs": [
    {
     "name": "stdout",
     "output_type": "stream",
     "text": [
      "('Glenn', 'Sally', 'Joseph')\n"
     ]
    }
   ],
   "source": [
    "x=('Glenn','Sally','Joseph')\n",
    "print(x)"
   ]
  },
  {
   "cell_type": "code",
   "execution_count": 81,
   "metadata": {},
   "outputs": [
    {
     "name": "stdout",
     "output_type": "stream",
     "text": [
      "Glenn\n"
     ]
    }
   ],
   "source": [
    "print(x[0])"
   ]
  },
  {
   "cell_type": "code",
   "execution_count": 82,
   "metadata": {},
   "outputs": [
    {
     "name": "stdout",
     "output_type": "stream",
     "text": [
      "Sally\n"
     ]
    }
   ],
   "source": [
    "print(x[1])"
   ]
  },
  {
   "cell_type": "code",
   "execution_count": 83,
   "metadata": {},
   "outputs": [
    {
     "name": "stdout",
     "output_type": "stream",
     "text": [
      "Joseph\n"
     ]
    }
   ],
   "source": [
    "print(x[2])"
   ]
  },
  {
   "cell_type": "code",
   "execution_count": 89,
   "metadata": {},
   "outputs": [
    {
     "data": {
      "text/plain": [
       "['__add__',\n",
       " '__class__',\n",
       " '__contains__',\n",
       " '__delattr__',\n",
       " '__dir__',\n",
       " '__doc__',\n",
       " '__eq__',\n",
       " '__format__',\n",
       " '__ge__',\n",
       " '__getattribute__',\n",
       " '__getitem__',\n",
       " '__getnewargs__',\n",
       " '__gt__',\n",
       " '__hash__',\n",
       " '__init__',\n",
       " '__init_subclass__',\n",
       " '__iter__',\n",
       " '__le__',\n",
       " '__len__',\n",
       " '__lt__',\n",
       " '__mul__',\n",
       " '__ne__',\n",
       " '__new__',\n",
       " '__reduce__',\n",
       " '__reduce_ex__',\n",
       " '__repr__',\n",
       " '__rmul__',\n",
       " '__setattr__',\n",
       " '__sizeof__',\n",
       " '__str__',\n",
       " '__subclasshook__',\n",
       " 'count',\n",
       " 'index']"
      ]
     },
     "execution_count": 89,
     "metadata": {},
     "output_type": "execute_result"
    }
   ],
   "source": [
    "dir(x)"
   ]
  },
  {
   "cell_type": "code",
   "execution_count": 92,
   "metadata": {},
   "outputs": [],
   "source": [
    "(x,y) = (4,'fred')"
   ]
  },
  {
   "cell_type": "code",
   "execution_count": 93,
   "metadata": {},
   "outputs": [
    {
     "data": {
      "text/plain": [
       "4"
      ]
     },
     "execution_count": 93,
     "metadata": {},
     "output_type": "execute_result"
    }
   ],
   "source": [
    "x"
   ]
  },
  {
   "cell_type": "code",
   "execution_count": 94,
   "metadata": {},
   "outputs": [
    {
     "data": {
      "text/plain": [
       "'fred'"
      ]
     },
     "execution_count": 94,
     "metadata": {},
     "output_type": "execute_result"
    }
   ],
   "source": [
    "y"
   ]
  },
  {
   "cell_type": "code",
   "execution_count": 95,
   "metadata": {},
   "outputs": [
    {
     "name": "stdout",
     "output_type": "stream",
     "text": [
      "[3, 5, 6, 8]\n"
     ]
    }
   ],
   "source": [
    "l=[3,5,6,8]\n",
    "l[2]\n",
    "print(l)"
   ]
  },
  {
   "cell_type": "markdown",
   "metadata": {},
   "source": [
    "### Immutable "
   ]
  },
  {
   "cell_type": "code",
   "execution_count": 96,
   "metadata": {},
   "outputs": [
    {
     "ename": "TypeError",
     "evalue": "'tuple' object does not support item assignment",
     "output_type": "error",
     "traceback": [
      "\u001b[1;31m---------------------------------------------------------------------------\u001b[0m",
      "\u001b[1;31mTypeError\u001b[0m                                 Traceback (most recent call last)",
      "\u001b[1;32m<ipython-input-96-050b76a7e1cf>\u001b[0m in \u001b[0;36m<module>\u001b[1;34m()\u001b[0m\n\u001b[0;32m      1\u001b[0m \u001b[0mz\u001b[0m\u001b[1;33m=\u001b[0m\u001b[1;33m(\u001b[0m\u001b[1;36m3\u001b[0m\u001b[1;33m,\u001b[0m\u001b[1;36m5\u001b[0m\u001b[1;33m,\u001b[0m\u001b[1;36m8\u001b[0m\u001b[1;33m)\u001b[0m\u001b[1;33m\u001b[0m\u001b[0m\n\u001b[1;32m----> 2\u001b[1;33m \u001b[0mz\u001b[0m\u001b[1;33m[\u001b[0m\u001b[1;36m2\u001b[0m\u001b[1;33m]\u001b[0m\u001b[1;33m=\u001b[0m\u001b[1;36m0\u001b[0m\u001b[1;33m\u001b[0m\u001b[0m\n\u001b[0m",
      "\u001b[1;31mTypeError\u001b[0m: 'tuple' object does not support item assignment"
     ]
    }
   ],
   "source": [
    "z=(3,5,8)\n",
    "z[2]=0"
   ]
  },
  {
   "cell_type": "markdown",
   "metadata": {},
   "source": [
    "## Things not to do with tuples\n",
    "####  sort, append, reverse, etc "
   ]
  },
  {
   "cell_type": "code",
   "execution_count": 99,
   "metadata": {},
   "outputs": [
    {
     "ename": "AttributeError",
     "evalue": "'tuple' object has no attribute 'sort'",
     "output_type": "error",
     "traceback": [
      "\u001b[1;31m---------------------------------------------------------------------------\u001b[0m",
      "\u001b[1;31mAttributeError\u001b[0m                            Traceback (most recent call last)",
      "\u001b[1;32m<ipython-input-99-8498f7d9d261>\u001b[0m in \u001b[0;36m<module>\u001b[1;34m()\u001b[0m\n\u001b[0;32m      1\u001b[0m \u001b[0mx\u001b[0m\u001b[1;33m=\u001b[0m\u001b[1;33m(\u001b[0m\u001b[1;36m3\u001b[0m\u001b[1;33m,\u001b[0m\u001b[1;36m4\u001b[0m\u001b[1;33m,\u001b[0m\u001b[1;36m1\u001b[0m\u001b[1;33m,\u001b[0m\u001b[1;36m6\u001b[0m\u001b[1;33m)\u001b[0m\u001b[1;33m\u001b[0m\u001b[0m\n\u001b[1;32m----> 2\u001b[1;33m \u001b[0mx\u001b[0m\u001b[1;33m.\u001b[0m\u001b[0msort\u001b[0m\u001b[1;33m(\u001b[0m\u001b[1;33m)\u001b[0m\u001b[1;33m\u001b[0m\u001b[0m\n\u001b[0m",
      "\u001b[1;31mAttributeError\u001b[0m: 'tuple' object has no attribute 'sort'"
     ]
    }
   ],
   "source": [
    "tx=(3,4,1,6)\n",
    "tx.sort()"
   ]
  },
  {
   "cell_type": "code",
   "execution_count": 100,
   "metadata": {},
   "outputs": [
    {
     "ename": "AttributeError",
     "evalue": "'tuple' object has no attribute 'reverse'",
     "output_type": "error",
     "traceback": [
      "\u001b[1;31m---------------------------------------------------------------------------\u001b[0m",
      "\u001b[1;31mAttributeError\u001b[0m                            Traceback (most recent call last)",
      "\u001b[1;32m<ipython-input-100-b09a3e2b6911>\u001b[0m in \u001b[0;36m<module>\u001b[1;34m()\u001b[0m\n\u001b[0;32m      1\u001b[0m \u001b[1;33m\u001b[0m\u001b[0m\n\u001b[1;32m----> 2\u001b[1;33m \u001b[0mx\u001b[0m\u001b[1;33m.\u001b[0m\u001b[0mreverse\u001b[0m\u001b[1;33m(\u001b[0m\u001b[1;33m)\u001b[0m\u001b[1;33m\u001b[0m\u001b[0m\n\u001b[0m",
      "\u001b[1;31mAttributeError\u001b[0m: 'tuple' object has no attribute 'reverse'"
     ]
    }
   ],
   "source": [
    "\n",
    "tx.reverse()"
   ]
  },
  {
   "cell_type": "code",
   "execution_count": 101,
   "metadata": {},
   "outputs": [
    {
     "data": {
      "text/plain": [
       "['__add__',\n",
       " '__class__',\n",
       " '__contains__',\n",
       " '__delattr__',\n",
       " '__dir__',\n",
       " '__doc__',\n",
       " '__eq__',\n",
       " '__format__',\n",
       " '__ge__',\n",
       " '__getattribute__',\n",
       " '__getitem__',\n",
       " '__getnewargs__',\n",
       " '__gt__',\n",
       " '__hash__',\n",
       " '__init__',\n",
       " '__init_subclass__',\n",
       " '__iter__',\n",
       " '__le__',\n",
       " '__len__',\n",
       " '__lt__',\n",
       " '__mul__',\n",
       " '__ne__',\n",
       " '__new__',\n",
       " '__reduce__',\n",
       " '__reduce_ex__',\n",
       " '__repr__',\n",
       " '__rmul__',\n",
       " '__setattr__',\n",
       " '__sizeof__',\n",
       " '__str__',\n",
       " '__subclasshook__',\n",
       " 'count',\n",
       " 'index']"
      ]
     },
     "execution_count": 101,
     "metadata": {},
     "output_type": "execute_result"
    }
   ],
   "source": [
    "dir(tx)"
   ]
  },
  {
   "cell_type": "code",
   "execution_count": 104,
   "metadata": {},
   "outputs": [
    {
     "ename": "NameError",
     "evalue": "name 'tx' is not defined",
     "output_type": "error",
     "traceback": [
      "\u001b[1;31m---------------------------------------------------------------------------\u001b[0m",
      "\u001b[1;31mNameError\u001b[0m                                 Traceback (most recent call last)",
      "\u001b[1;32m<ipython-input-104-b82112c7fa64>\u001b[0m in \u001b[0;36m<module>\u001b[1;34m()\u001b[0m\n\u001b[1;32m----> 1\u001b[1;33m \u001b[0mcount\u001b[0m\u001b[1;33m(\u001b[0m\u001b[0mtx\u001b[0m\u001b[1;33m)\u001b[0m\u001b[1;33m\u001b[0m\u001b[0m\n\u001b[0m",
      "\u001b[1;31mNameError\u001b[0m: name 'tx' is not defined"
     ]
    }
   ],
   "source": []
  },
  {
   "cell_type": "code",
   "execution_count": 105,
   "metadata": {},
   "outputs": [
    {
     "name": "stdout",
     "output_type": "stream",
     "text": [
      "2 1 5 4\n"
     ]
    }
   ],
   "source": [
    "def order(x, y):\n",
    "    if x> y:\n",
    "        return (x, y)\n",
    "    return (y, x)\n",
    "\n",
    "(a, b) = order(1, 2)\n",
    "(x, y) = order(4, 5)\n",
    "print(a, b, x, y)"
   ]
  },
  {
   "cell_type": "code",
   "execution_count": 107,
   "metadata": {},
   "outputs": [
    {
     "data": {
      "text/plain": [
       "dict_items([('chuck', 1), ('fred', 22), ('Jane', 100), ('Mike', 67), ('Harry', 43)])"
      ]
     },
     "execution_count": 107,
     "metadata": {},
     "output_type": "execute_result"
    }
   ],
   "source": [
    "jjj={'chuck':1,'fred':22,'Jane':100,'Mike':67,'Harry':43}\n",
    "jjj.items()  # Returns Tuples "
   ]
  },
  {
   "cell_type": "code",
   "execution_count": 112,
   "metadata": {},
   "outputs": [
    {
     "name": "stdout",
     "output_type": "stream",
     "text": [
      "Jan 352\n",
      "2008 324\n",
      "by 245\n",
      "Received: 243\n",
      "-0500 219\n",
      "from 218\n",
      "4 203\n",
      "with 194\n",
      "Fri, 183\n",
      "id 136\n",
      "\n",
      "\n",
      "\n",
      "\n",
      "[(352, 'Jan'), (324, '2008'), (245, 'by'), (243, 'Received:'), (219, '-0500'), (218, 'from'), (203, '4'), (194, 'with'), (183, 'Fri,'), (136, 'id'), (118, 'for'), (108, 'paploo.uhi.ac.uk'), (108, 'nakamura.uits.iupui.edu'), (108, 'ESMTP'), (81, 'text/plain;'), (81, 'charset=UTF-8'), (81, '<source@collab.sakaiproject.org>;'), (81, '+0000'), (81, '(GMT)'), (61, '3'), (61, '04'), (54, 'murder'), (54, '[127.0.0.1])'), (54, 'SMTP'), (54, 'LMTPA;'), (54, 'ID'), (54, 'Date:'), (54, '(localhost'), (54, '(Postfix)'), (54, '(Cyrus'), (51, 'Thu,'), (43, 'to'), (43, 'svn'), (40, 'Fri'), (35, '-'), (32, 'the'), (29, 'New'), (28, 'message'), (28, 'Source'), (28, 'Sakai'), (28, '2008)'), (27, 'you'), (27, 'was'), (27, 'v2.3.8)'), (27, 'v2.2.12)'), (27, 'using'), (27, 'source@collab.sakaiproject.org;'), (27, 'source@collab.sakaiproject.org'), (27, 'socket])'), (27, 'site.'), (27, 'shmi.uhi.ac.uk'), (27, 'set'), (27, 'sent'), (27, 'sender'), (27, 'receive'), (27, 'prod.collab.uhi.ac.uk'), (27, 'notifications'), (27, 'notification'), (27, 'nakamura.uits.iupui.edu:'), (27, 'modify'), (27, 'mail.umich.edu'), (27, 'how'), (27, 'frankenstein.mail.umich.edu'), (27, 'commit:'), (27, 'can'), (27, 'automatic'), (27, 'at'), (27, 'apache@localhost)'), (27, 'apache'), (27, '[sakai]'), (27, '[194.35.219.184])'), (27, '[134.68.220.122])'), (27, 'You'), (27, 'X-Sieve:'), (27, 'X-DSPAM-Result:'), (27, 'X-DSPAM-Processed:'), (27, 'X-DSPAM-Probability:'), (27, 'X-DSPAM-Confidence:'), (27, 'X-Content-Type-Outer-Envelope:'), (27, 'X-Content-Type-Message-Body:'), (27, 'X-Authentication-Warning:'), (27, 'Workspace'), (27, 'To:'), (27, 'This'), (27, 'Subject:'), (27, 'Sieve'), (27, 'Server'), (27, 'Revision:'), (27, 'Return-Path:'), (27, 'Preferences.'), (27, 'My'), (27, 'Modified:'), (27, 'Mime-Version:'), (27, 'Message-ID:'), (27, 'Log:'), (27, 'Innocent'), (27, 'From:'), (27, 'From'), (27, 'FROM'), (27, 'Details:'), (27, 'Content-Type:'), (27, 'Content-Transfer-Encoding:'), (27, 'Collab'), (27, 'CMU'), (27, 'BY'), (27, 'Author:'), (27, '>'), (27, '<postmaster@collab.sakaiproject.org>'), (27, ';'), (27, '7bit'), (27, '2.3'), (27, '2.1.3)'), (27, '1.0'), (27, '0.0000'), (27, '-f'), (27, '----------------------'), (27, '(nakamura.uits.iupui.edu'), (27, '(mail.umich.edu'), (27, '(https://collab.sakaiproject.org/portal)'), (27, '(from'), (27, '(app1.prod.collab.uhi.ac.uk'), (27, '([unix'), (27, '([194.35.219.182])'), (27, '(JAMES'), (27, '(8.12.11.20060308/8.12.11/Submit)'), (27, '(8.12.11.20060308/8.12.11)'), (27, '()'), (22, 'in'), (22, '(Fri,'), (21, '|'), (21, '2008-01-04'), (20, 'cwen@iupui.edu'), (18, '03'), (17, 'zqian@umich.edu'), (17, 'david.horwitz@uct.ac.za'), (14, 'U'), (14, '------------------------------------------------------------------------'), (12, 'merge'), (12, 'louis@media.berkeley.edu'), (12, 'gsilver@umich.edu'), (12, 'Thu'), (10, '5'), (9, 'Sat,'), (8, 'stephen.marquard@uct.ac.za'), (8, 'rjlowe@iupui.edu'), (8, 'holes.mr.itd.umich.edu'), (8, 'a'), (8, '(Thu,'), (7, 'log'), (6, 'wagnermr@iupui.edu'), (6, 'salemslot.mr.itd.umich.edu'), (6, '2008-01-03'), (6, '2007)'), (5, 'panther.mail.umich.edu'), (5, 'fan.mail.umich.edu'), (5, '[141.211.14.46])'), (5, '[141.211.14.25])'), (5, 'Dec'), (5, '11:11:52'), (5, '11:11:03'), (5, '-r'), (4, 'user'), (4, 'tool'), (4, 'ray@media.berkeley.edu'), (4, 'of'), (4, 'lines'), (4, 'icestorm.mr.itd.umich.edu'), (4, 'https://source.sakaiproject.org/svn/podcasts/trunk'), (4, 'https://source.sakaiproject.org/svn/gradebook/trunk'), (4, 'guys.mr.itd.umich.edu'), (4, 'gopal.ramasammycook@gmail.com'), (4, 'galaxyquest.mr.itd.umich.edu'), (4, 'fix'), (4, 'firestarter.mr.itd.umich.edu'), (4, 'eyewitness.mr.itd.umich.edu'), (4, 'dhorwitz@david-horwitz-6:~/branchManagemnt/sakai_2-5-x>'), (4, 'creepshow.mr.itd.umich.edu'), (4, 'be'), (4, 'as'), (4, 'antranig@caret.cam.ac.uk'), (4, '[141.211.14.79])'), (4, 'Added:'), (4, '18:10:48'), (4, '17:18:23'), (4, '17:07:00'), (4, '16:34:40'), (4, '16:29:07'), (4, '16:23:48'), (4, '16:10:39'), (4, '15:46:24'), (4, '15:03:18'), (4, '14:50:18'), (4, '11:37:30'), (4, '11:35:08'), (4, '11:12:37'), (4, '11:10:22'), (4, '10:38:42'), (4, '10:04:14'), (4, '09:14:16'), (4, '09:05:31'), (4, '07:02:32'), (4, '06:08:27'), (4, '04:49:08'), (4, '04:33:44'), (4, '04:07:34'), (4, '(holes.mr.itd.umich.edu'), (3, 'when'), (3, 'webapp/vm/sitesetup'), (3, 'sleepers.mail.umich.edu'), (3, 'site'), (3, 'now'), (3, 'moot'), (3, 'line'), (3, 'left'), (3, 'jacknife.mail.umich.edu'), (3, 'flawless.mail.umich.edu'), (3, 'faithful.mail.umich.edu'), (3, 'entries'), (3, 'commented'), (3, 'bundle'), (3, 'bspace/site-manage/sakai_2-4-x/site-manage-tool/tool/src:'), (3, 'bspace/site-manage/sakai_2-4-x/site-manage-tool/tool/src/bundle/sitesetupgeneric.properties'), (3, '[141.211.14.97])'), (3, '[141.211.14.91])'), (3, '[141.211.14.90])'), (3, '[141.211.14.58])'), (3, '[141.211.14.39])'), (3, '19:51:21'), (3, '19:23:51'), (3, '18:08:57'), (3, '17:16:43'), (3, '17:05:14'), (3, '16:33:03'), (3, '16:27:30'), (3, '16:22:15'), (3, '16:09:02'), (3, '15:44:40'), (3, '15:01:38'), (3, '11:35:26'), (3, '11:33:06'), (3, '11:11:01'), (3, '11:10:05'), (3, '11:08:39'), (3, '10:37:06'), (3, '10:17:42'), (3, '10:15:57'), (3, '10:02:01'), (3, '1'), (3, '07:00:42'), (3, '06:06:47'), (3, '05'), (3, '04:47:30'), (3, '.'), (3, '+0200'), (3, '(unused)'), (3, '(salemslot.mr.itd.umich.edu'), (2, 'workinggirl.mr.itd.umich.edu'), (2, 'workaround'), (2, 'well'), (2, 'unmerge'), (2, 'ui'), (2, 'trunk'), (2, 'tool/src/webapp/WEB-INF'), (2, 'tool/src/java/org/sakaiproject/poll/tool/evolvers'), (2, 'tool/src/java/org/sakaiproject/poll/tool'), (2, 'text'), (2, 'tested'), (2, 'tadpole.mr.itd.umich.edu'), (2, 'sugested'), (2, 'should'), (2, 'shining.mr.itd.umich.edu'), (2, 'reply'), (2, 'refactored'), (2, 'r39753'), (2, 'polls/tool/src/webapp/WEB-INF/requestContext.xml'), (2, 'polls/branches/sakai_2-5-x/tool/src/java/org/sakaiproject/poll/tool/evolvers/SakaiFCKTextEvolver.java'), (2, 'podcasts/podcasts-app/src/webapp/podcasts/podMain.jsp'), (2, 'podcasts/podcasts-app/src/webapp/css/podcaster.css'), (2, 'podcasts/branches/sakai_2-5-x/podcasts-app/src/webapp:'), (2, 'podcasts/branches/sakai_2-5-x/podcasts-app/src/webapp/podcasts/podMain.jsp'), (2, 'podcasts/branches/sakai_2-5-x/podcasts-app/src/webapp/css/podcaster.css'), (2, 'podcasts/'), (2, 'podcasts'), (2, 'permissions'), (2, 'page'), (2, 'option'), (2, 'on'), (2, 'not'), (2, 'needs'), (2, 'msgcntr/trunk/messageforums-app/src/java/org/sakaiproject/tool/messageforums/PrivateMessagesTool.java'), (2, 'messageforums-app/src/java/org/sakaiproject/tool/messageforums/PrivateMessagesTool.java'), (2, 'list'), (2, 'josrodri@iupui.edu'), (2, 'java/org/sakaiproject/site/tool'), (2, 'it.mr.itd.umich.edu'), (2, 'into'), (2, 'implmented'), (2, 'if'), (2, 'hu2@iupui.edu'), (2, 'https://source.sakaiproject.org/svn/polls/trunk'), (2, 'https://source.sakaiproject.org/svn/msgcntr/trunk'), (2, 'helper'), (2, 'gradebook/trunk/app/ui/src/webapp/WEB-INF/requestContext.xml'), (2, 'gradebook/trunk/app/ui/src/webapp/WEB-INF/bundle/messages.properties'), (2, 'gradebook/trunk/app/ui/src/webapp/WEB-INF/applicationContext.xml'), (2, 'gradebook/trunk/app/ui/src/java/org/sakaiproject/tool/gradebook/ui/helpers/producers/GradeGradebookItemProducer.java'), (2, 'gradebook/trunk/app/ui/src/java/org/sakaiproject/tool/gradebook/ui/helpers/beans/AssignmentGradeRecordBean.java'), (2, 'gradebook/trunk/app/business/src/java/org/sakaiproject/tool/gradebook/business/impl/GradebookManagerHibernateImpl.java'), (2, 'gradebook/branches/oncourse_2-4-2/app/ui/src/java/org/sakaiproject/tool/gradebook/ui/RosterBean.java'), (2, 'gradebook/branches/oncourse_2-4-2/app/ui/src/java/org/sakaiproject/tool/gradebook/ui'), (2, 'grade'), (2, 'ghostbusters.mr.itd.umich.edu'), (2, 'gb'), (2, 'dreamcatcher.mr.itd.umich.edu'), (2, \"doesn't\"), (2, 'css'), (2, 'conflict'), (2, 'clarify'), (2, 'cc'), (2, 'carrie.mr.itd.umich.edu'), (2, 'build'), (2, 'branch:'), (2, 'app/ui/src/java/org/sakaiproject/tool/gradebook/ui/RosterBean.java'), (2, 'any'), (2, 'anniehall.mr.itd.umich.edu'), (2, 'and'), (2, 'against'), (2, '[141.211.93.149])'), (2, '[141.211.93.145])'), (2, '[141.211.93.142])'), (2, '[141.211.14.84])'), (2, '[141.211.14.83])'), (2, '[141.211.14.76])'), (2, \"Xingtang's\"), (2, 'Site'), (2, 'Sat'), (2, 'SAK-9882:'), (2, 'SAK-12228'), (2, 'SAK-12180'), (2, 'Removed:'), (2, 'Info'), (2, 'Grades\"'), (2, 'Fix'), (2, 'D'), (2, 'C'), (2, 'AB'), (2, 'A'), (2, '611'), (2, '39403'), (2, '35014'), (2, '23:10:10'), (2, '21:23:24'), (2, '2007-12-20'), (2, '20'), (2, '2-5-x'), (2, '15:03:15'), (2, '14:48:39'), (2, '12:01:53'), (2, '12'), (2, '11:09:14'), (2, '10:17:43'), (2, '09:12:18'), (2, '09:07:04'), (2, '09:03:51'), (2, '04:32:02'), (2, '04:05:53'), (2, '0.7605'), (2, '0.7556'), (2, '0.7002'), (2, '0.6959'), (2, '-c'), (2, '(icestorm.mr.itd.umich.edu'), (2, '(guys.mr.itd.umich.edu'), (2, '(galaxyquest.mr.itd.umich.edu'), (2, '(firestarter.mr.itd.umich.edu'), (2, '(eyewitness.mr.itd.umich.edu'), (2, '(creepshow.mr.itd.umich.edu'), (2, '(Wed,'), (2, '\"All'), (1, 'yourself.'), (1, 'work'), (1, 'webapp/WEB-INF/bundle'), (1, 'webapp/WEB-INF'), (1, 'web/trunk/web-tool/tool/src/bundle/iframe.properties'), (1, 'web/trunk/web-tool/tool/src/bundle'), (1, 'way'), (1, 'validation'), (1, 'util'), (1, 'use'), (1, 'update'), (1, 'ui/src/webapp/content/templates'), (1, 'ui/src/webapp/WEB-INF/bundle'), (1, 'ui/src/webapp/WEB-INF'), (1, 'ui/src/java/org/sakaiproject/tool/gradebook/ui/helpers/producers'), (1, 'ui/src/java/org/sakaiproject/tool/gradebook/ui/helpers/params'), (1, 'ui/src/java/org/sakaiproject/tool/gradebook/ui/helpers/entity'), (1, 'ui/src/java/org/sakaiproject/tool/gradebook/ui/helpers/beans'), (1, 'trace'), (1, 'to)'), (1, 'there'), (1, 'than'), (1, 'take'), (1, 'synchronize'), (1, 'state'), (1, 'stack'), (1, 'site/trunk/site-tool/tool/src/bundle/admin.properties'), (1, 'site/trunk/site-tool/tool/src/bundle'), (1, 'site.upd.site.mbrship'), (1, 'site.upd.grp.mbrship'), (1, 'site.upd,'), (1, 'site-manage/trunk/site-manage-tool/tool/src:'), (1, 'site-manage/trunk/site-manage-tool/tool/src/webapp/vm/sitesetup/chef_site-siteInfo-list.vm'), (1, 'site-manage/trunk/site-manage-tool/tool/src/java/org/sakaiproject/site/tool/SiteAction.java'), (1, 'site-manage/branches/sakai_2-5-x/site-manage-tool/tool/src/webapp/vm/sitesetup/chef_site-siteInfo-list.vm'), (1, 'site-manage/branches/sakai_2-5-x/site-manage-tool/tool/src/webapp/vm/sitesetup'), (1, 'site-manage/branches/sakai_2-4-x/site-manage-tool/tool/src/java/org/sakaiproject/site/tool/SiteAction.java'), (1, 'site-manage/branches/sakai_2-4-x/site-manage-tool/tool/src/java/org/sakaiproject/site/tool'), (1, 'site-manage'), (1, 'show'), (1, 'service/impl/src/java/org/sakaiproject/component/gradebook'), (1, 'service/api/src/java/org/sakaiproject/service/gradebook/shared'), (1, 'send'), (1, 'section'), (1, 'score.mail.umich.edu'), (1, 'samigo-services/src/java/org/sakaiproject/tool/assessment/shared/impl/grading'), (1, 'samigo-services/src/java/org/sakaiproject/tool/assessment/integration/helper/standalone'), (1, 'samigo-services/src/java/org/sakaiproject/tool/assessment/integration/helper/integrated'), (1, 'samigo-services/src/java/org/sakaiproject/tool/assessment/integration/helper/ifc'), (1, 'samigo-services/src/java/org/sakaiproject/tool/assessment/facade'), (1, 'samigo-app/src/java/org/sakaiproject/tool/assessment/ui/listener/evaluation'), (1, 'samigo-app/src/java/org/sakaiproject/tool/assessment/ui/bean/evaluation'), (1, 'samigo-api/src/java/org/sakaiproject/tool/assessment/shared/api/grading'), (1, 'sam/branches/SAK-12065:'), (1, 'sam/branches/SAK-12065/samigo-services/src/java/org/sakaiproject/tool/assessment/shared/impl/grading/GradingSectionAwareServiceImpl.java'), (1, 'sam/branches/SAK-12065/samigo-services/src/java/org/sakaiproject/tool/assessment/integration/helper/standalone/SectionAwareServiceHelperImpl.java'), (1, 'sam/branches/SAK-12065/samigo-services/src/java/org/sakaiproject/tool/assessment/integration/helper/integrated/SectionAwareServiceHelperImpl.java'), (1, 'sam/branches/SAK-12065/samigo-services/src/java/org/sakaiproject/tool/assessment/integration/helper/ifc/SectionAwareServiceHelper.java'), (1, 'sam/branches/SAK-12065/samigo-services/src/java/org/sakaiproject/tool/assessment/facade/PublishedAssessmentFacadeQueriesAPI.java'), (1, 'sam/branches/SAK-12065/samigo-services/src/java/org/sakaiproject/tool/assessment/facade/PublishedAssessmentFacadeQueries.java'), (1, 'sam/branches/SAK-12065/samigo-app/src/java/org/sakaiproject/tool/assessment/ui/listener/evaluation/SubmissionStatusListener.java'), (1, 'sam/branches/SAK-12065/samigo-app/src/java/org/sakaiproject/tool/assessment/ui/bean/evaluation/TotalScoresBean.java'), (1, 'sam/branches/SAK-12065/samigo-app/src/java/org/sakaiproject/tool/assessment/ui/bean/evaluation/SubmissionStatusBean.java'), (1, 'sam/branches/SAK-12065/samigo-app/src/java/org/sakaiproject/tool/assessment/ui/bean/evaluation/QuestionScoresBean.java'), (1, 'sam/branches/SAK-12065/samigo-api/src/java/org/sakaiproject/tool/assessment/shared/api/grading/GradingSectionAwareServiceAPI.java'), (1, 'row'), (1, 'roles'), (1, 'right'), (1, 'resolved'), (1, 'required'), (1, 'r39772'), (1, 'r39771'), (1, 'r39770'), (1, 'r39769'), (1, 'r39766'), (1, 'r39765'), (1, 'r39764'), (1, 'r39763'), (1, 'r39762'), (1, 'r39761'), (1, 'r39760'), (1, 'r39759'), (1, 'r39758'), (1, 'r39757'), (1, 'r39756'), (1, 'r39755'), (1, 'r39754'), (1, 'r39752'), (1, 'r39751'), (1, 'r39750'), (1, 'r39749'), (1, 'r39746'), (1, 'r39745'), (1, 'r39744'), (1, 'r39743'), (1, 'r39742'), (1, 'r39641'), (1, 'r39632:3'), (1, 'r39624:5,'), (1, 'r39622,'), (1, 'r39622)'), (1, 'r39571'), (1, 'r39558'), (1, 'r39403'), (1, 'r39146'), (1, 'r35014'), (1, 'providers/trunk/cm/cm-authz-provider/src/java/org/sakaiproject/coursemanagement/impl/provider/CourseManagementGroupProvider.java'), (1, 'providers/trunk/cm/cm-authz-provider/src/java/org/sakaiproject/coursemanagement/impl/provider'), (1, 'provider'), (1, 'provided'), (1, 'provide'), (1, 'proper'), (1, 'project'), (1, 'polls/trunk:'), (1, 'polls/trunk/tool/src/webapp/WEB-INF/requestContext.xml'), (1, 'polls/trunk/tool/src/java/org/sakaiproject/poll/tool/evolvers/SakaiFCKTextEvolver.java'), (1, 'polls/trunk/tool/src/java/org/sakaiproject/poll/tool/evolvers/'), (1, 'polls/trunk/tool/pom.xml'), (1, 'polls/trunk/.classpath'), (1, 'polls/tool/src/java/org/sakaiproject/poll/tool/evolvers/SakaiFCKTextEvolver.java'), (1, 'polls/tool/src/java/org/sakaiproject/poll/tool/evolvers'), (1, 'polls/tool/pom.xml'), (1, 'polls/branches/sakai_2-5-x:'), (1, 'polls/branches/sakai_2-5-x/tool/src/webapp/WEB-INF/requestContext.xml'), (1, 'polls/branches/sakai_2-5-x/tool/src/java/org/sakaiproject/poll/tool/evolvers/'), (1, 'polls/branches/sakai_2-5-x/tool/pom.xml'), (1, 'polls/branches/sakai_2-5-x/.classpath'), (1, 'polls/.classpath'), (1, 'polls/'), (1, 'podcasts/podcasts-app/src/webapp/podcasts/podPermissions.jsp'), (1, 'podcasts/podcasts-app/src/webapp/podcasts/podOptions.jsp'), (1, 'podcasts/podcasts-app/src/webapp/podcasts/podNoResource.jsp'), (1, 'podcasts/podcasts-app/src/webapp/podcasts/podDelete.jsp'), (1, 'podcasts/podcasts-app/src/webapp/images/rss-feed-icon.png'), (1, 'podcasts/branches/sakai_2-5-x/podcasts-app/src/webapp/podcasts/podPermissions.jsp'), (1, 'podcasts/branches/sakai_2-5-x/podcasts-app/src/webapp/podcasts/podOptions.jsp'), (1, 'podcasts/branches/sakai_2-5-x/podcasts-app/src/webapp/podcasts/podNoResource.jsp'), (1, 'podcasts/branches/sakai_2-5-x/podcasts-app/src/webapp/podcasts/podDelete.jsp'), (1, 'podcasts/branches/sakai_2-5-x/podcasts-app/src/webapp/images/rss-feed-icon.png'), (1, 'podMain.jsp'), (1, 'participant'), (1, 'pages'), (1, 'other'), (1, 'or'), (1, 'one.'), (1, 'oncourse/branches/oncourse_OPC_122007/.externals'), (1, 'oncourse/branches/oncourse_OPC_122007/'), (1, 'oncourse/branches/oncourse_OPC_122007'), (1, 'object'), (1, 'null.'), (1, 'null'), (1, 'no'), (1, 'name.'), (1, 'multiple'), (1, 'much'), (1, 'msgcntr/trunk:'), (1, 'msgcntr/trunk/messageforums-app/src/java/org/sakaiproject/tool/messageforums:'), (1, 'msgcntr/trunk/messageforums-app/src/java/org/sakaiproject/tool/messageforums/ui/PrivateMessageDecoratedBean.java'), (1, 'msgcntr/trunk/messageforums-api/src/bundle/org/sakaiproject/api/app/messagecenter/bundle/Messages.properties'), (1, 'more'), (1, 'mission.mail.umich.edu'), (1, 'methods'), (1, 'messageforums-app/src/java/org/sakaiproject/tool/messageforums/ui/PrivateMessageDecoratedBean.java'), (1, 'messageforums-app/src/java/org/sakaiproject/tool/messageforums'), (1, 'messageforums-api/src/bundle/org/sakaiproject/api/app/messagecenter/bundle/Messages.properties'), (1, 'messageforums-api/src/bundle/org/sakaiproject/api/app/messagecenter/bundle'), (1, 'merged'), (1, 'manualy'), (1, 'mailarchive/trunk/mailarchive-tool/tool/src/bundle/email.properties'), (1, 'mailarchive/trunk/mailarchive-tool/tool/src/bundle'), (1, 'm05EEFR1013674;'), (1, 'm05ECJVp010329'), (1, 'm05ECIaH010327'), (1, 'm04NAbGa029441;'), (1, 'm04N8vHG008127'), (1, 'm04N8v6O008125'), (1, 'm04LAcZw014275;'), (1, 'm04L92hb007923'), (1, 'm04L927E007925'), (1, 'm04KkNbx032077;'), (1, 'm04KieqE007883'), (1, 'm04Kiem3007881'), (1, 'm04K3HGF006563;'), (1, 'm04K1cXv007740'), (1, 'm04K1cO0007738'), (1, 'm04JoHJi019755;'), (1, 'm04JmeV9007707'), (1, 'm04JmdwO007705'), (1, 'm04GbT9x022078;'), (1, 'm04GZQGZ007313'), (1, 'm04GZQ7W007315'), (1, 'm04GZ6lt020480;'), (1, 'm04GX6eG007292'), (1, 'm04GX6Y3007294'), (1, 'm04GCaHB030887;'), (1, 'm04GBqqv025330;'), (1, 'm04GB3Vg011502;'), (1, 'm04GB1Wt007223'), (1, 'm04GB1Lb007221'), (1, 'm04GAL9k010604;'), (1, 'm04GA5LR007211'), (1, 'm04GA5KP007209'), (1, 'm04G9EuX007197'), (1, 'm04G9Eqg007199'), (1, 'm04G8dXN007186'), (1, 'm04G8d7w007184'), (1, 'm04Fcfjm012313;'), (1, 'm04Fb6nh007094'), (1, 'm04Fb6Ci007092'), (1, 'm04FHgfs011536;'), (1, 'm04FFv85007052'), (1, 'm04FFv42007050'), (1, 'm04F4Dci015108;'), (1, 'm04F21hn007033'), (1, 'm04F21Jo007031'), (1, 'm04E5U3C029277;'), (1, 'm04E3psW006926'), (1, 'm04E3pQS006928'), (1, 'm04C2VN7026678;'), (1, 'm04C0gnm006795'), (1, 'm04C0gfK006793'), (1, 'm04B8Qw9001368;'), (1, 'm04B6lWM006679'), (1, 'm04B6lK3006677'), (1, 'm049n60G017588;'), (1, 'm049lUxo006517'), (1, 'm049lU3P006519'), (1, 'm049Xge3031803;'), (1, 'm049W3fl006495'), (1, 'm049W2i5006493'), (1, 'm0497WAN027902;'), (1, 'm0495sZs006422'), (1, 'm0495rWB006420'), (1, 'm040pJHB027171;'), (1, 'm040NpgM005475'), (1, 'm040NpCc005473'), (1, 'm03MIMXY027729;'), (1, 'm03MGhrs005294'), (1, 'm03MGhDa005292'), (1, 'm03M6xaq014868;'), (1, 'm03M5Ea7005273'), (1, 'm03M5EQa005275'), (1, 'm03LYdY1029538;'), (1, 'm03LX3gG005191'), (1, 'm03LX3Vb005193'), (1, 'm03LT6uw027749;'), (1, 'm03LRUqH005177'), (1, 'm03LRUk4005179'), (1, 'm03LNlf0002115;'), (1, 'm03LMFtT005150'), (1, 'm03LMFo4005148'), (1, 'logic'), (1, 'local'), (1, 'linebreaks'), (1, 'like'), (1, 'least'), (1, 'jsp'), (1, 'java/org/sakaiproject/tool/gradebook/ui/helpers/producers'), (1, 'java/org/sakaiproject/tool/gradebook/ui/helpers/beans'), (1, 'is'), (1, 'integration'), (1, 'information,'), (1, 'incomplete'), (1, 'include'), (1, 'impl/support'), (1, 'impl/spring/support/dynamic'), (1, 'impl/spring/support'), (1, 'impl'), (1, 'images'), (1, 'ids'), (1, 'https://source.sakaiproject.org/svn/site-manage/trunk/'), (1, 'http://source.sakaiproject.org/viewsvn/?view=rev&rev=39772'), (1, 'http://source.sakaiproject.org/viewsvn/?view=rev&rev=39771'), (1, 'http://source.sakaiproject.org/viewsvn/?view=rev&rev=39770'), (1, 'http://source.sakaiproject.org/viewsvn/?view=rev&rev=39769'), (1, 'http://source.sakaiproject.org/viewsvn/?view=rev&rev=39766'), (1, 'http://source.sakaiproject.org/viewsvn/?view=rev&rev=39765'), (1, 'http://source.sakaiproject.org/viewsvn/?view=rev&rev=39764'), (1, 'http://source.sakaiproject.org/viewsvn/?view=rev&rev=39763'), (1, 'http://source.sakaiproject.org/viewsvn/?view=rev&rev=39762'), (1, 'http://source.sakaiproject.org/viewsvn/?view=rev&rev=39761'), (1, 'http://source.sakaiproject.org/viewsvn/?view=rev&rev=39760'), (1, 'http://source.sakaiproject.org/viewsvn/?view=rev&rev=39759'), (1, 'http://source.sakaiproject.org/viewsvn/?view=rev&rev=39758'), (1, 'http://source.sakaiproject.org/viewsvn/?view=rev&rev=39757'), (1, 'http://source.sakaiproject.org/viewsvn/?view=rev&rev=39756'), (1, 'http://source.sakaiproject.org/viewsvn/?view=rev&rev=39755'), (1, 'http://source.sakaiproject.org/viewsvn/?view=rev&rev=39754'), (1, 'http://source.sakaiproject.org/viewsvn/?view=rev&rev=39753'), (1, 'http://source.sakaiproject.org/viewsvn/?view=rev&rev=39752'), (1, 'http://source.sakaiproject.org/viewsvn/?view=rev&rev=39751'), (1, 'http://source.sakaiproject.org/viewsvn/?view=rev&rev=39750'), (1, 'http://source.sakaiproject.org/viewsvn/?view=rev&rev=39749'), (1, 'http://source.sakaiproject.org/viewsvn/?view=rev&rev=39746'), (1, 'http://source.sakaiproject.org/viewsvn/?view=rev&rev=39745'), (1, 'http://source.sakaiproject.org/viewsvn/?view=rev&rev=39744'), (1, 'http://source.sakaiproject.org/viewsvn/?view=rev&rev=39743'), (1, 'http://source.sakaiproject.org/viewsvn/?view=rev&rev=39742'), (1, 'http://jira.sakaiproject.org/jira/browse/SAK-12504'), (1, 'http://jira.sakaiproject.org/jira/browse/SAK-12488'), (1, 'http://jira.sakaiproject.org/jira/browse/SAK-12484'), (1, 'http://bugs.sakaiproject.org/jira/browse/SAK-12596'), (1, 'http://bugs.sakaiproject.org/jira/browse/SAK-12595'), (1, 'http://bugs.sakaiproject.org/jira/browse/SAK-12592'), (1, 'http://bugs.sakaiproject.org/jira/browse/SAK-12175'), (1, 'http://bugs.sakaiproject.org/jira/browse/SAK-11458'), (1, 'have'), (1, 'has'), (1, 'groups/sections'), (1, 'grading'), (1, 'grader'), (1, 'gradebook/trunk:'), (1, 'gradebook/trunk/service/impl/src/java/org/sakaiproject/component/gradebook/GradebookServiceHibernateImpl.java'), (1, 'gradebook/trunk/service/api/src/java/org/sakaiproject/service/gradebook/shared/GradebookService.java'), (1, 'gradebook/trunk/app:'), (1, 'gradebook/trunk/app/ui/src:'), (1, 'gradebook/trunk/app/ui/src/webapp/content/templates/grade-gradebook-item.html'), (1, 'gradebook/trunk/app/ui/src/java/org/sakaiproject/tool/gradebook/ui/helpers/producers/AddGradebookItemProducer.java'), (1, 'gradebook/trunk/app/ui/src/java/org/sakaiproject/tool/gradebook/ui/helpers/params/GradeGradebookItemViewParams.java'), (1, 'gradebook/trunk/app/ui/src/java/org/sakaiproject/tool/gradebook/ui/helpers/entity/GradebookEntryGradeEntityProvider.java'), (1, 'gradebook/trunk/app/ui/src/java/org/sakaiproject/tool/gradebook/ui/helpers/entity/GradebookEntryEntityProvider.java'), (1, 'gradebook/trunk/app/ui/src/java/org/sakaiproject/tool/gradebook/ui/helpers/beans/GradebookItemBean.java'), (1, 'gradebook/trunk/app/ui/src/java/org/sakaiproject/tool/gradebook/ui/helpers/beans/AssignmentGradeRecordCreator.java'), (1, 'gradebook/trunk/app/ui/pom.xml'), (1, 'gradebook/trunk/app/business/src/java/org/sakaiproject/tool/gradebook/business/GradebookManager.java'), (1, 'godsend.mail.umich.edu'), (1, 'getGradeDefinitionForStudentForItem'), (1, 'filter.'), (1, 'filter'), (1, 'fake'), (1, 'external'), (1, 'event/branches/SAK-6216/event-util/util/src/java/org/sakaiproject/util/EmailNotification.java'), (1, 'event/branches/SAK-6216/event-util/util/src/java/org/sakaiproject/util'), (1, 'event'), (1, 'errors'), (1, 'enrollments'), (1, 'empty'), (1, 'does'), (1, 'differing'), (1, 'current'), (1, 'couse'), (1, 'convenience'), (1, 'content/branches/sakai_2-5-x/content-impl/impl/src/java/org/sakaiproject/content/impl/DbContentService.java'), (1, 'content/branches/sakai_2-5-x/content-impl/impl/src/java/org/sakaiproject/content/impl/ContentServiceSqlOracle.java'), (1, 'content/branches/sakai_2-5-x/content-impl/impl/src/java/org/sakaiproject/content/impl'), (1, 'conflicted'), (1, 'concatenate'), (1, 'components'), (1, 'component/branches/SAK-12166/component-api/component/src/java/org/sakaiproject/component:'), (1, 'component/branches/SAK-12166/component-api/component/src/java/org/sakaiproject/component/util/StreamDigestor.java'), (1, 'component/branches/SAK-12166/component-api/component/src/java/org/sakaiproject/component/util/RecordWriter.java'), (1, 'component/branches/SAK-12166/component-api/component/src/java/org/sakaiproject/component/util/RecordReader.java'), (1, 'component/branches/SAK-12166/component-api/component/src/java/org/sakaiproject/component/util/RecordFileIO.java'), (1, 'component/branches/SAK-12166/component-api/component/src/java/org/sakaiproject/component/util/FileUtil.java'), (1, 'component/branches/SAK-12166/component-api/component/src/java/org/sakaiproject/component/util/ByteToCharBase64.java'), (1, 'component/branches/SAK-12166/component-api/component/src/java/org/sakaiproject/component/impl/support/JARRecord.java'), (1, 'component/branches/SAK-12166/component-api/component/src/java/org/sakaiproject/component/impl/support/DynamicJARManager.java'), (1, 'component/branches/SAK-12166/component-api/component/src/java/org/sakaiproject/component/impl/support/DynamicComponentRecord.java'), (1, 'component/branches/SAK-12166/component-api/component/src/java/org/sakaiproject/component/impl/support/'), (1, 'component/branches/SAK-12166/component-api/component/src/java/org/sakaiproject/component/impl/spring/support/dynamic/DynamicComponentManager.java'), (1, 'component/branches/SAK-12166/component-api/component/src/java/org/sakaiproject/component/impl/spring/support/dynamic/'), (1, 'component/branches/SAK-12166/component-api/component/src/java/org/sakaiproject/component/impl/spring/support/ComponentsLoaderImpl.java'), (1, 'commit'), (1, 'closer'), (1, 'click'), (1, 'cleanup.'), (1, 'checkin'), (1, 'check'), (1, 'chaos.mail.umich.edu'), (1, 'change'), (1, 'causes'), (1, 'categories'), (1, 'casino.mail.umich.edu'), (1, 'caching'), (1, 'business/src/java/org/sakaiproject/tool/gradebook/business/impl'), (1, 'business/src/java/org/sakaiproject/tool/gradebook/business'), (1, 'build)'), (1, 'bspace/site-manage/sakai_2-4-x/site-manage-tool/tool/src/webapp/vm/sitesetup/chef_site-siteInfo-duplicate.vm'), (1, 'bspace/site-manage/sakai_2-4-x/site-manage-tool/tool/src/webapp/vm/sitesetup/chef_site-importSites.vm'), (1, 'bspace/site-manage/sakai_2-4-x/site-manage-tool/tool/src/java/org/sakaiproject/site/tool/SiteAction.java'), (1, 'branch'), (1, 'being'), (1, 'assignment/trunk:'), (1, 'assignment/trunk/assignment-tool/tool/src/webapp/vm/assignment/chef_assignments_instructor_list_submissions.vm'), (1, 'assignment/trunk/assignment-impl/impl/src/java/org/sakaiproject/assignment/impl/BaseAssignmentService.java'), (1, 'assignment-tool/tool/src/webapp/vm/assignment'), (1, 'assignment-impl/impl/src/java/org/sakaiproject/assignment/impl'), (1, 'assignment'), (1, 'are'), (1, 'appears'), (1, 'appear'), (1, 'app/business/src/java/org/sakaiproject/tool/gradebook/business/impl'), (1, 'an'), (1, 'all,'), (1, 'all'), (1, 'advantage'), (1, '[141.211.93.153])'), (1, '[141.211.93.152])'), (1, '[141.211.93.151])'), (1, '[141.211.93.144])'), (1, '[141.211.93.143])'), (1, '[141.211.93.141])'), (1, '[141.211.14.98])'), (1, '[141.211.14.93])'), (1, '[141.211.14.92])'), (1, '[141.211.14.72])'), (1, '[141.211.14.43])'), (1, '[141.211.14.36])'), (1, '[141.211.14.34])'), (1, 'Wed'), (1, 'Watch'), (1, 'WS'), (1, 'Viewing'), (1, 'View'), (1, 'Update'), (1, 'UCT'), (1, 'Temporary'), (1, 'TA'), (1, 'SubmissionStatus/TotalScores/Questions'), (1, 'Site\"'), (1, 'Setup'), (1, 'Sep'), (1, 'Samigo'), (1, 'SAK-9996'), (1, 'SAK-6216'), (1, \"SAK-12604:Don't\"), (1, 'SAK-12602'), (1, 'SAK-12596'), (1, 'SAK-12595'), (1, 'SAK-12592'), (1, 'SAK-12504'), (1, 'SAK-12501'), (1, 'SAK-12488.'), (1, 'SAK-12488'), (1, 'SAK-12484.'), (1, 'SAK-12484'), (1, 'SAK-12175'), (1, 'SAK-12065'), (1, 'SAK-11458'), (1, 'SAK-11169'), (1, 'SAK-10911:'), (1, 'SAK-10788:'), (1, 'SAK-10788'), (1, 'Resolved'), (1, 'Repository'), (1, 'Release.'), (1, 'Refactor'), (1, 'Nov'), (1, 'Notification'), (1, 'Materials...\"'), (1, 'MST'), (1, 'MODIFY'), (1, 'JAR'), (1, 'If'), (1, 'Group'), (1, 'Gopal'), (1, 'GB.'), (1, 'Fixed'), (1, 'Files'), (1, 'EF439B98CE;'), (1, 'E6CC4B9F8A;'), (1, 'E40FABAE5B;'), (1, 'DEC65ADC79;'), (1, 'D430B42E42'), (1, 'Create'), (1, 'Course'), (1, 'Changed'), (1, 'CEFA037ACE'), (1, 'CC710ADC79;'), (1, 'C7251BAD44;'), (1, 'C596A3DFA2'), (1, 'C48CDBB490;'), (1, 'BSP-1421'), (1, 'BSP-1420'), (1, 'BSP-1415'), (1, 'BD02DBAC64;'), (1, 'B3E6742F4A'), (1, 'Assignment2'), (1, 'Add'), (1, 'AC2F6236B9'), (1, 'AB4D042F4D'), (1, 'A55D242F57'), (1, 'A215243002'), (1, '<200801051412.m05ECIaH010327@nakamura.uits.iupui.edu>'), (1, '<200801042308.m04N8v6O008125@nakamura.uits.iupui.edu>'), (1, '<200801042109.m04L92hb007923@nakamura.uits.iupui.edu>'), (1, '<200801042044.m04Kiem3007881@nakamura.uits.iupui.edu>'), (1, '<200801042001.m04K1cO0007738@nakamura.uits.iupui.edu>'), (1, '<200801041948.m04JmdwO007705@nakamura.uits.iupui.edu>'), (1, '<200801041635.m04GZQGZ007313@nakamura.uits.iupui.edu>'), (1, '<200801041633.m04GX6eG007292@nakamura.uits.iupui.edu>'), (1, '<200801041611.m04GB1Lb007221@nakamura.uits.iupui.edu>'), (1, '<200801041610.m04GA5KP007209@nakamura.uits.iupui.edu>'), (1, '<200801041609.m04G9EuX007197@nakamura.uits.iupui.edu>'), (1, '<200801041608.m04G8d7w007184@nakamura.uits.iupui.edu>'), (1, '<200801041537.m04Fb6Ci007092@nakamura.uits.iupui.edu>'), (1, '<200801041515.m04FFv42007050@nakamura.uits.iupui.edu>'), (1, '<200801041502.m04F21Jo007031@nakamura.uits.iupui.edu>'), (1, '<200801041403.m04E3psW006926@nakamura.uits.iupui.edu>'), (1, '<200801041200.m04C0gfK006793@nakamura.uits.iupui.edu>'), (1, '<200801041106.m04B6lK3006677@nakamura.uits.iupui.edu>'), (1, '<200801040947.m049lUxo006517@nakamura.uits.iupui.edu>'), (1, '<200801040932.m049W2i5006493@nakamura.uits.iupui.edu>'), (1, '<200801040905.m0495rWB006420@nakamura.uits.iupui.edu>'), (1, '<200801040023.m040NpCc005473@nakamura.uits.iupui.edu>'), (1, '<200801032216.m03MGhDa005292@nakamura.uits.iupui.edu>'), (1, '<200801032205.m03M5Ea7005273@nakamura.uits.iupui.edu>'), (1, '<200801032133.m03LX3gG005191@nakamura.uits.iupui.edu>'), (1, '<200801032127.m03LRUqH005177@nakamura.uits.iupui.edu>'), (1, '<200801032122.m03LMFo4005148@nakamura.uits.iupui.edu>'), (1, '9F89542DD0'), (1, '9D005B9D06;'), (1, '99715BAE7D;'), (1, '98D04BAD43;'), (1, '966'), (1, '960'), (1, '933E3BAC17;'), (1, '917'), (1, '90636418A8'), (1, '906'), (1, '905D53C2FD'), (1, '8D13DBB001;'), (1, '8C13342C92'), (1, '899'), (1, '8889842C49'), (1, '88598BA5B6;'), (1, '7D13042F71'), (1, '784A476D7B;'), (1, '754'), (1, '710'), (1, '6C929BA656;'), (1, '6C69423767'), (1, '6A39594CD2;'), (1, '697'), (1, '690'), (1, '6497FBA906;'), (1, '62AA4BAE46;'), (1, '622'), (1, '6'), (1, '5F919BC2F2;'), (1, '5B396236B9'), (1, '585'), (1, '57770BB477;'), (1, '575'), (1, '554'), (1, '5296342D3C'), (1, '4BA2F42F57'), (1, '4AE03BB552;'), (1, '483'), (1, '477F90B0.2DB2F.12494'), (1, '477EBCE3.161BB.4320'), (1, '477EA0C6.A0214.25480'), (1, '477E9B13.2F3BC.22965'), (1, '477E9100.8F7F4.1590'), (1, '477E8DF2.67B91.5278'), (1, '477E60B2.82756.9904'), (1, '477E6033.6469D.21870'), (1, '477E5AEB.E670B.28397'), (1, '477E5AB3.5CC32.30840'), (1, '477E5A8D.B378F.24200'), (1, '477E5A67.34350.23015'), (1, '477E52FA.E6C6E.24093'), (1, '477E4E0F.CCA4B.926'), (1, '477E4AE3.D7AF.31669'), (1, '477E3D23.EE2E7.5237'), (1, '477E2050.C2599.3263'), (1, '477E13A5.30FC0.24054'), (1, '477E010C.48C2.10259'), (1, '477DFD6C.75DBE.26054'), (1, '477DF74E.49493.30415'), (1, '477D8300.AC098.32562'), (1, '477D5F23.797F6.16348'), (1, '477D5C7A.4FE1F.22211'), (1, '477D54EA.13F34.26602'), (1, '477D5397.E161D.20326'), (1, '477D525E.1448.30389'), (1, '43C4242B55'), (1, '3C0261D617'), (1, '39772'), (1, '39771'), (1, '39770'), (1, '39769'), (1, '39766'), (1, '39765'), (1, '39764'), (1, '39763'), (1, '39762'), (1, '39761'), (1, '39760'), (1, '39759'), (1, '39758'), (1, '39757'), (1, '39756'), (1, '39755'), (1, '39754'), (1, '39753'), (1, '39752'), (1, '39751'), (1, '39750'), (1, '39749'), (1, '39746'), (1, '39745'), (1, '39744'), (1, '39743'), (1, '39742'), (1, '39687:39688'), (1, '39571'), (1, '39558'), (1, '385'), (1, '38'), (1, '3535542B69'), (1, '33C7856DC0;'), (1, '32'), (1, '2E7043DFA2'), (1, '2D1B9BB492;'), (1, '2AB513C2FD'), (1, '28'), (1, '272'), (1, '254CC8CDEE;'), (1, '25'), (1, '246'), (1, '23:44:24'), (1, '23:10:33'), (1, '236'), (1, '22:18:19'), (1, '22:18:04'), (1, '22:17:52'), (1, '22:06:57'), (1, '22:06:34'), (1, '22:06:23'), (1, '21:40:33'), (1, '21:34:29'), (1, '21:34:12'), (1, '21:34:08'), (1, '21:28:52'), (1, '21:28:39'), (1, '21:28:38'), (1, '21:26:28'), (1, '21:23:38'), (1, '21:10:31'), (1, '21:10:18'), (1, '21:10:14'), (1, '20:46:13'), (1, '20:45:56'), (1, '20:45:52'), (1, '20:03:09'), (1, '20:02:50'), (1, '20:02:46'), (1, '2008-01-05'), (1, '2007-12-28'), (1, '2007-12-17'), (1, '2007-12-12'), (1, '2007-09-12'), (1, '2007'), (1, '2.4.x'), (1, '2-5-x:'), (1, '1FBB042B30'), (1, '1CD0C42E42'), (1, '1CACC42D0C'), (1, '19:51:20'), (1, '19:51:19'), (1, '19:51:15'), (1, '19:49:51'), (1, '19:47:10'), (1, '19:46:50'), (1, '19:23:46'), (1, '18:10:37'), (1, '18:10:31'), (1, '18:08:50'), (1, '17:18:22'), (1, '17:18:14'), (1, '17:16:39'), (1, '17:11:08'), (1, '17:06:59'), (1, '17:06:53'), (1, '17:05:11'), (1, '17'), (1, '16:37:07'), (1, '16:36:40'), (1, '16:36:37'), (1, '16:34:39'), (1, '16:34:38'), (1, '16:34:36'), (1, '16:34:17'), (1, '16:34:01'), (1, '16:33:02'), (1, '16:29:06'), (1, '16:28:58'), (1, '16:27:29'), (1, '16:23:47'), (1, '16:23:44'), (1, '16:22:14'), (1, '16:17:59'), (1, '16:12:27'), (1, '16:12:14'), (1, '16:12:12'), (1, '16:11:31'), (1, '16:11:18'), (1, '16:11:16'), (1, '16:10:53'), (1, '16:10:38'), (1, '16:10:33'), (1, '16:10:27'), (1, '16:10:26'), (1, '16:10:11'), (1, '16:09:51'), (1, '16:09:50'), (1, '16:09:01'), (1, '15:46:23'), (1, '15:46:13'), (1, '15:44:39'), (1, '15:38:17'), (1, '15:37:36'), (1, '15:37:21'), (1, '15:25:38'), (1, '15:17:34'), (1, '15:17:11'), (1, '15:17:08'), (1, '15:04:00'), (1, '15:03:17'), (1, '15:03:12'), (1, '15:01:37'), (1, '153'), (1, '14:54:46'), (1, '14:50:17'), (1, '14:50:13'), (1, '14:48:40'), (1, '14:48:37'), (1, '14:13:33'), (1, '14:10:05'), (1, '14:09:50'), (1, '14:05:26'), (1, '14:05:04'), (1, '14:05:03'), (1, '13:05:51'), (1, '12:02:11'), (1, '120'), (1, '11:37:29'), (1, '11:37:09'), (1, '11:35:25'), (1, '11:35:06'), (1, '11:35:02'), (1, '11:33:05'), (1, '11:12:36'), (1, '11:12:30'), (1, '11:11:34'), (1, '11:11:00'), (1, '11:10:56'), (1, '11:10:21'), (1, '11:10:18'), (1, '11:10:04'), (1, '11:09:15'), (1, '11:09:12'), (1, '11:08:38'), (1, '11:08:12'), (1, '11:07:58'), (1, '11:07:56'), (1, '10:38:41'), (1, '10:38:37'), (1, '10:37:04'), (1, '10:17:38'), (1, '10:15:54'), (1, '10:04:13'), (1, '10:04:05'), (1, '10:01:40'), (1, '1006'), (1, '0BC8D7225E;'), (1, '0A6ED42DFC'), (1, '09:48:55'), (1, '09:48:40'), (1, '09:48:36'), (1, '09:33:27'), (1, '09:33:13'), (1, '09:33:10'), (1, '09:14:15'), (1, '09:14:10'), (1, '09:12:19'), (1, '09:12:07'), (1, '09:07:19'), (1, '09:05:30'), (1, '09:05:26'), (1, '09:03:52'), (1, '09:02:54'), (1, '07:02:31'), (1, '07:02:27'), (1, '07:00:10'), (1, '07969BB706;'), (1, '07'), (1, '06:08:26'), (1, '06:08:23'), (1, '06:05:51'), (1, '04:49:06'), (1, '04:49:03'), (1, '04:47:16'), (1, '04:33:42'), (1, '04:33:35'), (1, '04:32:03'), (1, '04:31:35'), (1, '04:07:32'), (1, '04:07:29'), (1, '04:05:54'), (1, '04:05:43'), (1, '00:36:06'), (1, '00:35:43'), (1, '00:25:00'), (1, '0.9907'), (1, '0.9846'), (1, '0.8509'), (1, '0.8475'), (1, '0.7626'), (1, '0.7615'), (1, '0.7606'), (1, '0.7601'), (1, '0.7565'), (1, '0.7559'), (1, '0.7558'), (1, '0.7554'), (1, '0.6961'), (1, '0.6956'), (1, '0.6948'), (1, '0.6932'), (1, '0.6528'), (1, '0.6526'), (1, '0.6178'), (1, '/site-manage/trunk/site-manage-tool/tool/src/java/org/sakaiproject/site/tool/SiteAction.java'), (1, '-r39753'), (1, '-r39641'), (1, '-r39571:39570'), (1, '-r39558:39557'), (1, '-r39146'), (1, '-c39753'), (1, '-c39641'), (1, '-c39146'), (1, '-0400'), (1, '(workinggirl.mr.itd.umich.edu'), (1, '(tadpole.mr.itd.umich.edu'), (1, '(shining.mr.itd.umich.edu'), (1, '(resolve'), (1, '(r39033)'), (1, '(it.mr.itd.umich.edu'), (1, '(ghostbusters.mr.itd.umich.edu'), (1, '(for'), (1, '(dreamcatcher.mr.itd.umich.edu'), (1, '(carrie.mr.itd.umich.edu'), (1, '(at'), (1, '(anniehall.mr.itd.umich.edu'), (1, '(Sat,'), (1, '(Mon,'), (1, '(Guest)'), (1, \"'polls/tool/src/webapp/WEB-INF/requestContext.xml\"), (1, '#38024'), (1, '\"Re-Use'), (1, '\"Duplicate')]\n"
     ]
    }
   ],
   "source": [
    "# Word Count\n",
    "# The top 10 most common words\n",
    "\n",
    "fhand = open('mbox-short.txt')\n",
    "counts = dict()\n",
    "for line in fhand:\n",
    "    words = line.split()\n",
    "    for word in words:\n",
    "        counts[word] = counts.get(word, 0 ) + 1\n",
    "\n",
    "lst = list()\n",
    "for key, val in counts.items():\n",
    "    lst.append( (val, key) )\n",
    "\n",
    "lst.sort(reverse=True)\n",
    "\n",
    "for val, key in lst[:10] :\n",
    "    print(key, val)\n",
    "print('\\n\\n\\n')\n",
    "print(lst)"
   ]
  },
  {
   "cell_type": "code",
   "execution_count": null,
   "metadata": {},
   "outputs": [],
   "source": []
  }
 ],
 "metadata": {
  "kernelspec": {
   "display_name": "Python 3",
   "language": "python",
   "name": "python3"
  },
  "language_info": {
   "codemirror_mode": {
    "name": "ipython",
    "version": 3
   },
   "file_extension": ".py",
   "mimetype": "text/x-python",
   "name": "python",
   "nbconvert_exporter": "python",
   "pygments_lexer": "ipython3",
   "version": "3.6.4"
  }
 },
 "nbformat": 4,
 "nbformat_minor": 2
}
